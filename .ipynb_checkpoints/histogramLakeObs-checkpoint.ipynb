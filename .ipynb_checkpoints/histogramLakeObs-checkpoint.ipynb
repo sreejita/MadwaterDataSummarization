{
 "cells": [
  {
   "cell_type": "code",
   "execution_count": 15,
   "metadata": {
    "collapsed": true
   },
   "outputs": [],
   "source": [
    "import os\n",
    "import csv\n",
    "import plotly.plotly as py\n",
    "import plotly.graph_objs as go"
   ]
  },
  {
   "cell_type": "code",
   "execution_count": 16,
   "metadata": {},
   "outputs": [
    {
     "name": "stdout",
     "output_type": "stream",
     "text": [
      "WISCONSIN_SITES\n",
      "\n",
      "WI_WB_0 processed\n",
      "\n",
      "WI_WB_1 processed\n",
      "\n",
      "WI_WB_10 processed\n",
      "\n",
      "WI_WB_11 processed\n",
      "\n",
      "WI_WB_2 processed\n",
      "\n",
      "WI_WB_3 processed\n",
      "\n",
      "WI_WB_4 processed\n",
      "\n",
      "WI_WB_5 processed\n",
      "\n",
      "WI_WB_6 processed\n",
      "\n",
      "WI_WB_7 processed\n",
      "\n",
      "WI_WB_8 processed\n",
      "\n",
      "WI_WB_9 processed\n"
     ]
    },
    {
     "data": {
      "text/html": [
       "<iframe id=\"igraph\" scrolling=\"no\" style=\"border:none;\" seamless=\"seamless\" src=\"https://plot.ly/~sdutta7/8.embed\" height=\"525px\" width=\"100%\"></iframe>"
      ],
      "text/plain": [
       "<plotly.tools.PlotlyDisplay object>"
      ]
     },
     "execution_count": 16,
     "metadata": {},
     "output_type": "execute_result"
    }
   ],
   "source": [
    "currentPath = \"C:\\\\Users\\\\sreej\\\\Documents\\\\wisconsin\\\\Fall 2017\\\\CS 799\\\\MODIFIED_SITES_DATA\\\\\"\n",
    "fileSeparator = \"\\\\\"\n",
    "#folders = os.listdir(currentPath + \".\")\n",
    "folders = ['WISCONSIN_SITES']\n",
    "x = []\n",
    "lakes0to99 = []\n",
    "\n",
    "#name of the file and path so that we can read it. Flag is to mention whether to remove the last character F/S.\n",
    "def calculateUniqueFrequencies(name, path, flag):\n",
    "    activity_identifier_list = []\n",
    "    with open(path, 'r', encoding='UTF-8') as inp:\n",
    "        for row in csv.reader(inp):\n",
    "            if(row and row[3] != \"\" and row[3]!=\"ActivityIdentifier\"):\n",
    "                if(flag):\n",
    "                    activity_identifier_list.append(row[3][:-1])\n",
    "                else:\n",
    "                    activity_identifier_list.append(row[3])\n",
    "    return len(set(activity_identifier_list))\n",
    "\n",
    "def getUniqueFrequencies(name, path):\n",
    "    flag=0 #initialize flag as 1. Flag 1 is used to remove the last character from name!\n",
    "    frequencies = calculateUniqueFrequencies(name, path, flag)\n",
    "    return frequencies\n",
    "\n",
    "for folder in folders:\n",
    "    if os.path.isdir(currentPath + folder):\n",
    "        print(folder)\n",
    "        wbchunksFolderPath = currentPath + folder + fileSeparator + \"WB_CHUNKS\" + fileSeparator\n",
    "        wbchunks = os.listdir(wbchunksFolderPath + \".\")\n",
    "        for chunk in wbchunks:\n",
    "            print(\"\\n\" + chunk + \" processed\")\n",
    "            directory = wbchunksFolderPath + chunk + fileSeparator + \"SITES\" + fileSeparator\n",
    "            wbfiles = os.listdir(directory + \".\")\n",
    "            for file in wbfiles:\n",
    "                if file.endswith(\".csv\"):\n",
    "                    absPath = os.path.abspath(os.path.join(directory, file))\n",
    "                    uniqueObs = getUniqueFrequencies(file, absPath)\n",
    "                    if(uniqueObs != 0):\n",
    "                        x.append(uniqueObs)\n",
    "                        if(uniqueObs < 100):\n",
    "                            lakes0to99.append(uniqueObs)\n",
    "                            \n",
    "\n",
    "data1 = [go.Histogram(x=x)]\n",
    "layout1 = go.Layout(\n",
    "    title='Observations spread across lakes',\n",
    "    xaxis=dict(\n",
    "        title='No. of observations',\n",
    "        titlefont=dict(\n",
    "            family='Courier New, monospace',\n",
    "            size=18,\n",
    "            color='#7f7f7f'\n",
    "        )\n",
    "    ),\n",
    "    yaxis=dict(\n",
    "        title='No. of lakes',\n",
    "        titlefont=dict(\n",
    "            family='Courier New, monospace',\n",
    "            size=18,\n",
    "            color='#7f7f7f'\n",
    "        )\n",
    "    )\n",
    ")\n",
    "fig = go.Figure(data=data1, layout=layout1)\n",
    "py.iplot(fig, filename='histogram1')\n"
   ]
  },
  {
   "cell_type": "code",
   "execution_count": 10,
   "metadata": {},
   "outputs": [
    {
     "data": {
      "text/html": [
       "<iframe id=\"igraph\" scrolling=\"no\" style=\"border:none;\" seamless=\"seamless\" src=\"https://plot.ly/~sdutta7/4.embed\" height=\"525px\" width=\"100%\"></iframe>"
      ],
      "text/plain": [
       "<plotly.tools.PlotlyDisplay object>"
      ]
     },
     "execution_count": 10,
     "metadata": {},
     "output_type": "execute_result"
    }
   ],
   "source": [
    "data = [go.Histogram(x=lakes0to99)]\n",
    "layout = go.Layout(\n",
    "    title='Lakes with <100 observations',\n",
    "    xaxis=dict(\n",
    "        title='No. of observations',\n",
    "        titlefont=dict(\n",
    "            family='Courier New, monospace',\n",
    "            size=18,\n",
    "            color='#7f7f7f'\n",
    "        )\n",
    "    ),\n",
    "    yaxis=dict(\n",
    "        title='No. of lakes',\n",
    "        titlefont=dict(\n",
    "            family='Courier New, monospace',\n",
    "            size=18,\n",
    "            color='#7f7f7f'\n",
    "        )\n",
    "    )\n",
    ")\n",
    "fig = go.Figure(data=data, layout=layout)\n",
    "py.iplot(fig, filename='histogram2')"
   ]
  },
  {
   "cell_type": "code",
   "execution_count": null,
   "metadata": {
    "collapsed": true
   },
   "outputs": [],
   "source": []
  }
 ],
 "metadata": {
  "kernelspec": {
   "display_name": "Python 3",
   "language": "python",
   "name": "python3"
  },
  "language_info": {
   "codemirror_mode": {
    "name": "ipython",
    "version": 3
   },
   "file_extension": ".py",
   "mimetype": "text/x-python",
   "name": "python",
   "nbconvert_exporter": "python",
   "pygments_lexer": "ipython3",
   "version": "3.6.3"
  }
 },
 "nbformat": 4,
 "nbformat_minor": 2
}

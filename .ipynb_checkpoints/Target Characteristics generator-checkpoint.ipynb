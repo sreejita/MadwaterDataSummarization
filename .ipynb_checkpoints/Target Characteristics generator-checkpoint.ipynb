{
 "cells": [
  {
   "cell_type": "code",
   "execution_count": 17,
   "metadata": {
    "collapsed": true
   },
   "outputs": [],
   "source": [
    "import csv\n",
    "import pandas as pd\n",
    "import datetime\n",
    "import os\n",
    "import numpy as np"
   ]
  },
  {
   "cell_type": "code",
   "execution_count": 18,
   "metadata": {},
   "outputs": [
    {
     "name": "stdout",
     "output_type": "stream",
     "text": [
      "['INDIANA_SITES']\n"
     ]
    }
   ],
   "source": [
    "currentPath = \"C:\\\\Users\\\\sreej\\\\Documents\\\\wisconsin\\\\Fall 2017\\\\CS 799\\\\MODIFIED_SITES_DATA\\\\\"\n",
    "#basePath = \"C:\\\\Users\\\\sreej\\\\Documents\\\\Sreejita-799\\\\\"\n",
    "fileSeparator = \"\\\\\"\n",
    "#folders = os.listdir(currentPath + \".\")\n",
    "\n",
    "folders = ['WISCONSIN_SITES']\n",
    "x = []\n",
    "print(folders)\n"
   ]
  },
  {
   "cell_type": "code",
   "execution_count": 19,
   "metadata": {
    "collapsed": true
   },
   "outputs": [],
   "source": [
    "interested_characteristics = [\"Alkalinity\", \"Alkalinity, Carbonate as CaCO3\", \"Ammonia\", \"Ammonia and ammonium\", \"Ammonia and ammonium as NH4\", \"Chloride\", \"Chlorophyll\", \"Chlorophyll a, free of pheophytin\", \"Chlorophyll a, corrected for pheophytin\", \"Chlorophyll a, uncorrected for pheophytin\", \"Chlorophyll a (probe relative fluorescence)\", \"Chlorophyll a (probe)\", \"Conductance @25C\", \"Dissolved oxygen\", \"Dissolved oxygen saturation\", \"Inorganic nitrogen (nitrate and nitrite)\", \"Inorganic nitrogen (nitrate and nitrite) as N\", \"Nitrogen, mixed forms (NH3), (NH4), organic, (NO2) and (NO3)\", \"Nitrogen, mixed forms (NH3), (NH4), organic, (NO2) and (NO3), as NO3\", \"Organic Nitrogen\", \"pH\", \"Phosphate-phosphorus\", \"Phosphorus as P\", \"Phosphorus\", \"Specific conductance\", \"Sulfate\", \"Temperature, water\", \"Total suspended solids\", \"Total Kjeldahl nitrogen\", \"Total Kjeldahl nitrogen as N\", \"Turbidity\", \"Depth, Secchi disk depth\"]"
   ]
  },
  {
   "cell_type": "code",
   "execution_count": 23,
   "metadata": {
    "collapsed": true
   },
   "outputs": [],
   "source": [
    "def get_required_rows(path, lake_id):\n",
    "    reqd_rows = []\n",
    "    try:\n",
    "        df=pd.read_csv(path,sep=',')\n",
    "        for index, row in df.iterrows():\n",
    "            char_name = row['NormalizedCharacteristicName']\n",
    "            if char_name in interested_characteristics:\n",
    "                try:\n",
    "                    char_value = float(row['NormalizedResultMeasureValue'])\n",
    "                except ValueError: \n",
    "                    continue\n",
    "                site_id = row['MonitoringLocationIdentifier']\n",
    "                #activity_identifier = row['ActivityIdentifier']\n",
    "                start_date = row['ActivityStartDate']\n",
    "                start_time = row['ActivityStartTime/Time']\n",
    "                start_tz = row['ActivityStartTime/TimeZoneCode']\n",
    "                activity_depth_value = row['ActivityDepthHeightMeasure/MeasureValue']\n",
    "                activity_depth_unit = row['ActivityDepthHeightMeasure/MeasureUnitCode']\n",
    "                result_depth_height_value = row['ResultDepthHeightMeasure/MeasureValue']\n",
    "                result_depth_height_unit = row['ResultDepthHeightMeasure/MeasureUnitCode']\n",
    "                char_unit = row['NormalizedResultMeasure/MeasureUnitCode']\n",
    "                row = [lake_id, site_id, start_date, start_time, start_tz, activity_depth_value, activity_depth_unit, result_depth_height_value, result_depth_height_unit, char_name, char_value, char_unit]\n",
    "                if len(row) > 0:\n",
    "                    reqd_rows.append(row)\n",
    "        return reqd_rows\n",
    "    except pd.io.common.EmptyDataError:\n",
    "        return 0"
   ]
  },
  {
   "cell_type": "code",
   "execution_count": 24,
   "metadata": {},
   "outputs": [
    {
     "name": "stdout",
     "output_type": "stream",
     "text": [
      "C:\\Users\\sreej\\Documents\\wisconsin\\Fall 2017\\CS 799\\MODIFIED_SITES_DATA\\\n",
      "INDIANA_SITES\n",
      "\n",
      "IN_WB_0 started\n",
      "\n",
      "108590019\n"
     ]
    },
    {
     "ename": "TypeError",
     "evalue": "writerows() argument must be iterable",
     "output_type": "error",
     "traceback": [
      "\u001b[1;31m---------------------------------------------------------------------------\u001b[0m",
      "\u001b[1;31mTypeError\u001b[0m                                 Traceback (most recent call last)",
      "\u001b[1;32m<ipython-input-24-cb163984a641>\u001b[0m in \u001b[0;36m<module>\u001b[1;34m()\u001b[0m\n\u001b[0;32m     19\u001b[0m                     \u001b[1;32mwith\u001b[0m \u001b[0mopen\u001b[0m\u001b[1;33m(\u001b[0m\u001b[0mcurrentPath\u001b[0m \u001b[1;33m+\u001b[0m \u001b[0mfileSeparator\u001b[0m \u001b[1;33m+\u001b[0m  \u001b[1;34m\"characteristics_summary.csv\"\u001b[0m\u001b[1;33m,\u001b[0m \u001b[1;34m\"a\"\u001b[0m\u001b[1;33m,\u001b[0m \u001b[0mnewline\u001b[0m\u001b[1;33m=\u001b[0m\u001b[1;34m''\u001b[0m\u001b[1;33m)\u001b[0m \u001b[1;32mas\u001b[0m \u001b[0mf\u001b[0m\u001b[1;33m:\u001b[0m\u001b[1;33m\u001b[0m\u001b[0m\n\u001b[0;32m     20\u001b[0m                         \u001b[0mwriter\u001b[0m \u001b[1;33m=\u001b[0m \u001b[0mcsv\u001b[0m\u001b[1;33m.\u001b[0m\u001b[0mwriter\u001b[0m\u001b[1;33m(\u001b[0m\u001b[0mf\u001b[0m\u001b[1;33m)\u001b[0m\u001b[1;33m\u001b[0m\u001b[0m\n\u001b[1;32m---> 21\u001b[1;33m                         \u001b[0mwriter\u001b[0m\u001b[1;33m.\u001b[0m\u001b[0mwriterows\u001b[0m\u001b[1;33m(\u001b[0m\u001b[0mreqd_rows\u001b[0m\u001b[1;33m)\u001b[0m\u001b[1;33m\u001b[0m\u001b[0m\n\u001b[0m\u001b[0;32m     22\u001b[0m \u001b[1;33m\u001b[0m\u001b[0m\n\u001b[0;32m     23\u001b[0m             \u001b[0mprint\u001b[0m\u001b[1;33m(\u001b[0m\u001b[1;34m\"\\n>>>>>>>>> CHunk Over >>>>>>>>>\\n\"\u001b[0m\u001b[1;33m)\u001b[0m\u001b[1;33m\u001b[0m\u001b[0m\n",
      "\u001b[1;31mTypeError\u001b[0m: writerows() argument must be iterable"
     ]
    }
   ],
   "source": [
    "for folder in folders:\n",
    "    if os.path.isdir(currentPath + folder):\n",
    "        print(currentPath)\n",
    "        print(folder)\n",
    "        wbchunksFolderPath = currentPath + folder + fileSeparator + \"WB_CHUNKS\" + fileSeparator\n",
    "        wbchunks = os.listdir(wbchunksFolderPath + \".\")\n",
    "        for chunk in wbchunks:\n",
    "            print(\"\\n\" + chunk + \" started\\n\")\n",
    "            directory = wbchunksFolderPath + chunk + fileSeparator + \"SITES\" + fileSeparator\n",
    "            wbfiles = os.listdir(directory + \".\")\n",
    "            for file in wbfiles:\n",
    "                if file.endswith(\".csv\"):\n",
    "                    absPath = os.path.abspath(os.path.join(directory, file))\n",
    "                    lake_id = file[6:-10]\n",
    "                    print(lake_id)\n",
    "                    reqd_rows = get_required_rows(absPath, lake_id)\n",
    "                    \n",
    "                   # print(\"characteristic_name_to_value for file \" + absPath)\n",
    "                    with open(currentPath + fileSeparator +  \"characteristics_summary.csv\", \"a\", newline='') as f:\n",
    "                        writer = csv.writer(f)\n",
    "                        writer.writerows(reqd_rows)    \n",
    "                   \n",
    "            print(\"\\n>>>>>>>>> CHunk Over >>>>>>>>>\\n\")"
   ]
  },
  {
   "cell_type": "code",
   "execution_count": null,
   "metadata": {
    "collapsed": true
   },
   "outputs": [],
   "source": []
  }
 ],
 "metadata": {
  "kernelspec": {
   "display_name": "Python 3",
   "language": "python",
   "name": "python3"
  },
  "language_info": {
   "codemirror_mode": {
    "name": "ipython",
    "version": 3
   },
   "file_extension": ".py",
   "mimetype": "text/x-python",
   "name": "python",
   "nbconvert_exporter": "python",
   "pygments_lexer": "ipython3",
   "version": "3.6.3"
  }
 },
 "nbformat": 4,
 "nbformat_minor": 2
}

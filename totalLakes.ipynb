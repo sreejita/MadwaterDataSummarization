{
 "cells": [
  {
   "cell_type": "code",
   "execution_count": 3,
   "metadata": {
    "collapsed": true
   },
   "outputs": [],
   "source": [
    "import os\n",
    "import csv\n",
    "import pandas as pd\n",
    "import datetime"
   ]
  },
  {
   "cell_type": "code",
   "execution_count": 4,
   "metadata": {
    "collapsed": true
   },
   "outputs": [],
   "source": [
    "numLakes = {}\n",
    "currentPath = \"C:\\\\Users\\\\sreej\\\\Documents\\\\wisconsin\\\\Fall 2017\\\\CS 799\\\\MODIFIED_SITES_DATA\\\\\"\n",
    "fileSeparator = \"\\\\\"\n",
    "folders = os.listdir(currentPath + \".\")"
   ]
  },
  {
   "cell_type": "code",
   "execution_count": 6,
   "metadata": {},
   "outputs": [
    {
     "name": "stdout",
     "output_type": "stream",
     "text": [
      "INDIANA_SITES\n",
      "\n",
      ">>>>>>>>>IN_WB_0>>>>>>>>>\n",
      "\n",
      "\n",
      ">>>>>>>>>IN_WB_1>>>>>>>>>\n",
      "\n",
      "\n",
      ">>>>>>>>>IN_WB_2>>>>>>>>>\n",
      "\n",
      "MICHIGAN_SITES\n",
      "\n",
      ">>>>>>>>>MI_WB_0>>>>>>>>>\n",
      "\n",
      "\n",
      ">>>>>>>>>MI_WB_1>>>>>>>>>\n",
      "\n",
      "\n",
      ">>>>>>>>>MI_WB_2>>>>>>>>>\n",
      "\n",
      "\n",
      ">>>>>>>>>MI_WB_3>>>>>>>>>\n",
      "\n",
      "\n",
      ">>>>>>>>>MI_WB_4>>>>>>>>>\n",
      "\n",
      "\n",
      ">>>>>>>>>MI_WB_5>>>>>>>>>\n",
      "\n",
      "\n",
      ">>>>>>>>>MI_WB_6>>>>>>>>>\n",
      "\n",
      "MINNESOTA_SITES\n",
      "\n",
      ">>>>>>>>>MN_WB_0>>>>>>>>>\n",
      "\n",
      "\n",
      ">>>>>>>>>MN_WB_1>>>>>>>>>\n",
      "\n",
      "\n",
      ">>>>>>>>>MN_WB_10>>>>>>>>>\n",
      "\n",
      "\n",
      ">>>>>>>>>MN_WB_11>>>>>>>>>\n",
      "\n",
      "\n",
      ">>>>>>>>>MN_WB_12>>>>>>>>>\n",
      "\n",
      "\n",
      ">>>>>>>>>MN_WB_2>>>>>>>>>\n",
      "\n",
      "\n",
      ">>>>>>>>>MN_WB_3>>>>>>>>>\n",
      "\n",
      "\n",
      ">>>>>>>>>MN_WB_4>>>>>>>>>\n",
      "\n",
      "\n",
      ">>>>>>>>>MN_WB_5>>>>>>>>>\n",
      "\n",
      "\n",
      ">>>>>>>>>MN_WB_6>>>>>>>>>\n",
      "\n",
      "\n",
      ">>>>>>>>>MN_WB_7>>>>>>>>>\n",
      "\n",
      "\n",
      ">>>>>>>>>MN_WB_8>>>>>>>>>\n",
      "\n",
      "\n",
      ">>>>>>>>>MN_WB_9>>>>>>>>>\n",
      "\n",
      "WISCONSIN_SITES\n",
      "\n",
      ">>>>>>>>>WI_WB_0>>>>>>>>>\n",
      "\n",
      "\n",
      ">>>>>>>>>WI_WB_1>>>>>>>>>\n",
      "\n",
      "\n",
      ">>>>>>>>>WI_WB_10>>>>>>>>>\n",
      "\n",
      "\n",
      ">>>>>>>>>WI_WB_11>>>>>>>>>\n",
      "\n",
      "\n",
      ">>>>>>>>>WI_WB_2>>>>>>>>>\n",
      "\n",
      "\n",
      ">>>>>>>>>WI_WB_3>>>>>>>>>\n",
      "\n",
      "\n",
      ">>>>>>>>>WI_WB_4>>>>>>>>>\n",
      "\n",
      "\n",
      ">>>>>>>>>WI_WB_5>>>>>>>>>\n",
      "\n",
      "\n",
      ">>>>>>>>>WI_WB_6>>>>>>>>>\n",
      "\n",
      "\n",
      ">>>>>>>>>WI_WB_7>>>>>>>>>\n",
      "\n",
      "\n",
      ">>>>>>>>>WI_WB_8>>>>>>>>>\n",
      "\n",
      "\n",
      ">>>>>>>>>WI_WB_9>>>>>>>>>\n",
      "\n",
      "{'INDIANA_SITES': 1390, 'MICHIGAN_SITES': 3245, 'MINNESOTA_SITES': 6304, 'WISCONSIN_SITES': 5679}\n"
     ]
    }
   ],
   "source": [
    "for folder in folders:\n",
    "    if os.path.isdir(currentPath + folder):\n",
    "        print(folder)\n",
    "        numLakes[folder] = 0\n",
    "        wbchunksFolderPath = currentPath + folder + fileSeparator + \"WB_CHUNKS\" + fileSeparator\n",
    "        wbchunks = os.listdir(wbchunksFolderPath + \".\")\n",
    "        #wbchunks = [\"WI_WB_5\"]\n",
    "        for chunk in wbchunks:\n",
    "            print(\"\\n>>>>>>>>>\" + chunk + \">>>>>>>>>\\n\")\n",
    "            directory = wbchunksFolderPath + chunk + fileSeparator + \"SITES\" + fileSeparator\n",
    "            wbfiles = os.listdir(directory + \".\")\n",
    "            for file in wbfiles:\n",
    "                if file.endswith(\".csv\"):\n",
    "                    numLakes[folder] = numLakes[folder] + 1\n",
    "\n",
    "print(numLakes)"
   ]
  },
  {
   "cell_type": "code",
   "execution_count": 7,
   "metadata": {
    "collapsed": true
   },
   "outputs": [],
   "source": [
    "totalLakes = 0\n",
    "for key,val in numLakes.items():\n",
    "    totalLakes += val"
   ]
  },
  {
   "cell_type": "code",
   "execution_count": 8,
   "metadata": {},
   "outputs": [
    {
     "name": "stdout",
     "output_type": "stream",
     "text": [
      "16618\n"
     ]
    }
   ],
   "source": [
    "print(totalLakes)"
   ]
  },
  {
   "cell_type": "code",
   "execution_count": null,
   "metadata": {
    "collapsed": true
   },
   "outputs": [],
   "source": []
  }
 ],
 "metadata": {
  "kernelspec": {
   "display_name": "Python 3",
   "language": "python",
   "name": "python3"
  },
  "language_info": {
   "codemirror_mode": {
    "name": "ipython",
    "version": 3
   },
   "file_extension": ".py",
   "mimetype": "text/x-python",
   "name": "python",
   "nbconvert_exporter": "python",
   "pygments_lexer": "ipython3",
   "version": "3.6.3"
  }
 },
 "nbformat": 4,
 "nbformat_minor": 2
}

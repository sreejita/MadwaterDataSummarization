{
 "cells": [
  {
   "cell_type": "code",
   "execution_count": 1,
   "metadata": {
    "collapsed": true
   },
   "outputs": [],
   "source": [
    "import os\n",
    "import csv\n",
    "import plotly.plotly as py\n",
    "import plotly.graph_objs as go"
   ]
  },
  {
   "cell_type": "code",
   "execution_count": 3,
   "metadata": {},
   "outputs": [
    {
     "name": "stdout",
     "output_type": "stream",
     "text": [
      "High five! You successfully sent some data to your account on plotly. View your plot in your browser at https://plot.ly/~sdutta7/0 or inside your plot.ly account where it is named 'basic histogram'\n"
     ]
    },
    {
     "data": {
      "text/html": [
       "<iframe id=\"igraph\" scrolling=\"no\" style=\"border:none;\" seamless=\"seamless\" src=\"https://plot.ly/~sdutta7/0.embed\" height=\"525px\" width=\"100%\"></iframe>"
      ],
      "text/plain": [
       "<plotly.tools.PlotlyDisplay object>"
      ]
     },
     "execution_count": 3,
     "metadata": {},
     "output_type": "execute_result"
    }
   ],
   "source": [
    "currentPath = \"C:\\\\Users\\\\sreej\\\\Documents\\\\wisconsin\\\\Fall 2017\\\\CS 799\\\\MODIFIED_SITES_DATA\\\\\"\n",
    "fileSeparator = \"\\\\\"\n",
    "#folders = os.listdir(currentPath + \".\")\n",
    "folders = ['WISCONSIN_SITES']\n",
    "x = []\n",
    "\n",
    "\n",
    "#name of the file and path so that we can read it. Flag is to mention whether to remove the last character F/S.\n",
    "\n",
    "\n",
    "def calculateUniqueFrequencies(name, path, flag):\n",
    "    activity_identifier_list = []\n",
    "    with open(path, 'r', encoding='UTF-8') as inp:\n",
    "        for row in csv.reader(inp):\n",
    "            if(row and row[3] != \"\" and row[3]!=\"ActivityIdentifier\"):\n",
    "                if(flag):\n",
    "                    activity_identifier_list.append(row[3][:-1])\n",
    "                else:\n",
    "                    activity_identifier_list.append(row[3])\n",
    "    return len(set(activity_identifier_list))\n",
    "\n",
    "def getUniqueFrequencies(name, path):\n",
    "    flag=0 #initialize flag as 1. Flag 1 is used to remove the last character from name!\n",
    "    frequencies = calculateUniqueFrequencies(name, path, flag)\n",
    "    return frequencies\n",
    "\n",
    "for folder in folders:\n",
    "    if os.path.isdir(currentPath + folder):\n",
    "        #print(folder)\n",
    "        wbchunksFolderPath = currentPath + folder + fileSeparator + \"WB_CHUNKS\" + fileSeparator\n",
    "        wbchunks = os.listdir(wbchunksFolderPath + \".\")\n",
    "        for chunk in wbchunks:\n",
    "            #print(\"\\n>>>>>>>>>\" + chunk + \">>>>>>>>>\\n\")\n",
    "            directory = wbchunksFolderPath + chunk + fileSeparator + \"SITES\" + fileSeparator\n",
    "            wbfiles = os.listdir(directory + \".\")\n",
    "            for file in wbfiles:\n",
    "                if file.endswith(\".csv\"):\n",
    "                    absPath = os.path.abspath(os.path.join(directory, file))\n",
    "                    uniqueObs = getUniqueFrequencies(file, absPath)\n",
    "                    if(uniqueObs != 0):\n",
    "                        x.append(uniqueObs)\n",
    "\n",
    "data = [go.Histogram(x=x)]\n",
    "py.iplot(data, filename='basic histogram')\n"
   ]
  },
  {
   "cell_type": "code",
   "execution_count": null,
   "metadata": {
    "collapsed": true
   },
   "outputs": [],
   "source": []
  }
 ],
 "metadata": {
  "kernelspec": {
   "display_name": "Python 3",
   "language": "python",
   "name": "python3"
  },
  "language_info": {
   "codemirror_mode": {
    "name": "ipython",
    "version": 3
   },
   "file_extension": ".py",
   "mimetype": "text/x-python",
   "name": "python",
   "nbconvert_exporter": "python",
   "pygments_lexer": "ipython3",
   "version": "3.6.3"
  }
 },
 "nbformat": 4,
 "nbformat_minor": 2
}

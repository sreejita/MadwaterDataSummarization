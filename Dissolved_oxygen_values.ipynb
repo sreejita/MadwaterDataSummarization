{
 "cells": [
  {
   "cell_type": "code",
   "execution_count": 2,
   "metadata": {
    "collapsed": true
   },
   "outputs": [],
   "source": [
    "import csv\n",
    "import pandas as pd\n",
    "import datetime\n",
    "import os\n",
    "import numpy as np\n",
    "from collections import OrderedDict"
   ]
  },
  {
   "cell_type": "code",
   "execution_count": 6,
   "metadata": {},
   "outputs": [
    {
     "name": "stdout",
     "output_type": "stream",
     "text": [
      "['WISCONSIN_SITES']\n"
     ]
    }
   ],
   "source": [
    "currentPath = \"C:\\\\Users\\\\deepa\\\\Documents\\\\Sreejita-799\\\\MODIFIED_SITES_DATA\\\\\"\n",
    "basePath = \"C:\\\\Users\\\\deepa\\\\Documents\\\\Sreejita-799\\\\\"\n",
    "fileSeparator = \"\\\\\"\n",
    "folders = os.listdir(currentPath + \".\")\n",
    "print(folders)\n",
    "#folders = ['WISCONSIN_SITES']\n",
    "x = []\n",
    "\n",
    "characteristic_name_to_data = {}"
   ]
  },
  {
   "cell_type": "code",
   "execution_count": 7,
   "metadata": {
    "collapsed": true
   },
   "outputs": [],
   "source": [
    "class CharacteristicDataAnalyzation:\n",
    "    characteristic_values=[]\n",
    "    samples_per_month = {}\n",
    "    samples_per_year = {}\n",
    "    depth_to_value = {}\n",
    "    depth_values = []\n",
    "\n",
    "    def __init__(self, characteristic_values, samples_per_month, samples_per_year, depth_to_value, depth_values):\n",
    "        self.characteristic_values = characteristic_values\n",
    "        self.samples_per_month = samples_per_month\n",
    "        self.samples_per_year = samples_per_year\n",
    "        self.depth_to_value = depth_to_value\n",
    "\n",
    "def calculateActivityDateFrequency(path):\n",
    "    characteristic_name_to_value = {}\n",
    "    dissolved_oxygen = \"Dissolved oxygen\"\n",
    "    try:\n",
    "        df=pd.read_csv(path,sep=',')\n",
    "        for index, row in df.iterrows():\n",
    "            try:\n",
    "                value = float(row['NormalizedResultMeasureValue'])\n",
    "            except ValueError: \n",
    "                continue\n",
    "            name = row['NormalizedCharacteristicName']\n",
    "            activity_identifier = row['ActivityIdentifier']\n",
    "            start_date = row['ActivityStartDate']\n",
    "            if name == \"Temperature, water\" or name == \"Dissolved oxygen\":\n",
    "                if name in characteristic_name_to_value:\n",
    "                    row_values = [name, activity_identifier, start_date, value]\n",
    "                    characteristic_name_to_value[name].append(row_values)\n",
    "                else:\n",
    "                    values = []\n",
    "                    row = [name, activity_identifier, start_date, value]\n",
    "                    values.append(row)\n",
    "                    characteristic_name_to_value[name] = values\n",
    "            else:\n",
    "                continue\n",
    "        if dissolved_oxygen in characteristic_name_to_value:\n",
    "            return characteristic_name_to_value\n",
    "        else:\n",
    "            return 0\n",
    "    except pd.io.common.EmptyDataError:\n",
    "        return 0"
   ]
  },
  {
   "cell_type": "code",
   "execution_count": 1,
   "metadata": {
    "scrolled": true
   },
   "outputs": [
    {
     "ename": "NameError",
     "evalue": "name 'folders' is not defined",
     "output_type": "error",
     "traceback": [
      "\u001b[1;31m---------------------------------------------------------------------------\u001b[0m",
      "\u001b[1;31mNameError\u001b[0m                                 Traceback (most recent call last)",
      "\u001b[1;32m<ipython-input-1-85c068095076>\u001b[0m in \u001b[0;36m<module>\u001b[1;34m()\u001b[0m\n\u001b[1;32m----> 1\u001b[1;33m \u001b[1;32mfor\u001b[0m \u001b[0mfolder\u001b[0m \u001b[1;32min\u001b[0m \u001b[0mfolders\u001b[0m\u001b[1;33m:\u001b[0m\u001b[1;33m\u001b[0m\u001b[0m\n\u001b[0m\u001b[0;32m      2\u001b[0m     \u001b[1;32mif\u001b[0m \u001b[0mos\u001b[0m\u001b[1;33m.\u001b[0m\u001b[0mpath\u001b[0m\u001b[1;33m.\u001b[0m\u001b[0misdir\u001b[0m\u001b[1;33m(\u001b[0m\u001b[0mcurrentPath\u001b[0m \u001b[1;33m+\u001b[0m \u001b[0mfolder\u001b[0m\u001b[1;33m)\u001b[0m\u001b[1;33m:\u001b[0m\u001b[1;33m\u001b[0m\u001b[0m\n\u001b[0;32m      3\u001b[0m         \u001b[0mprint\u001b[0m\u001b[1;33m(\u001b[0m\u001b[0mcurrentPath\u001b[0m\u001b[1;33m)\u001b[0m\u001b[1;33m\u001b[0m\u001b[0m\n\u001b[0;32m      4\u001b[0m         \u001b[0mprint\u001b[0m\u001b[1;33m(\u001b[0m\u001b[0mfolder\u001b[0m\u001b[1;33m)\u001b[0m\u001b[1;33m\u001b[0m\u001b[0m\n\u001b[0;32m      5\u001b[0m         \u001b[0mwbchunksFolderPath\u001b[0m \u001b[1;33m=\u001b[0m \u001b[0mcurrentPath\u001b[0m \u001b[1;33m+\u001b[0m \u001b[0mfolder\u001b[0m \u001b[1;33m+\u001b[0m \u001b[0mfileSeparator\u001b[0m \u001b[1;33m+\u001b[0m \u001b[1;34m\"WB_CHUNKS\"\u001b[0m \u001b[1;33m+\u001b[0m \u001b[0mfileSeparator\u001b[0m\u001b[1;33m\u001b[0m\u001b[0m\n",
      "\u001b[1;31mNameError\u001b[0m: name 'folders' is not defined"
     ]
    }
   ],
   "source": [
    "for folder in folders:\n",
    "    if os.path.isdir(currentPath + folder):\n",
    "        print(currentPath)\n",
    "        print(folder)\n",
    "        wbchunksFolderPath = currentPath + folder + fileSeparator + \"WB_CHUNKS\" + fileSeparator\n",
    "        wbchunks = os.listdir(wbchunksFolderPath + \".\")\n",
    "        for chunk in wbchunks:\n",
    "            print(\"\\n\" + chunk + \" processed\")\n",
    "            directory = wbchunksFolderPath + chunk + fileSeparator + \"SITES\" + fileSeparator\n",
    "            wbfiles = os.listdir(directory + \".\")\n",
    "            for file in wbfiles:\n",
    "                if file.endswith(\".csv\"):\n",
    "                    absPath = os.path.abspath(os.path.join(directory, file))\n",
    "                    characteristic_name_to_value = calculateActivityDateFrequency(absPath)\n",
    "                    lake_name = file[6:-10]\n",
    "                    print(lake_name)\n",
    "                    print(\"characteristic_name_to_value for file \" + absPath)\n",
    "                    if characteristic_name_to_value != 0:\n",
    "                        with open(basePath+folder+\"\\\\\"+lake_name+\".csv\", \"w\", newline='') as f:\n",
    "                            writer = csv.writer(f)\n",
    "                            writer.writerow(['NormalizedCharacteristicName', 'ActivityIdentifier', 'ActivityStartDate','NormalizedResultMeasureValue'])\n",
    "                            for key, value in characteristic_name_to_value.items():\n",
    "                                writer.writerows(value)\n",
    "            print(\"\\n>>>>>>>>> CHunk Over >>>>>>>>>\\n\")"
   ]
  },
  {
   "cell_type": "code",
   "execution_count": null,
   "metadata": {
    "collapsed": true
   },
   "outputs": [],
   "source": []
  }
 ],
 "metadata": {
  "kernelspec": {
   "display_name": "Python 3",
   "language": "python",
   "name": "python3"
  },
  "language_info": {
   "codemirror_mode": {
    "name": "ipython",
    "version": 3
   },
   "file_extension": ".py",
   "mimetype": "text/x-python",
   "name": "python",
   "nbconvert_exporter": "python",
   "pygments_lexer": "ipython3",
   "version": "3.6.3"
  }
 },
 "nbformat": 4,
 "nbformat_minor": 2
}

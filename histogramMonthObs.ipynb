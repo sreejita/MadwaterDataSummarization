{
 "cells": [
  {
   "cell_type": "code",
   "execution_count": 113,
   "metadata": {
    "collapsed": true
   },
   "outputs": [],
   "source": [
    "import os\n",
    "import csv\n",
    "import pandas as pd\n",
    "import datetime\n",
    "import plotly.plotly as py\n",
    "import plotly.graph_objs as go"
   ]
  },
  {
   "cell_type": "code",
   "execution_count": 114,
   "metadata": {
    "collapsed": true
   },
   "outputs": [],
   "source": [
    "currentPath = \"C:\\\\Users\\\\sreej\\\\Documents\\\\wisconsin\\\\Fall 2017\\\\CS 799\\\\MODIFIED_SITES_DATA\\\\\"\n",
    "fileSeparator = \"\\\\\"\n",
    "#folders = os.listdir(currentPath + \".\")\n",
    "folders = ['WISCONSIN_SITES']\n",
    "x = []"
   ]
  },
  {
   "cell_type": "code",
   "execution_count": 115,
   "metadata": {},
   "outputs": [],
   "source": [
    "activity_date_frequency = {}\n",
    "def calculateActivityDateFrequency(path):\n",
    "    try:\n",
    "        df=pd.read_csv(path, sep=',', parse_dates=[7])\n",
    "        for index, row in df.iterrows():\n",
    "            date = pd.to_datetime(row['ActivityStartDate'], errors='coerce', format=\"%Y/%m/%d\")\n",
    "            if str(date.month) == \"nan\" or str(date.year) == \"nan\":\n",
    "                continue\n",
    "            month_year = str(date.month) + \"-\" + str(date.year)\n",
    "            if month_year in activity_date_frequency:\n",
    "                if row['ActivityIdentifier'] not in activity_date_frequency[month_year]:\n",
    "                    activity_date_frequency[month_year].append(row['ActivityIdentifier'])\n",
    "            else:\n",
    "                y = []\n",
    "                y.append(row['ActivityIdentifier'])\n",
    "                activity_date_frequency[month_year] = y\n",
    "        return 1\n",
    "    except pd.io.common.EmptyDataError:\n",
    "        return 0\n",
    "        #Do nothing"
   ]
  },
  {
   "cell_type": "code",
   "execution_count": 116,
   "metadata": {},
   "outputs": [
    {
     "name": "stdout",
     "output_type": "stream",
     "text": [
      "WISCONSIN_SITES\n",
      "\n",
      ">>>>>>>>>WI_WB_0>>>>>>>>>\n",
      "\n"
     ]
    },
    {
     "name": "stderr",
     "output_type": "stream",
     "text": [
      "C:\\Users\\sreej\\Anaconda3\\lib\\site-packages\\IPython\\core\\interactiveshell.py:2802: DtypeWarning:\n",
      "\n",
      "Columns (6,23,25,26,42,69) have mixed types. Specify dtype option on import or set low_memory=False.\n",
      "\n",
      "C:\\Users\\sreej\\Anaconda3\\lib\\site-packages\\IPython\\core\\interactiveshell.py:2802: DtypeWarning:\n",
      "\n",
      "Columns (6,9,10,11,12,13,21,23,33,34,45,52,53,54,55,57) have mixed types. Specify dtype option on import or set low_memory=False.\n",
      "\n"
     ]
    },
    {
     "name": "stdout",
     "output_type": "stream",
     "text": [
      "\n",
      ">>>>>>>>> CHunk Over >>>>>>>>>\n",
      "\n",
      "\n",
      ">>>>>>>>>WI_WB_1>>>>>>>>>\n",
      "\n"
     ]
    },
    {
     "name": "stderr",
     "output_type": "stream",
     "text": [
      "C:\\Users\\sreej\\Anaconda3\\lib\\site-packages\\IPython\\core\\interactiveshell.py:2802: DtypeWarning:\n",
      "\n",
      "Columns (21,36,38,42,48,58) have mixed types. Specify dtype option on import or set low_memory=False.\n",
      "\n",
      "C:\\Users\\sreej\\Anaconda3\\lib\\site-packages\\IPython\\core\\interactiveshell.py:2802: DtypeWarning:\n",
      "\n",
      "Columns (10,11,12,20,34,48,62,69) have mixed types. Specify dtype option on import or set low_memory=False.\n",
      "\n",
      "C:\\Users\\sreej\\Anaconda3\\lib\\site-packages\\IPython\\core\\interactiveshell.py:2802: DtypeWarning:\n",
      "\n",
      "Columns (10,11,12,20,23,34,45,48,56,57,58,59,61,62,69) have mixed types. Specify dtype option on import or set low_memory=False.\n",
      "\n",
      "C:\\Users\\sreej\\Anaconda3\\lib\\site-packages\\IPython\\core\\interactiveshell.py:2802: DtypeWarning:\n",
      "\n",
      "Columns (69) have mixed types. Specify dtype option on import or set low_memory=False.\n",
      "\n"
     ]
    },
    {
     "name": "stdout",
     "output_type": "stream",
     "text": [
      "\n",
      ">>>>>>>>> CHunk Over >>>>>>>>>\n",
      "\n",
      "\n",
      ">>>>>>>>>WI_WB_10>>>>>>>>>\n",
      "\n"
     ]
    },
    {
     "name": "stderr",
     "output_type": "stream",
     "text": [
      "C:\\Users\\sreej\\Anaconda3\\lib\\site-packages\\IPython\\core\\interactiveshell.py:2802: DtypeWarning:\n",
      "\n",
      "Columns (10,11,12,20,34,45,48,57,69) have mixed types. Specify dtype option on import or set low_memory=False.\n",
      "\n",
      "C:\\Users\\sreej\\Anaconda3\\lib\\site-packages\\IPython\\core\\interactiveshell.py:2802: DtypeWarning:\n",
      "\n",
      "Columns (6,23,25,26,42) have mixed types. Specify dtype option on import or set low_memory=False.\n",
      "\n"
     ]
    },
    {
     "name": "stdout",
     "output_type": "stream",
     "text": [
      "\n",
      ">>>>>>>>> CHunk Over >>>>>>>>>\n",
      "\n",
      "\n",
      ">>>>>>>>>WI_WB_11>>>>>>>>>\n",
      "\n"
     ]
    },
    {
     "name": "stderr",
     "output_type": "stream",
     "text": [
      "C:\\Users\\sreej\\Anaconda3\\lib\\site-packages\\IPython\\core\\interactiveshell.py:2802: DtypeWarning:\n",
      "\n",
      "Columns (21,23,40,42,45) have mixed types. Specify dtype option on import or set low_memory=False.\n",
      "\n",
      "C:\\Users\\sreej\\Anaconda3\\lib\\site-packages\\IPython\\core\\interactiveshell.py:2802: DtypeWarning:\n",
      "\n",
      "Columns (10,11,12,17,19,20,23,34,48,49,56,57,58,59,61,62,69) have mixed types. Specify dtype option on import or set low_memory=False.\n",
      "\n"
     ]
    },
    {
     "name": "stdout",
     "output_type": "stream",
     "text": [
      "\n",
      ">>>>>>>>> CHunk Over >>>>>>>>>\n",
      "\n",
      "\n",
      ">>>>>>>>>WI_WB_2>>>>>>>>>\n",
      "\n"
     ]
    },
    {
     "name": "stderr",
     "output_type": "stream",
     "text": [
      "C:\\Users\\sreej\\Anaconda3\\lib\\site-packages\\IPython\\core\\interactiveshell.py:2802: DtypeWarning:\n",
      "\n",
      "Columns (6,10,11,12,23,25,26,34,42,48,52,57) have mixed types. Specify dtype option on import or set low_memory=False.\n",
      "\n",
      "C:\\Users\\sreej\\Anaconda3\\lib\\site-packages\\IPython\\core\\interactiveshell.py:2802: DtypeWarning:\n",
      "\n",
      "Columns (21,23,25,26,38) have mixed types. Specify dtype option on import or set low_memory=False.\n",
      "\n"
     ]
    },
    {
     "name": "stdout",
     "output_type": "stream",
     "text": [
      "\n",
      ">>>>>>>>> CHunk Over >>>>>>>>>\n",
      "\n",
      "\n",
      ">>>>>>>>>WI_WB_3>>>>>>>>>\n",
      "\n"
     ]
    },
    {
     "name": "stderr",
     "output_type": "stream",
     "text": [
      "C:\\Users\\sreej\\Anaconda3\\lib\\site-packages\\IPython\\core\\interactiveshell.py:2802: DtypeWarning:\n",
      "\n",
      "Columns (23,25,26,42,45) have mixed types. Specify dtype option on import or set low_memory=False.\n",
      "\n",
      "C:\\Users\\sreej\\Anaconda3\\lib\\site-packages\\IPython\\core\\interactiveshell.py:2802: DtypeWarning:\n",
      "\n",
      "Columns (6,10,11,12,17,19,20,21,23,25,26,34,36,38,40,42,48,56,58,59,61) have mixed types. Specify dtype option on import or set low_memory=False.\n",
      "\n"
     ]
    },
    {
     "name": "stdout",
     "output_type": "stream",
     "text": [
      "\n",
      ">>>>>>>>> CHunk Over >>>>>>>>>\n",
      "\n",
      "\n",
      ">>>>>>>>>WI_WB_4>>>>>>>>>\n",
      "\n"
     ]
    },
    {
     "name": "stderr",
     "output_type": "stream",
     "text": [
      "C:\\Users\\sreej\\Anaconda3\\lib\\site-packages\\IPython\\core\\interactiveshell.py:2802: DtypeWarning:\n",
      "\n",
      "Columns (6,10,11,12,14,20,23,25,26,34,42,48,52,56,58,59,61,62,69) have mixed types. Specify dtype option on import or set low_memory=False.\n",
      "\n",
      "C:\\Users\\sreej\\Anaconda3\\lib\\site-packages\\IPython\\core\\interactiveshell.py:2802: DtypeWarning:\n",
      "\n",
      "Columns (10,11,12,20,34,48,69) have mixed types. Specify dtype option on import or set low_memory=False.\n",
      "\n"
     ]
    },
    {
     "name": "stdout",
     "output_type": "stream",
     "text": [
      "\n",
      ">>>>>>>>> CHunk Over >>>>>>>>>\n",
      "\n",
      "\n",
      ">>>>>>>>>WI_WB_5>>>>>>>>>\n",
      "\n"
     ]
    },
    {
     "name": "stderr",
     "output_type": "stream",
     "text": [
      "C:\\Users\\sreej\\Anaconda3\\lib\\site-packages\\IPython\\core\\interactiveshell.py:2802: DtypeWarning:\n",
      "\n",
      "Columns (6,23) have mixed types. Specify dtype option on import or set low_memory=False.\n",
      "\n"
     ]
    },
    {
     "name": "stdout",
     "output_type": "stream",
     "text": [
      "\n",
      ">>>>>>>>> CHunk Over >>>>>>>>>\n",
      "\n",
      "\n",
      ">>>>>>>>>WI_WB_6>>>>>>>>>\n",
      "\n"
     ]
    },
    {
     "name": "stderr",
     "output_type": "stream",
     "text": [
      "C:\\Users\\sreej\\Anaconda3\\lib\\site-packages\\IPython\\core\\interactiveshell.py:2802: DtypeWarning:\n",
      "\n",
      "Columns (21,25,26) have mixed types. Specify dtype option on import or set low_memory=False.\n",
      "\n",
      "C:\\Users\\sreej\\Anaconda3\\lib\\site-packages\\IPython\\core\\interactiveshell.py:2802: DtypeWarning:\n",
      "\n",
      "Columns (6,23,25,26,42,45,69) have mixed types. Specify dtype option on import or set low_memory=False.\n",
      "\n",
      "C:\\Users\\sreej\\Anaconda3\\lib\\site-packages\\IPython\\core\\interactiveshell.py:2802: DtypeWarning:\n",
      "\n",
      "Columns (6,25,26,42,48,69) have mixed types. Specify dtype option on import or set low_memory=False.\n",
      "\n",
      "C:\\Users\\sreej\\Anaconda3\\lib\\site-packages\\IPython\\core\\interactiveshell.py:2802: DtypeWarning:\n",
      "\n",
      "Columns (10,11,12,20,34,48,56,57,58,59,61,62,69) have mixed types. Specify dtype option on import or set low_memory=False.\n",
      "\n",
      "C:\\Users\\sreej\\Anaconda3\\lib\\site-packages\\IPython\\core\\interactiveshell.py:2802: DtypeWarning:\n",
      "\n",
      "Columns (9,12,14,34,45,52,53,54,55,57,69) have mixed types. Specify dtype option on import or set low_memory=False.\n",
      "\n",
      "C:\\Users\\sreej\\Anaconda3\\lib\\site-packages\\IPython\\core\\interactiveshell.py:2802: DtypeWarning:\n",
      "\n",
      "Columns (10,11,12,17,19,20,34,48,49,52,53,54,55,57,59,61,62,69) have mixed types. Specify dtype option on import or set low_memory=False.\n",
      "\n",
      "C:\\Users\\sreej\\Anaconda3\\lib\\site-packages\\IPython\\core\\interactiveshell.py:2802: DtypeWarning:\n",
      "\n",
      "Columns (10,11,12,15,21,34,36,40,45,50,55,69) have mixed types. Specify dtype option on import or set low_memory=False.\n",
      "\n"
     ]
    },
    {
     "name": "stdout",
     "output_type": "stream",
     "text": [
      "\n",
      ">>>>>>>>> CHunk Over >>>>>>>>>\n",
      "\n",
      "\n",
      ">>>>>>>>>WI_WB_7>>>>>>>>>\n",
      "\n"
     ]
    },
    {
     "name": "stderr",
     "output_type": "stream",
     "text": [
      "C:\\Users\\sreej\\Anaconda3\\lib\\site-packages\\IPython\\core\\interactiveshell.py:2802: DtypeWarning:\n",
      "\n",
      "Columns (21,40) have mixed types. Specify dtype option on import or set low_memory=False.\n",
      "\n",
      "C:\\Users\\sreej\\Anaconda3\\lib\\site-packages\\IPython\\core\\interactiveshell.py:2802: DtypeWarning:\n",
      "\n",
      "Columns (6,23,25,26,42,56,59,61) have mixed types. Specify dtype option on import or set low_memory=False.\n",
      "\n"
     ]
    },
    {
     "name": "stdout",
     "output_type": "stream",
     "text": [
      "\n",
      ">>>>>>>>> CHunk Over >>>>>>>>>\n",
      "\n",
      "\n",
      ">>>>>>>>>WI_WB_8>>>>>>>>>\n",
      "\n"
     ]
    },
    {
     "name": "stderr",
     "output_type": "stream",
     "text": [
      "C:\\Users\\sreej\\Anaconda3\\lib\\site-packages\\IPython\\core\\interactiveshell.py:2802: DtypeWarning:\n",
      "\n",
      "Columns (23,41,45) have mixed types. Specify dtype option on import or set low_memory=False.\n",
      "\n",
      "C:\\Users\\sreej\\Anaconda3\\lib\\site-packages\\IPython\\core\\interactiveshell.py:2802: DtypeWarning:\n",
      "\n",
      "Columns (10,11,12,20,23,34,45,48,56,57,59,61,62,69) have mixed types. Specify dtype option on import or set low_memory=False.\n",
      "\n",
      "C:\\Users\\sreej\\Anaconda3\\lib\\site-packages\\IPython\\core\\interactiveshell.py:2802: DtypeWarning:\n",
      "\n",
      "Columns (9,10,11,12,13,21,23,33,34,45,48,52,53,54,55,57) have mixed types. Specify dtype option on import or set low_memory=False.\n",
      "\n"
     ]
    },
    {
     "name": "stdout",
     "output_type": "stream",
     "text": [
      "\n",
      ">>>>>>>>> CHunk Over >>>>>>>>>\n",
      "\n",
      "\n",
      ">>>>>>>>>WI_WB_9>>>>>>>>>\n",
      "\n",
      "\n",
      ">>>>>>>>> CHunk Over >>>>>>>>>\n",
      "\n"
     ]
    }
   ],
   "source": [
    "for folder in folders:\n",
    "    if os.path.isdir(currentPath + folder):\n",
    "        print(folder)\n",
    "        wbchunksFolderPath = currentPath + folder + fileSeparator + \"WB_CHUNKS\" + fileSeparator\n",
    "        wbchunks = os.listdir(wbchunksFolderPath + \".\")\n",
    "        #wbchunks = [\"WI_WB_5\"]\n",
    "        for chunk in wbchunks:\n",
    "            print(\"\\n>>>>>>>>>\" + chunk + \">>>>>>>>>\\n\")\n",
    "            directory = wbchunksFolderPath + chunk + fileSeparator + \"SITES\" + fileSeparator\n",
    "            wbfiles = os.listdir(directory + \".\")\n",
    "            for file in wbfiles:\n",
    "                if file.endswith(\".csv\"):\n",
    "                    absPath = os.path.abspath(os.path.join(directory, file))\n",
    "                    #print(file)\n",
    "                    calculateActivityDateFrequency(absPath)\n",
    "            print(\"\\n>>>>>>>>> CHunk Over >>>>>>>>>\\n\")"
   ]
  },
  {
   "cell_type": "code",
   "execution_count": 122,
   "metadata": {
    "scrolled": true
   },
   "outputs": [
    {
     "name": "stdout",
     "output_type": "stream",
     "text": [
      "['4-2014', '6-1980', '11-1980', '12-1996', '2-2016', '10-1986', '10-1987', '4-1988', '11-1988', '3-1989', '3-1990', '3-1991', '11-1993', '3-1994', '11-1994', '3-2005', '2-2014', '5-1973', '6-1973', '7-1973', '8-1973', '7-1974', '8-1974', '6-1983', '7-1983', '8-1983', '5-1984', '6-1984', '7-1984', '9-1984', '5-1986', '6-1975', '7-1975', '8-1975', '9-1975', '6-1985', '7-1985', '8-1985', '9-1985', '6-1961', '6-1979', '6-1974', '9-1974', '10-1974', '6-1976', '7-1976', '8-1976', '8-1979', '9-1979', '9-1980', '6-1981', '7-1981', '8-1981', '9-1981', '10-1981', '5-1977', '6-1977', '7-1977', '8-1977', '9-1977', '10-1977', '9-1983', '7-1979', '10-1979', '7-1980', '8-1980', '3-1971', '3-1972', '11-2010', '11-2011', '2-2012', '11-2012', '5-1976', '5-1978', '7-1978', '8-1978', '11-1996', '11-1997', '11-2006', '11-2008', '2-1990', '3-1992', '11-1992', '3-1993', '3-1995', '3-1997', '11-1998', '2-2000', '3-2000', '3-2001', '2-2002', '3-2016', '3-2017', '3-1975', '5-1975', '11-1975', '1-1976', '2-1976', '10-1984', '4-1986', '2-1987', '4-1987', '11-1987', '2-1988', '1-1998', '2-1998', '1-1999', '1-2000', '3-2002', '11-2002', '1-2003', '2-2003', '11-2013', '5-1974', '11-1979', '5-1980', '11-1974', '1-1975', '2-1975', '12-1975', '10-1976', '1-1977', '2-1977', '4-1977', '11-2007', '2-1984', '4-1984', '2-1985', '4-1985', '2-1989', '2-2001', '2-1981', '11-1990', '11-1991', '12-1979', '1-1980', '3-1980', '9-2017', '12-1997', '11-1999', '2-2004', '11-2016', '11-2015', '1-1994', '11-1995', '12-1995', '1-1996', '3-1996', '11-2004', '2-2005', '11-2005', '3-2007', '1-2016', '12-2016', '1-2017', '2-2017', '3-2008', '2-2009', '11-2014', '3-2015', '11-2000', '2-2008', '1-1997', '1-2001', '11-2001', '1-2002', '3-2003', '3-2006', '11-1986', '1-2006', '2-2006', '12-2006', '1-2007', '2-2007', '12-2007', '1-2008', '12-2008', '1-2009', '3-2009', '11-2009', '12-2009', '1-2010', '12-2010', '12-2011', '1-2012', '12-2012', '1-2014', '6-2209', '1-2015', '2-2015', '3-1987', '1-1989', '11-1989', '12-2005', '1-2013', '5-1985', '10-1985', '12-2002', '11-2003', '12-2003', '1-2004', '3-2004', '1-1991', '8-1982', '3-1986', '1-1987', '12-1998', '12-1999', '2-1986', '12-1988', '1-1990', '12-1994', '3-1976', '1-1992', '1-1993', '1-1995', '11-1978', '11-1984', '3-1985', '11-1985', '12-1987', '1-1900', '12-2013', '12-2000', '5-1983', '10-1975', '9-1976', '6-1948', '9-1957', '7-1971', '2-1982', '4-1982', '5-1982', '6-1982', '7-1982', '9-1982', '10-1982', '7-1951', '5-1981', '1-1988', '3-1988', '12-2001', '12-1993', '12-2004', '1-2005', '11-1981', '12-1981', '1-1982', '3-1982', '11-1982', '12-1982', '1-1983', '2-1983', '3-1983', '4-1983', '10-1983', '11-1983', '12-1983', '1-1984', '3-1984', '12-1984', '1-1985', '12-1985', '1-1986', '1-1901', '12-1986', '12-1989', '12-1991', '12-1992', '6-1978', '9-1978', '9-1973', '4-1976', '11-1976', '3-1978', '10-1978', '10-1946', '7-1969', '3-1977', '7-1933', '9-1965', '5-1979', '12-1990', '12-1976', '2-1980', '4-1980', '10-1973', '2-1972', '1-1953', '3-1953', '4-1953', '6-1953', '7-1953', '8-1953', '11-1953', '1-1954', '4-1954', '6-1954', '7-1954', '9-1954', '11-1954', '12-1954', '2-1955', '4-1955', '5-1955', '6-1955', '8-1955', '10-1955', '2-1956', '4-1956', '7-1956', '9-1956', '10-1956', '12-1956', '4-1957', '6-1957', '7-1957', '10-1957', '12-1957', '1-1958', '3-1958', '4-1958', '5-1958', '6-1958', '7-1958', '9-1958', '10-1958', '11-1958', '2-1959', '3-1959', '5-1959', '6-1959', '7-1959', '10-1959', '5-1960', '7-1960', '9-1960', '11-1960', '2-1961', '4-1961', '7-1961', '8-1961', '4-1962', '7-1962', '8-1962', '9-1962', '11-1962', '2-1963', '6-1963', '11-1963', '5-1964', '6-1964', '7-1964', '8-1964', '9-1964', '10-1964', '3-1965', '5-1965', '6-1965', '8-1965', '10-1965', '6-1967', '8-1967', '10-1967', '12-1967', '2-1968', '4-1968', '6-1968', '7-1968', '8-1968', '9-1968', '10-1968', '11-1968', '12-1968', '1-1969', '3-1969', '4-1969', '5-1969', '6-1969', '8-1969', '9-1969', '10-1969', '12-1969', '1-1970', '2-1970', '4-1970', '6-1970', '7-1970', '8-1970', '9-1970', '10-1970', '11-1970', '12-1970', '1-1971', '2-1971', '4-1971', '5-1971', '6-1971', '8-1971', '9-1971', '10-1971', '11-1971', '4-1972', '5-1972', '6-1972', '7-1972', '8-1972', '9-1972', '10-1972', '11-1972', '12-1972', '1-1973', '2-1973', '3-1973', '4-1973', '11-1973', '12-1973', '1-1974', '2-1974', '3-1974', '4-1974', '12-1974', '4-1975', '11-1977', '12-1977', '1-1978', '2-1978', '4-1978', '12-1978', '1-1979', '2-1979', '3-1979', '4-1979', '10-1980', '1-1981', '3-1981', '4-1981', '8-1947', '6-1960', '12-2014', '12-2015', '6-1947', '7-1926', '7-1952', '7-1900', '9-1961', '5-1948', '7-1950']\n"
     ]
    }
   ],
   "source": [
    "count = 0\n",
    "lessThan500Obs = []\n",
    "#activity_date_frequency = {\"10-2012\": [\"121\",\"2222\",\"324\"], \"11-2012\":[\"313\",\"009\"], \"9-2012\": [\"105\",\"7656\",\"323\", \"4445\",\"1\"]}\n",
    "for key, val in activity_date_frequency.items():\n",
    "    comb = key + \":\" + str(len(val))\n",
    "   # if key == \"nan-nan\":\n",
    "    #print(comb)\n",
    "    if key == \"nan-nan\":\n",
    "        print(\"########################NAN############\")\n",
    "    if len(val) < 500:\n",
    "        count  = count + 1\n",
    "        lessThan500Obs.append(key)\n",
    "    x.append(len(val))\n",
    "#print(count)   \n",
    "#print(x)\n",
    "print(len(lessThan500Obs)"
   ]
  },
  {
   "cell_type": "code",
   "execution_count": 118,
   "metadata": {},
   "outputs": [
    {
     "data": {
      "text/html": [
       "<iframe id=\"igraph\" scrolling=\"no\" style=\"border:none;\" seamless=\"seamless\" src=\"https://plot.ly/~sdutta7/6.embed\" height=\"525px\" width=\"100%\"></iframe>"
      ],
      "text/plain": [
       "<plotly.tools.PlotlyDisplay object>"
      ]
     },
     "execution_count": 118,
     "metadata": {},
     "output_type": "execute_result"
    }
   ],
   "source": [
    "data = [go.Histogram(x=x)]\n",
    "layout = go.Layout(\n",
    "    title='Observations spread across months',\n",
    "    xaxis=dict(\n",
    "        title='No. of observations',\n",
    "        titlefont=dict(\n",
    "            family='Courier New, monospace',\n",
    "            size=18,\n",
    "            color='#7f7f7f'\n",
    "        )\n",
    "    ),\n",
    "    yaxis=dict(\n",
    "        title='No. of months',\n",
    "        titlefont=dict(\n",
    "            family='Courier New, monospace',\n",
    "            size=18,\n",
    "            color='#7f7f7f'\n",
    "        )\n",
    "    )\n",
    ")\n",
    "fig = go.Figure(data=data, layout=layout)\n",
    "py.iplot(fig, filename='histogram3')"
   ]
  },
  {
   "cell_type": "code",
   "execution_count": null,
   "metadata": {
    "collapsed": true
   },
   "outputs": [],
   "source": []
  }
 ],
 "metadata": {
  "kernelspec": {
   "display_name": "Python 3",
   "language": "python",
   "name": "python3"
  },
  "language_info": {
   "codemirror_mode": {
    "name": "ipython",
    "version": 3
   },
   "file_extension": ".py",
   "mimetype": "text/x-python",
   "name": "python",
   "nbconvert_exporter": "python",
   "pygments_lexer": "ipython3",
   "version": "3.6.3"
  }
 },
 "nbformat": 4,
 "nbformat_minor": 2
}

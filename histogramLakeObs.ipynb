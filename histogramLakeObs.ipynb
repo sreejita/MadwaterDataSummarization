{
 "cells": [
  {
   "cell_type": "code",
   "execution_count": 1,
   "metadata": {
    "collapsed": true
   },
   "outputs": [],
   "source": [
    "import os\n",
    "import csv\n",
    "import plotly.plotly as py\n",
    "import plotly.graph_objs as go"
   ]
  },
  {
   "cell_type": "code",
   "execution_count": 2,
   "metadata": {
    "collapsed": true
   },
   "outputs": [],
   "source": [
    "currentPath = \"C:\\\\Users\\\\sreej\\\\Documents\\\\wisconsin\\\\Fall 2017\\\\CS 799\\\\MODIFIED_SITES_DATA\\\\\"\n",
    "fileSeparator = \"\\\\\"\n",
    "folders = os.listdir(currentPath + \".\")\n",
    "#folders = ['WISCONSIN_SITES']\n",
    "xUnique = []\n",
    "xTotal = []\n",
    "lakes0to99 = []\n",
    "lakes0to999 = []\n",
    "mostChars = {}\n",
    "\n",
    "#name of the file and path so that we can read it. Flag is to mention whether to remove the last character F/S.\n",
    "def calculateUniqueFrequencies(name, path, flag):\n",
    "    activity_identifier_list = []\n",
    "    charac = []\n",
    "    with open(path, 'r', encoding='UTF-8') as inp:\n",
    "        for row in csv.reader(inp):\n",
    "            if(row and row[3] != \"\" and row[3]!=\"ActivityIdentifier\"):\n",
    "                if(flag):\n",
    "                    activity_identifier_list.append(row[3][:-1])\n",
    "                else:\n",
    "                    activity_identifier_list.append(row[3])\n",
    "                    charac.append(row[70])\n",
    "    \n",
    "    if(len(set(activity_identifier_list)) < 5 and len(set(activity_identifier_list)) > 0):\n",
    "        mostChars[name] = set(charac)\n",
    "        \n",
    "    return len(set(activity_identifier_list))\n",
    "\n",
    "def calculateTotalFrequencies(name, path, flag):\n",
    "    activity_identifier_list = []\n",
    "    with open(path, 'r', encoding='UTF-8') as inp:\n",
    "        for row in csv.reader(inp):\n",
    "            if(row and row[3] != \"\" and row[3]!=\"ActivityIdentifier\"):\n",
    "                if(flag):\n",
    "                    activity_identifier_list.append(row[3][:-1])\n",
    "                else:\n",
    "                    activity_identifier_list.append(row[3])\n",
    "    return len(activity_identifier_list)\n",
    "\n",
    "def getUniqueFrequencies(name, path):\n",
    "    flag=0 #initialize flag as 1. Flag 1 is used to remove the last character from name!\n",
    "    frequencies = calculateUniqueFrequencies(name, path, flag)\n",
    "    return frequencies\n",
    "\n",
    "def getTotalFrequencies(name, path):\n",
    "    flag=0 #initialize flag as 1. Flag 1 is used to remove the last character from name!\n",
    "    frequencies = calculateTotalFrequencies(name, path, flag)\n",
    "    return frequencies\n",
    "\n"
   ]
  },
  {
   "cell_type": "code",
   "execution_count": 3,
   "metadata": {},
   "outputs": [
    {
     "name": "stdout",
     "output_type": "stream",
     "text": [
      "INDIANA_SITES\n",
      "\n",
      "IN_WB_0 processed\n",
      "\n",
      "IN_WB_1 processed\n",
      "\n",
      "IN_WB_2 processed\n",
      "MICHIGAN_SITES\n",
      "\n",
      "MI_WB_0 processed\n",
      "\n",
      "MI_WB_1 processed\n",
      "\n",
      "MI_WB_2 processed\n",
      "\n",
      "MI_WB_3 processed\n",
      "\n",
      "MI_WB_4 processed\n",
      "\n",
      "MI_WB_5 processed\n",
      "\n",
      "MI_WB_6 processed\n",
      "MINNESOTA_SITES\n",
      "\n",
      "MN_WB_0 processed\n",
      "\n",
      "MN_WB_1 processed\n",
      "\n",
      "MN_WB_10 processed\n",
      "\n",
      "MN_WB_11 processed\n",
      "\n",
      "MN_WB_12 processed\n",
      "\n",
      "MN_WB_2 processed\n",
      "\n",
      "MN_WB_3 processed\n",
      "\n",
      "MN_WB_4 processed\n",
      "\n",
      "MN_WB_5 processed\n",
      "\n",
      "MN_WB_6 processed\n",
      "\n",
      "MN_WB_7 processed\n",
      "\n",
      "MN_WB_8 processed\n",
      "\n",
      "MN_WB_9 processed\n",
      "WISCONSIN_SITES\n",
      "\n",
      "WI_WB_0 processed\n",
      "\n",
      "WI_WB_1 processed\n",
      "\n",
      "WI_WB_10 processed\n",
      "\n",
      "WI_WB_11 processed\n",
      "\n",
      "WI_WB_2 processed\n",
      "\n",
      "WI_WB_3 processed\n",
      "\n",
      "WI_WB_4 processed\n",
      "\n",
      "WI_WB_5 processed\n",
      "\n",
      "WI_WB_6 processed\n",
      "\n",
      "WI_WB_7 processed\n",
      "\n",
      "WI_WB_8 processed\n",
      "\n",
      "WI_WB_9 processed\n"
     ]
    }
   ],
   "source": [
    "for folder in folders:\n",
    "    if os.path.isdir(currentPath + folder):\n",
    "        print(folder)\n",
    "        wbchunksFolderPath = currentPath + folder + fileSeparator + \"WB_CHUNKS\" + fileSeparator\n",
    "        wbchunks = os.listdir(wbchunksFolderPath + \".\")\n",
    "        for chunk in wbchunks:\n",
    "            directory = wbchunksFolderPath + chunk + fileSeparator + \"SITES\" + fileSeparator\n",
    "            wbfiles = os.listdir(directory + \".\")\n",
    "            for file in wbfiles:\n",
    "                if file.endswith(\".csv\"):\n",
    "                    absPath = os.path.abspath(os.path.join(directory, file))\n",
    "                    uniqueObs = getUniqueFrequencies(file, absPath)\n",
    "                    totalObs = getTotalFrequencies(file, absPath)\n",
    "                    if(uniqueObs != 0):\n",
    "                        xUnique.append(uniqueObs)\n",
    "                        if(uniqueObs < 100):\n",
    "                            lakes0to99.append(uniqueObs)\n",
    "                    if(totalObs != 0):\n",
    "                        xTotal.append(totalObs)\n",
    "                        if(totalObs < 1000):\n",
    "                            lakes0to999.append(totalObs)\n",
    "            print(\"\\n\" + chunk + \" processed\")\n"
   ]
  },
  {
   "cell_type": "code",
   "execution_count": 4,
   "metadata": {},
   "outputs": [
    {
     "data": {
      "text/html": [
       "<iframe id=\"igraph\" scrolling=\"no\" style=\"border:none;\" seamless=\"seamless\" src=\"https://plot.ly/~sdutta7/22.embed\" height=\"525px\" width=\"100%\"></iframe>"
      ],
      "text/plain": [
       "<plotly.tools.PlotlyDisplay object>"
      ]
     },
     "execution_count": 4,
     "metadata": {},
     "output_type": "execute_result"
    }
   ],
   "source": [
    "data1 = [go.Histogram(x=xUnique)]\n",
    "xUnique.sort()\n",
    "#print(xUnique)\n",
    "layout1 = go.Layout(\n",
    "    title='Unique observations spread across lakes',\n",
    "    xaxis=dict(\n",
    "        title='No. of unique observations',\n",
    "        titlefont=dict(\n",
    "            family='Courier New, monospace',\n",
    "            size=18,\n",
    "            color='#7f7f7f'\n",
    "        )\n",
    "    ),\n",
    "    yaxis=dict(\n",
    "        title='No. of lakes',\n",
    "        titlefont=dict(\n",
    "            family='Courier New, monospace',\n",
    "            size=18,\n",
    "            color='#7f7f7f'\n",
    "        )\n",
    "    )\n",
    ")\n",
    "fig = go.Figure(data=data1, layout=layout1)\n",
    "py.iplot(fig, filename='histogramUniqueObs')\n"
   ]
  },
  {
   "cell_type": "code",
   "execution_count": 5,
   "metadata": {},
   "outputs": [
    {
     "data": {
      "text/html": [
       "<iframe id=\"igraph\" scrolling=\"no\" style=\"border:none;\" seamless=\"seamless\" src=\"https://plot.ly/~sdutta7/24.embed\" height=\"525px\" width=\"100%\"></iframe>"
      ],
      "text/plain": [
       "<plotly.tools.PlotlyDisplay object>"
      ]
     },
     "execution_count": 5,
     "metadata": {},
     "output_type": "execute_result"
    }
   ],
   "source": [
    "data2 = [go.Histogram(x=lakes0to99)]\n",
    "layout2 = go.Layout(\n",
    "    title='Lakes with <100 unique observations',\n",
    "    xaxis=dict(\n",
    "        title='No. of unique observations',\n",
    "        titlefont=dict(\n",
    "            family='Courier New, monospace',\n",
    "            size=18,\n",
    "            color='#7f7f7f'\n",
    "        )\n",
    "    ),\n",
    "    yaxis=dict(\n",
    "        title='No. of lakes',\n",
    "        titlefont=dict(\n",
    "            family='Courier New, monospace',\n",
    "            size=18,\n",
    "            color='#7f7f7f'\n",
    "        )\n",
    "    )\n",
    ")\n",
    "fig = go.Figure(data=data2, layout=layout2)\n",
    "py.iplot(fig, filename='histogramUniqueObs99')"
   ]
  },
  {
   "cell_type": "code",
   "execution_count": 6,
   "metadata": {},
   "outputs": [
    {
     "name": "stdout",
     "output_type": "stream",
     "text": [
      "[('Depth, Secchi disk depth', 2290), ('pH', 841), ('Specific conductance', 827), ('Phosphorus', 786), ('Temperature, water', 785), ('Total Kjeldahl nitrogen', 508), ('Sulfate', 423), ('Dissolved oxygen', 393), ('Chloride', 393), ('Alkalinity, total', 352), ('Organic carbon', 252), ('Phosphate-phosphorus', 244), ('Alkalinity, Carbonate as CaCO3', 234), ('Inorganic nitrogen (nitrate and nitrite) as N', 195), ('Chlorophyll a, corrected for pheophytin', 193), ('Orthophosphate', 188), ('Chlorophyll', 148), ('Conductance @25C', 146), ('Chlorophyll a, uncorrected for pheophytin', 137), ('Total suspended solids', 123), ('Iron', 121), ('Inorganic nitrogen (nitrate and nitrite)', 118), ('Turbidity', 114), ('Dissolved oxygen saturation', 106), ('Chlorophyll a (probe relative fluorescence)', 86), ('Phosphorus as P', 83), ('Depth, bottom', 70), ('Organic Nitrogen', 70), ('Total Kjeldahl nitrogen as N', 69), ('Carbonate', 67), ('Orthophosphate as PO4', 64), ('Depth', 59), ('Ammonia and ammonium as NH4', 58), ('Ammonia and ammonium', 58), ('Ammonia', 56), ('Oxidation reduction potential (ORP)', 56), ('Nitrate as N', 55), ('Orthophosphate as P', 47), ('Nitrogen, mixed forms (NH3), (NH4), organic, (NO2) and (NO3)', 44), ('Nitrite as N', 33), ('Nitrate', 27), ('Microcystin', 27), ('Transparency, Secchi tube with disk', 13), ('Phosphate-phosphorus as P', 9), ('Hardness, carbonate', 8), ('Sulfate as SO4', 8), ('Nitrogen, mixed forms (NH3), (NH4), organic, (NO2) and (NO3), as NO3', 7), ('Conductivity', 7), ('Nitrite', 6), ('Phytoplankton', 4), ('Actual Number of Individuals Examined', 4), ('Chemical oxygen demand', 3), ('Height, gage', 3), ('Chlorophyll a, free of pheophytin', 3), ('Cylindrospermopsins', 2), ('Hardness, Carbonate as CaCO3', 2)]\n",
      "56\n"
     ]
    }
   ],
   "source": [
    "#print(mostChars)\n",
    "#print(len(mostChars))\n",
    "mostCharFreq = {}\n",
    "\n",
    "for key,val in mostChars.items():\n",
    "    for v in val:\n",
    "        if v not in mostCharFreq:\n",
    "            mostCharFreq[v] = 1\n",
    "        else:\n",
    "            mostCharFreq[v] = mostCharFreq[v] + 1\n",
    "\n",
    "s = [(k, mostCharFreq[k]) for k in sorted(mostCharFreq, key=mostCharFreq.get, reverse=True)]\n",
    "print(s)\n",
    "print(len(s))\n",
    "    "
   ]
  },
  {
   "cell_type": "code",
   "execution_count": 7,
   "metadata": {},
   "outputs": [
    {
     "data": {
      "text/html": [
       "<iframe id=\"igraph\" scrolling=\"no\" style=\"border:none;\" seamless=\"seamless\" src=\"https://plot.ly/~sdutta7/26.embed\" height=\"525px\" width=\"100%\"></iframe>"
      ],
      "text/plain": [
       "<plotly.tools.PlotlyDisplay object>"
      ]
     },
     "execution_count": 7,
     "metadata": {},
     "output_type": "execute_result"
    }
   ],
   "source": [
    "data3 = [go.Histogram(x=xTotal)]\n",
    "xTotal.sort()\n",
    "#print(xTotal)\n",
    "layout3 = go.Layout(\n",
    "    title='Total observations spread across lakes',\n",
    "    xaxis=dict(\n",
    "        title='No. of total observations',\n",
    "        titlefont=dict(\n",
    "            family='Courier New, monospace',\n",
    "            size=18,\n",
    "            color='#7f7f7f'\n",
    "        )\n",
    "    ),\n",
    "    yaxis=dict(\n",
    "        title='No. of lakes',\n",
    "        titlefont=dict(\n",
    "            family='Courier New, monospace',\n",
    "            size=18,\n",
    "            color='#7f7f7f'\n",
    "        )\n",
    "    )\n",
    ")\n",
    "fig = go.Figure(data=data3, layout=layout3)\n",
    "py.iplot(fig, filename='histogramTotalObs')"
   ]
  },
  {
   "cell_type": "code",
   "execution_count": 8,
   "metadata": {},
   "outputs": [
    {
     "data": {
      "text/html": [
       "<iframe id=\"igraph\" scrolling=\"no\" style=\"border:none;\" seamless=\"seamless\" src=\"https://plot.ly/~sdutta7/28.embed\" height=\"525px\" width=\"100%\"></iframe>"
      ],
      "text/plain": [
       "<plotly.tools.PlotlyDisplay object>"
      ]
     },
     "execution_count": 8,
     "metadata": {},
     "output_type": "execute_result"
    }
   ],
   "source": [
    "data4 = [go.Histogram(x=lakes0to999)]\n",
    "layout4 = go.Layout(\n",
    "    title='Lakes with <1000 total observations',\n",
    "    xaxis=dict(\n",
    "        title='No. of total observations',\n",
    "        titlefont=dict(\n",
    "            family='Courier New, monospace',\n",
    "            size=18,\n",
    "            color='#7f7f7f'\n",
    "        )\n",
    "    ),\n",
    "    yaxis=dict(\n",
    "        title='No. of lakes',\n",
    "        titlefont=dict(\n",
    "            family='Courier New, monospace',\n",
    "            size=18,\n",
    "            color='#7f7f7f'\n",
    "        )\n",
    "    )\n",
    ")\n",
    "fig = go.Figure(data=data4, layout=layout4)\n",
    "py.iplot(fig, filename='histogramTotalObs999')"
   ]
  },
  {
   "cell_type": "code",
   "execution_count": null,
   "metadata": {
    "collapsed": true
   },
   "outputs": [],
   "source": []
  }
 ],
 "metadata": {
  "kernelspec": {
   "display_name": "Python 3",
   "language": "python",
   "name": "python3"
  },
  "language_info": {
   "codemirror_mode": {
    "name": "ipython",
    "version": 3
   },
   "file_extension": ".py",
   "mimetype": "text/x-python",
   "name": "python",
   "nbconvert_exporter": "python",
   "pygments_lexer": "ipython3",
   "version": "3.6.3"
  }
 },
 "nbformat": 4,
 "nbformat_minor": 2
}

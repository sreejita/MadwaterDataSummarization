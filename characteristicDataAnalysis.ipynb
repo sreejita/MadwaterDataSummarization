{
 "cells": [
  {
   "cell_type": "code",
   "execution_count": 5,
   "metadata": {
    "collapsed": true
   },
   "outputs": [],
   "source": [
    "import csv\n",
    "import pandas as pd\n",
    "import datetime\n",
    "import os\n",
    "import numpy as np\n",
    "from collections import OrderedDict"
   ]
  },
  {
   "cell_type": "code",
   "execution_count": 6,
   "metadata": {},
   "outputs": [
    {
     "name": "stdout",
     "output_type": "stream",
     "text": [
      "['INDIANA_SITES', 'MICHIGAN_SITES', 'MINNESOTA_SITES', 'WISCONSIN_SITES']\n"
     ]
    }
   ],
   "source": [
    "currentPath = \"C:\\\\Users\\\\deepa\\\\Documents\\\\Sreejita-799\\\\MODIFIED_SITES_DATA\\\\\"\n",
    "fileSeparator = \"\\\\\"\n",
    "folders = os.listdir(currentPath + \".\")\n",
    "print(folders)\n",
    "#folders = ['WISCONSIN_SITES']\n",
    "x = []\n",
    "\n",
    "characteristic_name_to_data = {}"
   ]
  },
  {
   "cell_type": "code",
   "execution_count": 7,
   "metadata": {
    "collapsed": true
   },
   "outputs": [],
   "source": [
    "class CharacteristicDataAnalyzation:\n",
    "    characteristic_values=[]\n",
    "    samples_per_month = {}\n",
    "    samples_per_year = {}\n",
    "    depth_to_value = {}\n",
    "    depth_values = []\n",
    "\n",
    "    def __init__(self, characteristic_values, samples_per_month, samples_per_year, depth_to_value, depth_values):\n",
    "        self.characteristic_values = characteristic_values\n",
    "        self.samples_per_month = samples_per_month\n",
    "        self.samples_per_year = samples_per_year\n",
    "        self.depth_to_value = depth_to_value\n",
    "\n",
    "\n",
    "def calculateActivityDateFrequency(path):\n",
    "    try:\n",
    "        df=pd.read_csv(path,sep=',')\n",
    "        for index, row in df.iterrows():\n",
    "            date = pd.to_datetime(row['ActivityStartDate'], errors='coerce', format=\"%Y/%m/%d\")\n",
    "            month = str(date.month)\n",
    "            year =  str(date.year)\n",
    "            try:\n",
    "                value = float(row['NormalizedResultMeasureValue'])\n",
    "            except ValueError: \n",
    "                continue\n",
    "            name = row['NormalizedCharacteristicName']\n",
    "            activity_depth_value = row['ActivityDepthHeightMeasure/MeasureValue']\n",
    "            if str(date.month) == \"nan\" or str(date.year) == \"nan\" or str(value) == \"nan\":\n",
    "                continue\n",
    "            if name in characteristic_name_to_data:\n",
    "                characteristic_class_obj = characteristic_name_to_data[name]\n",
    "                characteristic_class_obj.characteristic_values.append(value)\n",
    "                if month in characteristic_class_obj.samples_per_month:\n",
    "                    characteristic_class_obj.samples_per_month[month] += 1\n",
    "                else:\n",
    "                    characteristic_class_obj.samples_per_month[month] = 1\n",
    "                if year in characteristic_class_obj.samples_per_year:\n",
    "                    characteristic_class_obj.samples_per_year[year] += 1\n",
    "                else:\n",
    "                    characteristic_class_obj.samples_per_year[year] = 1\n",
    "                if(activity_depth_value != \"\" and pd.isnull(activity_depth_value) != True):\n",
    "                    characteristic_class_obj.depth_values.append(activity_depth_value)\n",
    "                    if activity_depth_value in characteristic_class_obj.depth_to_value:\n",
    "                        characteristic_class_obj.depth_to_value[activity_depth_value] += 1\n",
    "                    else:\n",
    "                        characteristic_class_obj.depth_to_value[activity_depth_value] = 1\n",
    "            else:\n",
    "                #create class obj\n",
    "                values = []\n",
    "                samples_p_month = {}\n",
    "                samples_p_year = {}\n",
    "                depth_to_val = {}\n",
    "                depth_vals = []\n",
    "                values.append(value)\n",
    "                samples_p_month[month] = 1\n",
    "                samples_p_year[year] = 1\n",
    "                if(activity_depth_value != \"\" and pd.isnull(activity_depth_value) != True):\n",
    "                    depth_vals.append(activity_depth_value)\n",
    "                    depth_to_val[activity_depth_value] = 1\n",
    "                characteristic_class_obj = CharacteristicDataAnalyzation(values, samples_p_month, samples_p_year, depth_to_val, depth_vals)\n",
    "                characteristic_name_to_data[name] = characteristic_class_obj\n",
    "        return 1\n",
    "    except pd.io.common.EmptyDataError:\n",
    "        return 0\n"
   ]
  },
  {
   "cell_type": "code",
   "execution_count": 8,
   "metadata": {},
   "outputs": [
    {
     "name": "stdout",
     "output_type": "stream",
     "text": [
      "INDIANA_SITES\n",
      "\n",
      "IN_WB_0 processed\n",
      "\n",
      ">>>>>>>>> CHunk Over >>>>>>>>>\n",
      "\n",
      "\n",
      "IN_WB_1 processed\n",
      "\n",
      ">>>>>>>>> CHunk Over >>>>>>>>>\n",
      "\n",
      "\n",
      "IN_WB_2 processed\n",
      "\n",
      ">>>>>>>>> CHunk Over >>>>>>>>>\n",
      "\n",
      "MICHIGAN_SITES\n",
      "\n",
      "MI_WB_0 processed\n"
     ]
    },
    {
     "name": "stderr",
     "output_type": "stream",
     "text": [
      "C:\\Users\\deepa\\Anaconda3\\lib\\site-packages\\IPython\\core\\interactiveshell.py:2802: DtypeWarning: Columns (25,26,42,54,55,57,59,61) have mixed types. Specify dtype option on import or set low_memory=False.\n",
      "  if self.run_code(code, result):\n",
      "C:\\Users\\deepa\\Anaconda3\\lib\\site-packages\\IPython\\core\\interactiveshell.py:2802: DtypeWarning: Columns (36,40,50,69) have mixed types. Specify dtype option on import or set low_memory=False.\n",
      "  if self.run_code(code, result):\n",
      "C:\\Users\\deepa\\Anaconda3\\lib\\site-packages\\IPython\\core\\interactiveshell.py:2802: DtypeWarning: Columns (10,11,12,15,21,34,36,40,45,50,55,69) have mixed types. Specify dtype option on import or set low_memory=False.\n",
      "  if self.run_code(code, result):\n",
      "C:\\Users\\deepa\\Anaconda3\\lib\\site-packages\\IPython\\core\\interactiveshell.py:2802: DtypeWarning: Columns (23,34,36,40,50,57,69) have mixed types. Specify dtype option on import or set low_memory=False.\n",
      "  if self.run_code(code, result):\n"
     ]
    },
    {
     "name": "stdout",
     "output_type": "stream",
     "text": [
      "\n",
      ">>>>>>>>> CHunk Over >>>>>>>>>\n",
      "\n",
      "\n",
      "MI_WB_1 processed\n",
      "\n",
      ">>>>>>>>> CHunk Over >>>>>>>>>\n",
      "\n",
      "\n",
      "MI_WB_2 processed\n",
      "\n",
      ">>>>>>>>> CHunk Over >>>>>>>>>\n",
      "\n",
      "\n",
      "MI_WB_3 processed\n"
     ]
    },
    {
     "name": "stderr",
     "output_type": "stream",
     "text": [
      "C:\\Users\\deepa\\Anaconda3\\lib\\site-packages\\IPython\\core\\interactiveshell.py:2802: DtypeWarning: Columns (23,34,69) have mixed types. Specify dtype option on import or set low_memory=False.\n",
      "  if self.run_code(code, result):\n"
     ]
    },
    {
     "name": "stdout",
     "output_type": "stream",
     "text": [
      "\n",
      ">>>>>>>>> CHunk Over >>>>>>>>>\n",
      "\n",
      "\n",
      "MI_WB_4 processed\n",
      "\n",
      ">>>>>>>>> CHunk Over >>>>>>>>>\n",
      "\n",
      "\n",
      "MI_WB_5 processed\n",
      "\n",
      ">>>>>>>>> CHunk Over >>>>>>>>>\n",
      "\n",
      "\n",
      "MI_WB_6 processed\n",
      "\n",
      ">>>>>>>>> CHunk Over >>>>>>>>>\n",
      "\n",
      "MINNESOTA_SITES\n",
      "\n",
      "MN_WB_0 processed\n"
     ]
    },
    {
     "name": "stderr",
     "output_type": "stream",
     "text": [
      "C:\\Users\\deepa\\Anaconda3\\lib\\site-packages\\IPython\\core\\interactiveshell.py:2802: DtypeWarning: Columns (13,14,57) have mixed types. Specify dtype option on import or set low_memory=False.\n",
      "  if self.run_code(code, result):\n",
      "C:\\Users\\deepa\\Anaconda3\\lib\\site-packages\\IPython\\core\\interactiveshell.py:2802: DtypeWarning: Columns (10,11,12,23,40,41,58) have mixed types. Specify dtype option on import or set low_memory=False.\n",
      "  if self.run_code(code, result):\n",
      "C:\\Users\\deepa\\Anaconda3\\lib\\site-packages\\IPython\\core\\interactiveshell.py:2802: DtypeWarning: Columns (17,19,21,23,38,40,41,45,55,58) have mixed types. Specify dtype option on import or set low_memory=False.\n",
      "  if self.run_code(code, result):\n",
      "C:\\Users\\deepa\\Anaconda3\\lib\\site-packages\\IPython\\core\\interactiveshell.py:2802: DtypeWarning: Columns (21,23,36,38,40,42) have mixed types. Specify dtype option on import or set low_memory=False.\n",
      "  if self.run_code(code, result):\n",
      "C:\\Users\\deepa\\Anaconda3\\lib\\site-packages\\IPython\\core\\interactiveshell.py:2802: DtypeWarning: Columns (21,23,40,48) have mixed types. Specify dtype option on import or set low_memory=False.\n",
      "  if self.run_code(code, result):\n",
      "C:\\Users\\deepa\\Anaconda3\\lib\\site-packages\\IPython\\core\\interactiveshell.py:2802: DtypeWarning: Columns (40,42) have mixed types. Specify dtype option on import or set low_memory=False.\n",
      "  if self.run_code(code, result):\n",
      "C:\\Users\\deepa\\Anaconda3\\lib\\site-packages\\IPython\\core\\interactiveshell.py:2802: DtypeWarning: Columns (41) have mixed types. Specify dtype option on import or set low_memory=False.\n",
      "  if self.run_code(code, result):\n",
      "C:\\Users\\deepa\\Anaconda3\\lib\\site-packages\\IPython\\core\\interactiveshell.py:2802: DtypeWarning: Columns (21,23,41,45,55) have mixed types. Specify dtype option on import or set low_memory=False.\n",
      "  if self.run_code(code, result):\n",
      "C:\\Users\\deepa\\Anaconda3\\lib\\site-packages\\IPython\\core\\interactiveshell.py:2802: DtypeWarning: Columns (21,23,40) have mixed types. Specify dtype option on import or set low_memory=False.\n",
      "  if self.run_code(code, result):\n",
      "C:\\Users\\deepa\\Anaconda3\\lib\\site-packages\\IPython\\core\\interactiveshell.py:2802: DtypeWarning: Columns (21,23,25,26,42,45,58,59,61) have mixed types. Specify dtype option on import or set low_memory=False.\n",
      "  if self.run_code(code, result):\n"
     ]
    },
    {
     "name": "stdout",
     "output_type": "stream",
     "text": [
      "\n",
      ">>>>>>>>> CHunk Over >>>>>>>>>\n",
      "\n",
      "\n",
      "MN_WB_1 processed\n"
     ]
    },
    {
     "name": "stderr",
     "output_type": "stream",
     "text": [
      "C:\\Users\\deepa\\Anaconda3\\lib\\site-packages\\IPython\\core\\interactiveshell.py:2802: DtypeWarning: Columns (21,23,38,40,42,45,58) have mixed types. Specify dtype option on import or set low_memory=False.\n",
      "  if self.run_code(code, result):\n",
      "C:\\Users\\deepa\\Anaconda3\\lib\\site-packages\\IPython\\core\\interactiveshell.py:2802: DtypeWarning: Columns (23,42,45,58) have mixed types. Specify dtype option on import or set low_memory=False.\n",
      "  if self.run_code(code, result):\n",
      "C:\\Users\\deepa\\Anaconda3\\lib\\site-packages\\IPython\\core\\interactiveshell.py:2802: DtypeWarning: Columns (42,48,49,58) have mixed types. Specify dtype option on import or set low_memory=False.\n",
      "  if self.run_code(code, result):\n",
      "C:\\Users\\deepa\\Anaconda3\\lib\\site-packages\\IPython\\core\\interactiveshell.py:2802: DtypeWarning: Columns (21,36,40,42,45) have mixed types. Specify dtype option on import or set low_memory=False.\n",
      "  if self.run_code(code, result):\n",
      "C:\\Users\\deepa\\Anaconda3\\lib\\site-packages\\IPython\\core\\interactiveshell.py:2802: DtypeWarning: Columns (17,19,21,23,42) have mixed types. Specify dtype option on import or set low_memory=False.\n",
      "  if self.run_code(code, result):\n",
      "C:\\Users\\deepa\\Anaconda3\\lib\\site-packages\\IPython\\core\\interactiveshell.py:2802: DtypeWarning: Columns (38,42,45,58) have mixed types. Specify dtype option on import or set low_memory=False.\n",
      "  if self.run_code(code, result):\n",
      "C:\\Users\\deepa\\Anaconda3\\lib\\site-packages\\IPython\\core\\interactiveshell.py:2802: DtypeWarning: Columns (41,45) have mixed types. Specify dtype option on import or set low_memory=False.\n",
      "  if self.run_code(code, result):\n",
      "C:\\Users\\deepa\\Anaconda3\\lib\\site-packages\\IPython\\core\\interactiveshell.py:2802: DtypeWarning: Columns (17,19,40,41,42) have mixed types. Specify dtype option on import or set low_memory=False.\n",
      "  if self.run_code(code, result):\n",
      "C:\\Users\\deepa\\Anaconda3\\lib\\site-packages\\IPython\\core\\interactiveshell.py:2802: DtypeWarning: Columns (23,38,42,45,58) have mixed types. Specify dtype option on import or set low_memory=False.\n",
      "  if self.run_code(code, result):\n",
      "C:\\Users\\deepa\\Anaconda3\\lib\\site-packages\\IPython\\core\\interactiveshell.py:2802: DtypeWarning: Columns (23,25,26,42,45) have mixed types. Specify dtype option on import or set low_memory=False.\n",
      "  if self.run_code(code, result):\n",
      "C:\\Users\\deepa\\Anaconda3\\lib\\site-packages\\IPython\\core\\interactiveshell.py:2802: DtypeWarning: Columns (17,19,21,23,25,26,36,38,40,42,45,55,58,59,61) have mixed types. Specify dtype option on import or set low_memory=False.\n",
      "  if self.run_code(code, result):\n"
     ]
    },
    {
     "name": "stdout",
     "output_type": "stream",
     "text": [
      "\n",
      ">>>>>>>>> CHunk Over >>>>>>>>>\n",
      "\n",
      "\n",
      "MN_WB_10 processed\n"
     ]
    },
    {
     "name": "stderr",
     "output_type": "stream",
     "text": [
      "C:\\Users\\deepa\\Anaconda3\\lib\\site-packages\\IPython\\core\\interactiveshell.py:2802: DtypeWarning: Columns (17,19,41,45) have mixed types. Specify dtype option on import or set low_memory=False.\n",
      "  if self.run_code(code, result):\n",
      "C:\\Users\\deepa\\Anaconda3\\lib\\site-packages\\IPython\\core\\interactiveshell.py:2802: DtypeWarning: Columns (17,19,40,45) have mixed types. Specify dtype option on import or set low_memory=False.\n",
      "  if self.run_code(code, result):\n",
      "C:\\Users\\deepa\\Anaconda3\\lib\\site-packages\\IPython\\core\\interactiveshell.py:2802: DtypeWarning: Columns (21,23,25,26,36,38,40,41,45,58,59,61) have mixed types. Specify dtype option on import or set low_memory=False.\n",
      "  if self.run_code(code, result):\n",
      "C:\\Users\\deepa\\Anaconda3\\lib\\site-packages\\IPython\\core\\interactiveshell.py:2802: DtypeWarning: Columns (36,38,40,42) have mixed types. Specify dtype option on import or set low_memory=False.\n",
      "  if self.run_code(code, result):\n",
      "C:\\Users\\deepa\\Anaconda3\\lib\\site-packages\\IPython\\core\\interactiveshell.py:2802: DtypeWarning: Columns (10,11,12,17,19,21,36,38,40,42,55,56,58) have mixed types. Specify dtype option on import or set low_memory=False.\n",
      "  if self.run_code(code, result):\n",
      "C:\\Users\\deepa\\Anaconda3\\lib\\site-packages\\IPython\\core\\interactiveshell.py:2802: DtypeWarning: Columns (21,36,38,40,41,45) have mixed types. Specify dtype option on import or set low_memory=False.\n",
      "  if self.run_code(code, result):\n",
      "C:\\Users\\deepa\\Anaconda3\\lib\\site-packages\\IPython\\core\\interactiveshell.py:2802: DtypeWarning: Columns (36,38,40,42,58) have mixed types. Specify dtype option on import or set low_memory=False.\n",
      "  if self.run_code(code, result):\n",
      "C:\\Users\\deepa\\Anaconda3\\lib\\site-packages\\IPython\\core\\interactiveshell.py:2802: DtypeWarning: Columns (21,23,36,38,40,42,45,58) have mixed types. Specify dtype option on import or set low_memory=False.\n",
      "  if self.run_code(code, result):\n",
      "C:\\Users\\deepa\\Anaconda3\\lib\\site-packages\\IPython\\core\\interactiveshell.py:2802: DtypeWarning: Columns (23,40) have mixed types. Specify dtype option on import or set low_memory=False.\n",
      "  if self.run_code(code, result):\n",
      "C:\\Users\\deepa\\Anaconda3\\lib\\site-packages\\IPython\\core\\interactiveshell.py:2802: DtypeWarning: Columns (17,19,23,40,45,55,56,58) have mixed types. Specify dtype option on import or set low_memory=False.\n",
      "  if self.run_code(code, result):\n",
      "C:\\Users\\deepa\\Anaconda3\\lib\\site-packages\\IPython\\core\\interactiveshell.py:2802: DtypeWarning: Columns (21,23,25,26,38) have mixed types. Specify dtype option on import or set low_memory=False.\n",
      "  if self.run_code(code, result):\n"
     ]
    },
    {
     "name": "stdout",
     "output_type": "stream",
     "text": [
      "\n",
      ">>>>>>>>> CHunk Over >>>>>>>>>\n",
      "\n",
      "\n",
      "MN_WB_11 processed\n"
     ]
    },
    {
     "name": "stderr",
     "output_type": "stream",
     "text": [
      "C:\\Users\\deepa\\Anaconda3\\lib\\site-packages\\IPython\\core\\interactiveshell.py:2802: DtypeWarning: Columns (21,42,45,58) have mixed types. Specify dtype option on import or set low_memory=False.\n",
      "  if self.run_code(code, result):\n",
      "C:\\Users\\deepa\\Anaconda3\\lib\\site-packages\\IPython\\core\\interactiveshell.py:2802: DtypeWarning: Columns (17,19,21,23,45,55,58) have mixed types. Specify dtype option on import or set low_memory=False.\n",
      "  if self.run_code(code, result):\n",
      "C:\\Users\\deepa\\Anaconda3\\lib\\site-packages\\IPython\\core\\interactiveshell.py:2802: DtypeWarning: Columns (6,15,21,23,25,26,34,42,45,55,57) have mixed types. Specify dtype option on import or set low_memory=False.\n",
      "  if self.run_code(code, result):\n",
      "C:\\Users\\deepa\\Anaconda3\\lib\\site-packages\\IPython\\core\\interactiveshell.py:2802: DtypeWarning: Columns (10,11,12,21,25,26,36,38,40,58,59,61) have mixed types. Specify dtype option on import or set low_memory=False.\n",
      "  if self.run_code(code, result):\n",
      "C:\\Users\\deepa\\Anaconda3\\lib\\site-packages\\IPython\\core\\interactiveshell.py:2802: DtypeWarning: Columns (21,42,58) have mixed types. Specify dtype option on import or set low_memory=False.\n",
      "  if self.run_code(code, result):\n",
      "C:\\Users\\deepa\\Anaconda3\\lib\\site-packages\\IPython\\core\\interactiveshell.py:2802: DtypeWarning: Columns (21,23,42,45,58) have mixed types. Specify dtype option on import or set low_memory=False.\n",
      "  if self.run_code(code, result):\n"
     ]
    },
    {
     "name": "stdout",
     "output_type": "stream",
     "text": [
      "\n",
      ">>>>>>>>> CHunk Over >>>>>>>>>\n",
      "\n",
      "\n",
      "MN_WB_12 processed\n"
     ]
    },
    {
     "name": "stderr",
     "output_type": "stream",
     "text": [
      "C:\\Users\\deepa\\Anaconda3\\lib\\site-packages\\IPython\\core\\interactiveshell.py:2802: DtypeWarning: Columns (6,14,21,23,25,26,40,42,57) have mixed types. Specify dtype option on import or set low_memory=False.\n",
      "  if self.run_code(code, result):\n",
      "C:\\Users\\deepa\\Anaconda3\\lib\\site-packages\\IPython\\core\\interactiveshell.py:2802: DtypeWarning: Columns (21,36,38) have mixed types. Specify dtype option on import or set low_memory=False.\n",
      "  if self.run_code(code, result):\n"
     ]
    },
    {
     "name": "stdout",
     "output_type": "stream",
     "text": [
      "\n",
      ">>>>>>>>> CHunk Over >>>>>>>>>\n",
      "\n",
      "\n",
      "MN_WB_2 processed\n"
     ]
    },
    {
     "name": "stderr",
     "output_type": "stream",
     "text": [
      "C:\\Users\\deepa\\Anaconda3\\lib\\site-packages\\IPython\\core\\interactiveshell.py:2802: DtypeWarning: Columns (6,13,14,18,21,23,25,26,40,42,57) have mixed types. Specify dtype option on import or set low_memory=False.\n",
      "  if self.run_code(code, result):\n",
      "C:\\Users\\deepa\\Anaconda3\\lib\\site-packages\\IPython\\core\\interactiveshell.py:2802: DtypeWarning: Columns (21,45,58) have mixed types. Specify dtype option on import or set low_memory=False.\n",
      "  if self.run_code(code, result):\n",
      "C:\\Users\\deepa\\Anaconda3\\lib\\site-packages\\IPython\\core\\interactiveshell.py:2802: DtypeWarning: Columns (10,11,12,21,23,25,26,36,38,40,42,58,59,61) have mixed types. Specify dtype option on import or set low_memory=False.\n",
      "  if self.run_code(code, result):\n",
      "C:\\Users\\deepa\\Anaconda3\\lib\\site-packages\\IPython\\core\\interactiveshell.py:2802: DtypeWarning: Columns (10,11,12,17,19,21,23,25,26,40,42,45,58,59,61,62) have mixed types. Specify dtype option on import or set low_memory=False.\n",
      "  if self.run_code(code, result):\n",
      "C:\\Users\\deepa\\Anaconda3\\lib\\site-packages\\IPython\\core\\interactiveshell.py:2802: DtypeWarning: Columns (10,11,12,21,23,25,26,40,45,58,59,61) have mixed types. Specify dtype option on import or set low_memory=False.\n",
      "  if self.run_code(code, result):\n",
      "C:\\Users\\deepa\\Anaconda3\\lib\\site-packages\\IPython\\core\\interactiveshell.py:2802: DtypeWarning: Columns (17,19,21,42,55) have mixed types. Specify dtype option on import or set low_memory=False.\n",
      "  if self.run_code(code, result):\n",
      "C:\\Users\\deepa\\Anaconda3\\lib\\site-packages\\IPython\\core\\interactiveshell.py:2802: DtypeWarning: Columns (21,25,26,42,45) have mixed types. Specify dtype option on import or set low_memory=False.\n",
      "  if self.run_code(code, result):\n",
      "C:\\Users\\deepa\\Anaconda3\\lib\\site-packages\\IPython\\core\\interactiveshell.py:2802: DtypeWarning: Columns (21,23,40,42,45) have mixed types. Specify dtype option on import or set low_memory=False.\n",
      "  if self.run_code(code, result):\n",
      "C:\\Users\\deepa\\Anaconda3\\lib\\site-packages\\IPython\\core\\interactiveshell.py:2802: DtypeWarning: Columns (6,10,11,12,15,17,19,21,23,25,26,36,38,40,42,45,48,49,55,57,58,59) have mixed types. Specify dtype option on import or set low_memory=False.\n",
      "  if self.run_code(code, result):\n",
      "C:\\Users\\deepa\\Anaconda3\\lib\\site-packages\\IPython\\core\\interactiveshell.py:2802: DtypeWarning: Columns (6,17,19,21,23,25,26,40,42,47,57,58,62) have mixed types. Specify dtype option on import or set low_memory=False.\n",
      "  if self.run_code(code, result):\n",
      "C:\\Users\\deepa\\Anaconda3\\lib\\site-packages\\IPython\\core\\interactiveshell.py:2802: DtypeWarning: Columns (23,40,41,45) have mixed types. Specify dtype option on import or set low_memory=False.\n",
      "  if self.run_code(code, result):\n"
     ]
    },
    {
     "name": "stdout",
     "output_type": "stream",
     "text": [
      "\n",
      ">>>>>>>>> CHunk Over >>>>>>>>>\n",
      "\n",
      "\n",
      "MN_WB_3 processed\n"
     ]
    },
    {
     "name": "stderr",
     "output_type": "stream",
     "text": [
      "C:\\Users\\deepa\\Anaconda3\\lib\\site-packages\\IPython\\core\\interactiveshell.py:2802: DtypeWarning: Columns (21,23,41,48,49,58) have mixed types. Specify dtype option on import or set low_memory=False.\n",
      "  if self.run_code(code, result):\n",
      "C:\\Users\\deepa\\Anaconda3\\lib\\site-packages\\IPython\\core\\interactiveshell.py:2802: DtypeWarning: Columns (10,11,12,17,19,23,40,41,45,55) have mixed types. Specify dtype option on import or set low_memory=False.\n",
      "  if self.run_code(code, result):\n",
      "C:\\Users\\deepa\\Anaconda3\\lib\\site-packages\\IPython\\core\\interactiveshell.py:2802: DtypeWarning: Columns (10,11,12,17,19,21,23,36,38,41,45) have mixed types. Specify dtype option on import or set low_memory=False.\n",
      "  if self.run_code(code, result):\n",
      "C:\\Users\\deepa\\Anaconda3\\lib\\site-packages\\IPython\\core\\interactiveshell.py:2802: DtypeWarning: Columns (23,41,45) have mixed types. Specify dtype option on import or set low_memory=False.\n",
      "  if self.run_code(code, result):\n",
      "C:\\Users\\deepa\\Anaconda3\\lib\\site-packages\\IPython\\core\\interactiveshell.py:2802: DtypeWarning: Columns (10,11,12,23,45) have mixed types. Specify dtype option on import or set low_memory=False.\n",
      "  if self.run_code(code, result):\n",
      "C:\\Users\\deepa\\Anaconda3\\lib\\site-packages\\IPython\\core\\interactiveshell.py:2802: DtypeWarning: Columns (21,23,40,41,45) have mixed types. Specify dtype option on import or set low_memory=False.\n",
      "  if self.run_code(code, result):\n",
      "C:\\Users\\deepa\\Anaconda3\\lib\\site-packages\\IPython\\core\\interactiveshell.py:2802: DtypeWarning: Columns (21,36,38,42,48,58) have mixed types. Specify dtype option on import or set low_memory=False.\n",
      "  if self.run_code(code, result):\n",
      "C:\\Users\\deepa\\Anaconda3\\lib\\site-packages\\IPython\\core\\interactiveshell.py:2802: DtypeWarning: Columns (15,19,25,26,38,40,41,42,45,48,49,50) have mixed types. Specify dtype option on import or set low_memory=False.\n",
      "  if self.run_code(code, result):\n",
      "C:\\Users\\deepa\\Anaconda3\\lib\\site-packages\\IPython\\core\\interactiveshell.py:2802: DtypeWarning: Columns (17,19,21,23,41,45,55) have mixed types. Specify dtype option on import or set low_memory=False.\n",
      "  if self.run_code(code, result):\n",
      "C:\\Users\\deepa\\Anaconda3\\lib\\site-packages\\IPython\\core\\interactiveshell.py:2802: DtypeWarning: Columns (23,36,38,45,58) have mixed types. Specify dtype option on import or set low_memory=False.\n",
      "  if self.run_code(code, result):\n",
      "C:\\Users\\deepa\\Anaconda3\\lib\\site-packages\\IPython\\core\\interactiveshell.py:2802: DtypeWarning: Columns (21,23,40,42) have mixed types. Specify dtype option on import or set low_memory=False.\n",
      "  if self.run_code(code, result):\n"
     ]
    },
    {
     "name": "stdout",
     "output_type": "stream",
     "text": [
      "\n",
      ">>>>>>>>> CHunk Over >>>>>>>>>\n",
      "\n",
      "\n",
      "MN_WB_4 processed\n"
     ]
    },
    {
     "name": "stderr",
     "output_type": "stream",
     "text": [
      "C:\\Users\\deepa\\Anaconda3\\lib\\site-packages\\IPython\\core\\interactiveshell.py:2802: DtypeWarning: Columns (6,13,14,23,31,40,57,59,61) have mixed types. Specify dtype option on import or set low_memory=False.\n",
      "  if self.run_code(code, result):\n",
      "C:\\Users\\deepa\\Anaconda3\\lib\\site-packages\\IPython\\core\\interactiveshell.py:2802: DtypeWarning: Columns (17,19,21,25,26,40,41,42,45,58,59,61) have mixed types. Specify dtype option on import or set low_memory=False.\n",
      "  if self.run_code(code, result):\n",
      "C:\\Users\\deepa\\Anaconda3\\lib\\site-packages\\IPython\\core\\interactiveshell.py:2802: DtypeWarning: Columns (17,19,23,25,26,41,58,59,61) have mixed types. Specify dtype option on import or set low_memory=False.\n",
      "  if self.run_code(code, result):\n",
      "C:\\Users\\deepa\\Anaconda3\\lib\\site-packages\\IPython\\core\\interactiveshell.py:2802: DtypeWarning: Columns (21,23,42) have mixed types. Specify dtype option on import or set low_memory=False.\n",
      "  if self.run_code(code, result):\n",
      "C:\\Users\\deepa\\Anaconda3\\lib\\site-packages\\IPython\\core\\interactiveshell.py:2802: DtypeWarning: Columns (17,19,21,23,36,38,41,45,55) have mixed types. Specify dtype option on import or set low_memory=False.\n",
      "  if self.run_code(code, result):\n",
      "C:\\Users\\deepa\\Anaconda3\\lib\\site-packages\\IPython\\core\\interactiveshell.py:2802: DtypeWarning: Columns (17,19,23,38,45,55,58) have mixed types. Specify dtype option on import or set low_memory=False.\n",
      "  if self.run_code(code, result):\n",
      "C:\\Users\\deepa\\Anaconda3\\lib\\site-packages\\IPython\\core\\interactiveshell.py:2802: DtypeWarning: Columns (17,19,21,23,36,38,45,55,58) have mixed types. Specify dtype option on import or set low_memory=False.\n",
      "  if self.run_code(code, result):\n",
      "C:\\Users\\deepa\\Anaconda3\\lib\\site-packages\\IPython\\core\\interactiveshell.py:2802: DtypeWarning: Columns (10,11,12,17,19,23,40,41,42) have mixed types. Specify dtype option on import or set low_memory=False.\n",
      "  if self.run_code(code, result):\n",
      "C:\\Users\\deepa\\Anaconda3\\lib\\site-packages\\IPython\\core\\interactiveshell.py:2802: DtypeWarning: Columns (6,10,11,12,17,19,20,21,23,25,26,34,36,38,40,42,48,56,58,59,61) have mixed types. Specify dtype option on import or set low_memory=False.\n",
      "  if self.run_code(code, result):\n"
     ]
    },
    {
     "name": "stdout",
     "output_type": "stream",
     "text": [
      "\n",
      ">>>>>>>>> CHunk Over >>>>>>>>>\n",
      "\n",
      "\n",
      "MN_WB_5 processed\n"
     ]
    },
    {
     "name": "stderr",
     "output_type": "stream",
     "text": [
      "C:\\Users\\deepa\\Anaconda3\\lib\\site-packages\\IPython\\core\\interactiveshell.py:2802: DtypeWarning: Columns (21,23,40,58) have mixed types. Specify dtype option on import or set low_memory=False.\n",
      "  if self.run_code(code, result):\n",
      "C:\\Users\\deepa\\Anaconda3\\lib\\site-packages\\IPython\\core\\interactiveshell.py:2802: DtypeWarning: Columns (10,11,12,21,40,42,58) have mixed types. Specify dtype option on import or set low_memory=False.\n",
      "  if self.run_code(code, result):\n",
      "C:\\Users\\deepa\\Anaconda3\\lib\\site-packages\\IPython\\core\\interactiveshell.py:2802: DtypeWarning: Columns (17,19,21,25,26,42,45,55,56,68) have mixed types. Specify dtype option on import or set low_memory=False.\n",
      "  if self.run_code(code, result):\n"
     ]
    },
    {
     "name": "stdout",
     "output_type": "stream",
     "text": [
      "\n",
      ">>>>>>>>> CHunk Over >>>>>>>>>\n",
      "\n",
      "\n",
      "MN_WB_6 processed\n"
     ]
    },
    {
     "name": "stderr",
     "output_type": "stream",
     "text": [
      "C:\\Users\\deepa\\Anaconda3\\lib\\site-packages\\IPython\\core\\interactiveshell.py:2802: DtypeWarning: Columns (17,19,21,23,25,26,40,42,45,58,59,61) have mixed types. Specify dtype option on import or set low_memory=False.\n",
      "  if self.run_code(code, result):\n",
      "C:\\Users\\deepa\\Anaconda3\\lib\\site-packages\\IPython\\core\\interactiveshell.py:2802: DtypeWarning: Columns (13,57) have mixed types. Specify dtype option on import or set low_memory=False.\n",
      "  if self.run_code(code, result):\n",
      "C:\\Users\\deepa\\Anaconda3\\lib\\site-packages\\IPython\\core\\interactiveshell.py:2802: DtypeWarning: Columns (23,36,38,42,45,58) have mixed types. Specify dtype option on import or set low_memory=False.\n",
      "  if self.run_code(code, result):\n",
      "C:\\Users\\deepa\\Anaconda3\\lib\\site-packages\\IPython\\core\\interactiveshell.py:2802: DtypeWarning: Columns (21,23,25,26,34,58,61) have mixed types. Specify dtype option on import or set low_memory=False.\n",
      "  if self.run_code(code, result):\n",
      "C:\\Users\\deepa\\Anaconda3\\lib\\site-packages\\IPython\\core\\interactiveshell.py:2802: DtypeWarning: Columns (21,42) have mixed types. Specify dtype option on import or set low_memory=False.\n",
      "  if self.run_code(code, result):\n",
      "C:\\Users\\deepa\\Anaconda3\\lib\\site-packages\\IPython\\core\\interactiveshell.py:2802: DtypeWarning: Columns (23,40,42) have mixed types. Specify dtype option on import or set low_memory=False.\n",
      "  if self.run_code(code, result):\n",
      "C:\\Users\\deepa\\Anaconda3\\lib\\site-packages\\IPython\\core\\interactiveshell.py:2802: DtypeWarning: Columns (21,40,42) have mixed types. Specify dtype option on import or set low_memory=False.\n",
      "  if self.run_code(code, result):\n",
      "C:\\Users\\deepa\\Anaconda3\\lib\\site-packages\\IPython\\core\\interactiveshell.py:2802: DtypeWarning: Columns (21,25,26,48,49,58,59,61) have mixed types. Specify dtype option on import or set low_memory=False.\n",
      "  if self.run_code(code, result):\n",
      "C:\\Users\\deepa\\Anaconda3\\lib\\site-packages\\IPython\\core\\interactiveshell.py:2802: DtypeWarning: Columns (23,48,49) have mixed types. Specify dtype option on import or set low_memory=False.\n",
      "  if self.run_code(code, result):\n"
     ]
    },
    {
     "name": "stdout",
     "output_type": "stream",
     "text": [
      "\n",
      ">>>>>>>>> CHunk Over >>>>>>>>>\n",
      "\n",
      "\n",
      "MN_WB_7 processed\n"
     ]
    },
    {
     "name": "stderr",
     "output_type": "stream",
     "text": [
      "C:\\Users\\deepa\\Anaconda3\\lib\\site-packages\\IPython\\core\\interactiveshell.py:2802: DtypeWarning: Columns (6,13,14,16,17,18,19,31,33,45,52,56,57,59,61) have mixed types. Specify dtype option on import or set low_memory=False.\n",
      "  if self.run_code(code, result):\n",
      "C:\\Users\\deepa\\Anaconda3\\lib\\site-packages\\IPython\\core\\interactiveshell.py:2802: DtypeWarning: Columns (23,36,38,40,45,58) have mixed types. Specify dtype option on import or set low_memory=False.\n",
      "  if self.run_code(code, result):\n",
      "C:\\Users\\deepa\\Anaconda3\\lib\\site-packages\\IPython\\core\\interactiveshell.py:2802: DtypeWarning: Columns (21,23,42,55) have mixed types. Specify dtype option on import or set low_memory=False.\n",
      "  if self.run_code(code, result):\n",
      "C:\\Users\\deepa\\Anaconda3\\lib\\site-packages\\IPython\\core\\interactiveshell.py:2802: DtypeWarning: Columns (21,23,36,38,42) have mixed types. Specify dtype option on import or set low_memory=False.\n",
      "  if self.run_code(code, result):\n",
      "C:\\Users\\deepa\\Anaconda3\\lib\\site-packages\\IPython\\core\\interactiveshell.py:2802: DtypeWarning: Columns (40) have mixed types. Specify dtype option on import or set low_memory=False.\n",
      "  if self.run_code(code, result):\n",
      "C:\\Users\\deepa\\Anaconda3\\lib\\site-packages\\IPython\\core\\interactiveshell.py:2802: DtypeWarning: Columns (17,19,36,40,42,45) have mixed types. Specify dtype option on import or set low_memory=False.\n",
      "  if self.run_code(code, result):\n"
     ]
    },
    {
     "name": "stdout",
     "output_type": "stream",
     "text": [
      "\n",
      ">>>>>>>>> CHunk Over >>>>>>>>>\n",
      "\n",
      "\n",
      "MN_WB_8 processed\n"
     ]
    },
    {
     "name": "stderr",
     "output_type": "stream",
     "text": [
      "C:\\Users\\deepa\\Anaconda3\\lib\\site-packages\\IPython\\core\\interactiveshell.py:2802: DtypeWarning: Columns (40,42,45,58) have mixed types. Specify dtype option on import or set low_memory=False.\n",
      "  if self.run_code(code, result):\n",
      "C:\\Users\\deepa\\Anaconda3\\lib\\site-packages\\IPython\\core\\interactiveshell.py:2802: DtypeWarning: Columns (23,36,38,42,45) have mixed types. Specify dtype option on import or set low_memory=False.\n",
      "  if self.run_code(code, result):\n",
      "C:\\Users\\deepa\\Anaconda3\\lib\\site-packages\\IPython\\core\\interactiveshell.py:2802: DtypeWarning: Columns (17,19,36,38,41,45) have mixed types. Specify dtype option on import or set low_memory=False.\n",
      "  if self.run_code(code, result):\n"
     ]
    },
    {
     "name": "stdout",
     "output_type": "stream",
     "text": [
      "\n",
      ">>>>>>>>> CHunk Over >>>>>>>>>\n",
      "\n",
      "\n",
      "MN_WB_9 processed\n"
     ]
    },
    {
     "name": "stderr",
     "output_type": "stream",
     "text": [
      "C:\\Users\\deepa\\Anaconda3\\lib\\site-packages\\IPython\\core\\interactiveshell.py:2802: DtypeWarning: Columns (17,19,21) have mixed types. Specify dtype option on import or set low_memory=False.\n",
      "  if self.run_code(code, result):\n",
      "C:\\Users\\deepa\\Anaconda3\\lib\\site-packages\\IPython\\core\\interactiveshell.py:2802: DtypeWarning: Columns (21,36,42) have mixed types. Specify dtype option on import or set low_memory=False.\n",
      "  if self.run_code(code, result):\n",
      "C:\\Users\\deepa\\Anaconda3\\lib\\site-packages\\IPython\\core\\interactiveshell.py:2802: DtypeWarning: Columns (21,25,26) have mixed types. Specify dtype option on import or set low_memory=False.\n",
      "  if self.run_code(code, result):\n",
      "C:\\Users\\deepa\\Anaconda3\\lib\\site-packages\\IPython\\core\\interactiveshell.py:2802: DtypeWarning: Columns (21,40) have mixed types. Specify dtype option on import or set low_memory=False.\n",
      "  if self.run_code(code, result):\n",
      "C:\\Users\\deepa\\Anaconda3\\lib\\site-packages\\IPython\\core\\interactiveshell.py:2802: DtypeWarning: Columns (21,36,38,42,58) have mixed types. Specify dtype option on import or set low_memory=False.\n",
      "  if self.run_code(code, result):\n",
      "C:\\Users\\deepa\\Anaconda3\\lib\\site-packages\\IPython\\core\\interactiveshell.py:2802: DtypeWarning: Columns (23,40,45,58) have mixed types. Specify dtype option on import or set low_memory=False.\n",
      "  if self.run_code(code, result):\n"
     ]
    },
    {
     "name": "stdout",
     "output_type": "stream",
     "text": [
      "\n",
      ">>>>>>>>> CHunk Over >>>>>>>>>\n",
      "\n",
      "WISCONSIN_SITES\n",
      "\n",
      "WI_WB_0 processed\n"
     ]
    },
    {
     "name": "stderr",
     "output_type": "stream",
     "text": [
      "C:\\Users\\deepa\\Anaconda3\\lib\\site-packages\\IPython\\core\\interactiveshell.py:2802: DtypeWarning: Columns (6,23,25,26,42,69) have mixed types. Specify dtype option on import or set low_memory=False.\n",
      "  if self.run_code(code, result):\n",
      "C:\\Users\\deepa\\Anaconda3\\lib\\site-packages\\IPython\\core\\interactiveshell.py:2802: DtypeWarning: Columns (6,9,10,11,12,13,21,23,33,34,45,52,53,54,55,57) have mixed types. Specify dtype option on import or set low_memory=False.\n",
      "  if self.run_code(code, result):\n"
     ]
    },
    {
     "name": "stdout",
     "output_type": "stream",
     "text": [
      "\n",
      ">>>>>>>>> CHunk Over >>>>>>>>>\n",
      "\n",
      "\n",
      "WI_WB_1 processed\n"
     ]
    },
    {
     "name": "stderr",
     "output_type": "stream",
     "text": [
      "C:\\Users\\deepa\\Anaconda3\\lib\\site-packages\\IPython\\core\\interactiveshell.py:2802: DtypeWarning: Columns (10,11,12,20,34,48,62,69) have mixed types. Specify dtype option on import or set low_memory=False.\n",
      "  if self.run_code(code, result):\n",
      "C:\\Users\\deepa\\Anaconda3\\lib\\site-packages\\IPython\\core\\interactiveshell.py:2802: DtypeWarning: Columns (10,11,12,20,23,34,45,48,56,57,58,59,61,62,69) have mixed types. Specify dtype option on import or set low_memory=False.\n",
      "  if self.run_code(code, result):\n",
      "C:\\Users\\deepa\\Anaconda3\\lib\\site-packages\\IPython\\core\\interactiveshell.py:2802: DtypeWarning: Columns (69) have mixed types. Specify dtype option on import or set low_memory=False.\n",
      "  if self.run_code(code, result):\n"
     ]
    },
    {
     "name": "stdout",
     "output_type": "stream",
     "text": [
      "\n",
      ">>>>>>>>> CHunk Over >>>>>>>>>\n",
      "\n",
      "\n",
      "WI_WB_10 processed\n"
     ]
    },
    {
     "name": "stderr",
     "output_type": "stream",
     "text": [
      "C:\\Users\\deepa\\Anaconda3\\lib\\site-packages\\IPython\\core\\interactiveshell.py:2802: DtypeWarning: Columns (10,11,12,20,34,45,48,57,69) have mixed types. Specify dtype option on import or set low_memory=False.\n",
      "  if self.run_code(code, result):\n",
      "C:\\Users\\deepa\\Anaconda3\\lib\\site-packages\\IPython\\core\\interactiveshell.py:2802: DtypeWarning: Columns (6,23,25,26,42) have mixed types. Specify dtype option on import or set low_memory=False.\n",
      "  if self.run_code(code, result):\n"
     ]
    },
    {
     "name": "stdout",
     "output_type": "stream",
     "text": [
      "\n",
      ">>>>>>>>> CHunk Over >>>>>>>>>\n",
      "\n",
      "\n",
      "WI_WB_11 processed\n"
     ]
    },
    {
     "name": "stderr",
     "output_type": "stream",
     "text": [
      "C:\\Users\\deepa\\Anaconda3\\lib\\site-packages\\IPython\\core\\interactiveshell.py:2802: DtypeWarning: Columns (10,11,12,17,19,20,23,34,48,49,56,57,58,59,61,62,69) have mixed types. Specify dtype option on import or set low_memory=False.\n",
      "  if self.run_code(code, result):\n"
     ]
    },
    {
     "name": "stdout",
     "output_type": "stream",
     "text": [
      "\n",
      ">>>>>>>>> CHunk Over >>>>>>>>>\n",
      "\n",
      "\n",
      "WI_WB_2 processed\n"
     ]
    },
    {
     "name": "stderr",
     "output_type": "stream",
     "text": [
      "C:\\Users\\deepa\\Anaconda3\\lib\\site-packages\\IPython\\core\\interactiveshell.py:2802: DtypeWarning: Columns (6,10,11,12,23,25,26,34,42,48,52,57) have mixed types. Specify dtype option on import or set low_memory=False.\n",
      "  if self.run_code(code, result):\n"
     ]
    },
    {
     "name": "stdout",
     "output_type": "stream",
     "text": [
      "\n",
      ">>>>>>>>> CHunk Over >>>>>>>>>\n",
      "\n",
      "\n",
      "WI_WB_3 processed\n",
      "\n",
      ">>>>>>>>> CHunk Over >>>>>>>>>\n",
      "\n",
      "\n",
      "WI_WB_4 processed\n"
     ]
    },
    {
     "name": "stderr",
     "output_type": "stream",
     "text": [
      "C:\\Users\\deepa\\Anaconda3\\lib\\site-packages\\IPython\\core\\interactiveshell.py:2802: DtypeWarning: Columns (6,10,11,12,14,20,23,25,26,34,42,48,52,56,58,59,61,62,69) have mixed types. Specify dtype option on import or set low_memory=False.\n",
      "  if self.run_code(code, result):\n",
      "C:\\Users\\deepa\\Anaconda3\\lib\\site-packages\\IPython\\core\\interactiveshell.py:2802: DtypeWarning: Columns (10,11,12,20,34,48,69) have mixed types. Specify dtype option on import or set low_memory=False.\n",
      "  if self.run_code(code, result):\n"
     ]
    },
    {
     "name": "stdout",
     "output_type": "stream",
     "text": [
      "\n",
      ">>>>>>>>> CHunk Over >>>>>>>>>\n",
      "\n",
      "\n",
      "WI_WB_5 processed\n"
     ]
    },
    {
     "name": "stderr",
     "output_type": "stream",
     "text": [
      "C:\\Users\\deepa\\Anaconda3\\lib\\site-packages\\IPython\\core\\interactiveshell.py:2802: DtypeWarning: Columns (6,23) have mixed types. Specify dtype option on import or set low_memory=False.\n",
      "  if self.run_code(code, result):\n"
     ]
    },
    {
     "name": "stdout",
     "output_type": "stream",
     "text": [
      "\n",
      ">>>>>>>>> CHunk Over >>>>>>>>>\n",
      "\n",
      "\n",
      "WI_WB_6 processed\n"
     ]
    },
    {
     "name": "stderr",
     "output_type": "stream",
     "text": [
      "C:\\Users\\deepa\\Anaconda3\\lib\\site-packages\\IPython\\core\\interactiveshell.py:2802: DtypeWarning: Columns (6,23,25,26,42,45,69) have mixed types. Specify dtype option on import or set low_memory=False.\n",
      "  if self.run_code(code, result):\n",
      "C:\\Users\\deepa\\Anaconda3\\lib\\site-packages\\IPython\\core\\interactiveshell.py:2802: DtypeWarning: Columns (6,25,26,42,48,69) have mixed types. Specify dtype option on import or set low_memory=False.\n",
      "  if self.run_code(code, result):\n",
      "C:\\Users\\deepa\\Anaconda3\\lib\\site-packages\\IPython\\core\\interactiveshell.py:2802: DtypeWarning: Columns (10,11,12,20,34,48,56,57,58,59,61,62,69) have mixed types. Specify dtype option on import or set low_memory=False.\n",
      "  if self.run_code(code, result):\n",
      "C:\\Users\\deepa\\Anaconda3\\lib\\site-packages\\IPython\\core\\interactiveshell.py:2802: DtypeWarning: Columns (9,12,14,34,45,52,53,54,55,57,69) have mixed types. Specify dtype option on import or set low_memory=False.\n",
      "  if self.run_code(code, result):\n",
      "C:\\Users\\deepa\\Anaconda3\\lib\\site-packages\\IPython\\core\\interactiveshell.py:2802: DtypeWarning: Columns (10,11,12,17,19,20,34,48,49,52,53,54,55,57,59,61,62,69) have mixed types. Specify dtype option on import or set low_memory=False.\n",
      "  if self.run_code(code, result):\n"
     ]
    },
    {
     "name": "stdout",
     "output_type": "stream",
     "text": [
      "\n",
      ">>>>>>>>> CHunk Over >>>>>>>>>\n",
      "\n",
      "\n",
      "WI_WB_7 processed\n"
     ]
    },
    {
     "name": "stderr",
     "output_type": "stream",
     "text": [
      "C:\\Users\\deepa\\Anaconda3\\lib\\site-packages\\IPython\\core\\interactiveshell.py:2802: DtypeWarning: Columns (6,23,25,26,42,56,59,61) have mixed types. Specify dtype option on import or set low_memory=False.\n",
      "  if self.run_code(code, result):\n"
     ]
    },
    {
     "name": "stdout",
     "output_type": "stream",
     "text": [
      "\n",
      ">>>>>>>>> CHunk Over >>>>>>>>>\n",
      "\n",
      "\n",
      "WI_WB_8 processed\n"
     ]
    },
    {
     "name": "stderr",
     "output_type": "stream",
     "text": [
      "C:\\Users\\deepa\\Anaconda3\\lib\\site-packages\\IPython\\core\\interactiveshell.py:2802: DtypeWarning: Columns (10,11,12,20,23,34,45,48,56,57,59,61,62,69) have mixed types. Specify dtype option on import or set low_memory=False.\n",
      "  if self.run_code(code, result):\n",
      "C:\\Users\\deepa\\Anaconda3\\lib\\site-packages\\IPython\\core\\interactiveshell.py:2802: DtypeWarning: Columns (9,10,11,12,13,21,23,33,34,45,48,52,53,54,55,57) have mixed types. Specify dtype option on import or set low_memory=False.\n",
      "  if self.run_code(code, result):\n"
     ]
    },
    {
     "name": "stdout",
     "output_type": "stream",
     "text": [
      "\n",
      ">>>>>>>>> CHunk Over >>>>>>>>>\n",
      "\n",
      "\n",
      "WI_WB_9 processed\n",
      "\n",
      ">>>>>>>>> CHunk Over >>>>>>>>>\n",
      "\n"
     ]
    }
   ],
   "source": [
    "for folder in folders:\n",
    "    if os.path.isdir(currentPath + folder):\n",
    "        print(folder)\n",
    "        wbchunksFolderPath = currentPath + folder + fileSeparator + \"WB_CHUNKS\" + fileSeparator\n",
    "        wbchunks = os.listdir(wbchunksFolderPath + \".\")\n",
    "        for chunk in wbchunks:\n",
    "            print(\"\\n\" + chunk + \" processed\")\n",
    "            directory = wbchunksFolderPath + chunk + fileSeparator + \"SITES\" + fileSeparator\n",
    "            wbfiles = os.listdir(directory + \".\")\n",
    "            for file in wbfiles:\n",
    "                if file.endswith(\".csv\"):\n",
    "                    absPath = os.path.abspath(os.path.join(directory, file))\n",
    "                    calculateActivityDateFrequency(absPath)\n",
    "            print(\"\\n>>>>>>>>> CHunk Over >>>>>>>>>\\n\")"
   ]
  },
  {
   "cell_type": "code",
   "execution_count": 11,
   "metadata": {
    "scrolled": true
   },
   "outputs": [
    {
     "name": "stdout",
     "output_type": "stream",
     "text": [
      "\n",
      "0 )  Dissolved oxygen\n",
      "\n",
      "1 )  pH\n",
      "\n",
      "2 )  Temperature, water\n",
      "\n",
      "3 )  Turbidity\n",
      "\n",
      "4 )  Dissolved oxygen saturation\n",
      "\n",
      "5 )  Total Kjeldahl nitrogen\n",
      "\n",
      "6 )  Inorganic nitrogen (nitrate and nitrite)\n",
      "\n",
      "7 )  Organic carbon\n",
      "\n",
      "8 )  Cylindrospermopsins\n",
      "\n",
      "9 )  Phosphorus\n",
      "\n",
      "10 )  Orthophosphate\n",
      "\n",
      "11 )  Chlorophyll\n",
      "\n",
      "12 )  Depth, Secchi disk depth\n",
      "\n",
      "13 )  Conductance @25C\n",
      "\n",
      "14 )  Phycocyanins\n",
      "\n",
      "15 )  Inorganic nitrogen (nitrate and nitrite) as N\n",
      "\n",
      "16 )  Ammonia and ammonium\n",
      "\n",
      "17 )  Nitrite as N\n",
      "\n",
      "18 )  Phosphorus as P\n",
      "\n",
      "19 )  Nitrogen, mixed forms (NH3), (NH4), organic, (NO2) and (NO3)\n",
      "\n",
      "20 )  Ammonia and ammonium as NH4\n",
      "\n",
      "21 )  Nitrate as N\n",
      "\n",
      "22 )  Organic Nitrogen\n",
      "\n",
      "23 )  Orthophosphate as P\n",
      "\n",
      "24 )  Orthophosphate as PO4\n",
      "\n",
      "25 )  Nitrogen\n",
      "\n",
      "26 )  Sulfate\n",
      "\n",
      "27 )  Total suspended solids\n",
      "\n",
      "28 )  Specific conductance\n",
      "\n",
      "29 )  Alkalinity, Carbonate as CaCO3\n",
      "\n",
      "30 )  Depth, bottom\n",
      "\n",
      "31 )  Chloride\n",
      "\n",
      "32 )  Total Kjeldahl nitrogen as N\n",
      "\n",
      "33 )  Iron\n",
      "\n",
      "34 )  Carbonate\n",
      "\n",
      "35 )  Nitrogen, mixed forms (NH3), (NH4), organic, (NO2) and (NO3), as NO3\n",
      "\n",
      "36 )  Transparency, Secchi tube with disk\n",
      "\n",
      "37 )  Sulfate as SO4\n",
      "\n",
      "38 )  Chlorophyll a, free of pheophytin\n",
      "\n",
      "39 )  Phosphate-phosphorus\n",
      "\n",
      "40 )  Depth\n",
      "\n",
      "41 )  Phosphate-phosphorus as P\n",
      "\n",
      "42 )  Alkalinity, total\n",
      "\n",
      "43 )  Chlorophyll a, corrected for pheophytin\n",
      "\n",
      "44 )  Chlorophyll a, uncorrected for pheophytin\n",
      "\n",
      "45 )  Hardness, carbonate\n",
      "\n",
      "46 )  Chemical oxygen demand\n",
      "\n",
      "47 )  Nitrite\n",
      "\n",
      "48 )  Ammonia\n",
      "\n",
      "49 )  Chlorophyll a (probe relative fluorescence)\n",
      "\n",
      "50 )  Phytoplankton\n",
      "\n",
      "51 )  Conductivity\n",
      "\n",
      "52 )  Oxidation reduction potential (ORP)\n",
      "\n",
      "53 )  Conductance\n",
      "\n",
      "54 )  Nitrate\n",
      "\n",
      "55 )  Height, gage\n",
      "\n",
      "56 )  Microcystin\n",
      "\n",
      "57 )  Biomass\n",
      "\n",
      "58 )  Transmittance, Horizontal\n",
      "\n",
      "59 )  Actual Number of Individuals Examined\n",
      "\n",
      "60 )  Hardness, Carbonate as CaCO3\n",
      "\n",
      "61 )  Chlorophyll a (probe)\n",
      "\n",
      "62 )  Algae, blue-green (phylum cyanophyta) density\n",
      "\n",
      "63 )  Carbonate, as CaCO3\n"
     ]
    }
   ],
   "source": [
    "characteristic_to_depths = {}\n",
    "characteristic_to_months = {}\n",
    "characteristic_to_years = {}\n",
    "characteristic_to_statistics = {}\n",
    "characteristics_names = []\n",
    "characteristic_to_depthlist = {}\n",
    "i = 0\n",
    "for key, val in characteristic_name_to_data.items():\n",
    "    depth_to_percentage = {}\n",
    "    statistics = {}\n",
    "    print()\n",
    "    print(i, \") \",key)\n",
    "    values = val.characteristic_values\n",
    "    months = {int(k):int(v) for k,v in val.samples_per_month.items()}\n",
    "    months = OrderedDict(sorted(months.items()))\n",
    "    years = val.samples_per_year\n",
    "    depths = val.depth_to_value\n",
    "    depth_list = val.depth_values\n",
    "    no_values = len(values)\n",
    "    mean =  np.mean(values)\n",
    "    median =  np.median(values)\n",
    "    std =  np.std(values)\n",
    "    minimum = min(values)\n",
    "    maximum = max(values)\n",
    "    statistics['no_of_values'] = no_values\n",
    "    statistics['mean'] = mean\n",
    "    statistics['median'] = median\n",
    "    statistics['std'] = std\n",
    "    statistics['range'] = \"[\" + str(minimum) + \" , \" + str(maximum) + \"]\" \n",
    "    #print(\"No of values \", no_values)\n",
    "    #print(\"mean: \" , mean)\n",
    "    #print(\"range: \" , minimum , \" - \" , maximum)\n",
    "    #print(\"median: \" , median)\n",
    "    #print(\"Standard deviation : \" , std)\n",
    "    #print(\"Printing number of samples per month\")\n",
    "    #for keys, data in months.items():\n",
    "        #print(\"month : \", keys, \", value : \", data)\n",
    "    #print(\"Printing number of samples per year\")\n",
    "    #for keys, data in years.items():\n",
    "        #print(\"year : \", keys, \", value : \", data)\n",
    "    #print(\"Printing all depths \")\n",
    "    for keys, data in depths.items():\n",
    "        percentage = float(\"{0:.5f}\".format((data/no_values)*100))\n",
    "        depth_to_percentage[keys] = data\n",
    "        #print(\"Depth: \", keys, \", percentage of values: \", percentage, \" and total values: \", data)\n",
    "    month_map = {1: \"Jan\", 2 : \"Feb\", 3 : \"Mar\",4 : \"Apr\",5 : \"May\",6 : \"Jun\",7 : \"Jul\",8 : \"Aug\",9 : \"Sep\",10 : \"Oct\",11 : \"Nov\",12 : \"Dec\"}\n",
    "    modif_moths = {}\n",
    "    for keys, data in months.items():\n",
    "        k = month_map[keys]\n",
    "        modif_moths[k] = data\n",
    "    characteristic_to_depths[key] = depth_to_percentage\n",
    "    characteristic_to_months[key] = modif_moths\n",
    "    characteristic_to_years[key] = years\n",
    "    characteristic_to_statistics[key] = statistics\n",
    "    characteristic_to_depthlist[key] = depth_list\n",
    "    characteristics_names.append(key)\n",
    "    i += 1"
   ]
  },
  {
   "cell_type": "code",
   "execution_count": 13,
   "metadata": {
    "scrolled": false
   },
   "outputs": [],
   "source": [
    "f = open( 'outp.txt', 'w' )\n",
    "f.write( 'dict = ' + repr(characteristic_to_depths) + '\\n' )\n",
    "f.close()"
   ]
  },
  {
   "cell_type": "code",
   "execution_count": null,
   "metadata": {
    "collapsed": true
   },
   "outputs": [],
   "source": []
  }
 ],
 "metadata": {
  "kernelspec": {
   "display_name": "Python 3",
   "language": "python",
   "name": "python3"
  },
  "language_info": {
   "codemirror_mode": {
    "name": "ipython",
    "version": 3
   },
   "file_extension": ".py",
   "mimetype": "text/x-python",
   "name": "python",
   "nbconvert_exporter": "python",
   "pygments_lexer": "ipython3",
   "version": "3.6.3"
  }
 },
 "nbformat": 4,
 "nbformat_minor": 2
}

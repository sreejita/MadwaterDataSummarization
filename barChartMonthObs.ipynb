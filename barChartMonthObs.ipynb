{
 "cells": [
  {
   "cell_type": "code",
   "execution_count": 2,
   "metadata": {
    "collapsed": true
   },
   "outputs": [],
   "source": [
    "import os\n",
    "import csv\n",
    "import pandas as pd\n",
    "import datetime\n",
    "import plotly.plotly as py\n",
    "import plotly.graph_objs as go\n",
    "import numpy as np"
   ]
  },
  {
   "cell_type": "code",
   "execution_count": 3,
   "metadata": {
    "collapsed": true
   },
   "outputs": [],
   "source": [
    "currentPath = \"C:\\\\Users\\\\sreej\\\\Documents\\\\wisconsin\\\\Fall 2017\\\\CS 799\\\\MODIFIED_SITES_DATA\\\\\"\n",
    "fileSeparator = \"\\\\\"\n",
    "#folders = os.listdir(currentPath + \".\")\n",
    "folders = ['WISCONSIN_SITES']"
   ]
  },
  {
   "cell_type": "code",
   "execution_count": 4,
   "metadata": {
    "collapsed": true
   },
   "outputs": [],
   "source": [
    "activity_date_frequency = {}\n",
    "count = 1\n",
    "while count<=12:\n",
    "    activity_date_frequency[str(count)] = {}\n",
    "    count = count + 1\n",
    "    \n",
    "def calculateActivityDateFrequency(path):\n",
    "    try:\n",
    "        df=pd.read_csv(path, sep=',', parse_dates=[7])\n",
    "        for index, row in df.iterrows():\n",
    "            date = pd.to_datetime(row['ActivityStartDate'], errors='coerce', format=\"%Y/%m/%d\")\n",
    "            if str(date.month) == \"nan\" or str(date.year) == \"nan\":\n",
    "                continue\n",
    "           # month_year = str(date.month) + \"-\" + str(date.year)\n",
    "            month = str(date.month)\n",
    "            year = str(date.year)\n",
    "           # print(\"Month:\" + month)  \n",
    "            if month in activity_date_frequency:\n",
    "                if year in activity_date_frequency[month]:\n",
    "                    if row['ActivityIdentifier'] not in activity_date_frequency[month][year]:\n",
    "                        activity_date_frequency[month][year].append(row['ActivityIdentifier'])\n",
    "                else:\n",
    "                    activity_date_frequency[month][year]= [];\n",
    "                    activity_date_frequency[month][year].append(row['ActivityIdentifier'])\n",
    "                    \n",
    "                \n",
    "           # print(activity_date_frequency[month])\n",
    "        return 1\n",
    "    except pd.io.common.EmptyDataError:\n",
    "        return 0\n",
    "        #Do nothing"
   ]
  },
  {
   "cell_type": "code",
   "execution_count": 5,
   "metadata": {},
   "outputs": [
    {
     "name": "stdout",
     "output_type": "stream",
     "text": [
      "WISCONSIN_SITES\n",
      "\n",
      ">>>>>>>>>WI_WB_0>>>>>>>>>\n",
      "\n"
     ]
    },
    {
     "name": "stderr",
     "output_type": "stream",
     "text": [
      "C:\\Users\\sreej\\Anaconda3\\lib\\site-packages\\IPython\\core\\interactiveshell.py:2802: DtypeWarning:\n",
      "\n",
      "Columns (6,23,25,26,42,69) have mixed types. Specify dtype option on import or set low_memory=False.\n",
      "\n",
      "C:\\Users\\sreej\\Anaconda3\\lib\\site-packages\\IPython\\core\\interactiveshell.py:2802: DtypeWarning:\n",
      "\n",
      "Columns (6,9,10,11,12,13,21,23,33,34,45,52,53,54,55,57) have mixed types. Specify dtype option on import or set low_memory=False.\n",
      "\n"
     ]
    },
    {
     "name": "stdout",
     "output_type": "stream",
     "text": [
      "\n",
      ">>>>>>>>> CHunk Over >>>>>>>>>\n",
      "\n",
      "\n",
      ">>>>>>>>>WI_WB_1>>>>>>>>>\n",
      "\n"
     ]
    },
    {
     "name": "stderr",
     "output_type": "stream",
     "text": [
      "C:\\Users\\sreej\\Anaconda3\\lib\\site-packages\\IPython\\core\\interactiveshell.py:2802: DtypeWarning:\n",
      "\n",
      "Columns (21,36,38,42,48,58) have mixed types. Specify dtype option on import or set low_memory=False.\n",
      "\n",
      "C:\\Users\\sreej\\Anaconda3\\lib\\site-packages\\IPython\\core\\interactiveshell.py:2802: DtypeWarning:\n",
      "\n",
      "Columns (10,11,12,20,34,48,62,69) have mixed types. Specify dtype option on import or set low_memory=False.\n",
      "\n",
      "C:\\Users\\sreej\\Anaconda3\\lib\\site-packages\\IPython\\core\\interactiveshell.py:2802: DtypeWarning:\n",
      "\n",
      "Columns (10,11,12,20,23,34,45,48,56,57,58,59,61,62,69) have mixed types. Specify dtype option on import or set low_memory=False.\n",
      "\n",
      "C:\\Users\\sreej\\Anaconda3\\lib\\site-packages\\IPython\\core\\interactiveshell.py:2802: DtypeWarning:\n",
      "\n",
      "Columns (69) have mixed types. Specify dtype option on import or set low_memory=False.\n",
      "\n"
     ]
    },
    {
     "name": "stdout",
     "output_type": "stream",
     "text": [
      "\n",
      ">>>>>>>>> CHunk Over >>>>>>>>>\n",
      "\n",
      "\n",
      ">>>>>>>>>WI_WB_10>>>>>>>>>\n",
      "\n"
     ]
    },
    {
     "name": "stderr",
     "output_type": "stream",
     "text": [
      "C:\\Users\\sreej\\Anaconda3\\lib\\site-packages\\IPython\\core\\interactiveshell.py:2802: DtypeWarning:\n",
      "\n",
      "Columns (10,11,12,20,34,45,48,57,69) have mixed types. Specify dtype option on import or set low_memory=False.\n",
      "\n",
      "C:\\Users\\sreej\\Anaconda3\\lib\\site-packages\\IPython\\core\\interactiveshell.py:2802: DtypeWarning:\n",
      "\n",
      "Columns (6,23,25,26,42) have mixed types. Specify dtype option on import or set low_memory=False.\n",
      "\n"
     ]
    },
    {
     "name": "stdout",
     "output_type": "stream",
     "text": [
      "\n",
      ">>>>>>>>> CHunk Over >>>>>>>>>\n",
      "\n",
      "\n",
      ">>>>>>>>>WI_WB_11>>>>>>>>>\n",
      "\n"
     ]
    },
    {
     "name": "stderr",
     "output_type": "stream",
     "text": [
      "C:\\Users\\sreej\\Anaconda3\\lib\\site-packages\\IPython\\core\\interactiveshell.py:2802: DtypeWarning:\n",
      "\n",
      "Columns (21,23,40,42,45) have mixed types. Specify dtype option on import or set low_memory=False.\n",
      "\n",
      "C:\\Users\\sreej\\Anaconda3\\lib\\site-packages\\IPython\\core\\interactiveshell.py:2802: DtypeWarning:\n",
      "\n",
      "Columns (10,11,12,17,19,20,23,34,48,49,56,57,58,59,61,62,69) have mixed types. Specify dtype option on import or set low_memory=False.\n",
      "\n"
     ]
    },
    {
     "name": "stdout",
     "output_type": "stream",
     "text": [
      "\n",
      ">>>>>>>>> CHunk Over >>>>>>>>>\n",
      "\n",
      "\n",
      ">>>>>>>>>WI_WB_2>>>>>>>>>\n",
      "\n"
     ]
    },
    {
     "name": "stderr",
     "output_type": "stream",
     "text": [
      "C:\\Users\\sreej\\Anaconda3\\lib\\site-packages\\IPython\\core\\interactiveshell.py:2802: DtypeWarning:\n",
      "\n",
      "Columns (6,10,11,12,23,25,26,34,42,48,52,57) have mixed types. Specify dtype option on import or set low_memory=False.\n",
      "\n",
      "C:\\Users\\sreej\\Anaconda3\\lib\\site-packages\\IPython\\core\\interactiveshell.py:2802: DtypeWarning:\n",
      "\n",
      "Columns (21,23,25,26,38) have mixed types. Specify dtype option on import or set low_memory=False.\n",
      "\n"
     ]
    },
    {
     "name": "stdout",
     "output_type": "stream",
     "text": [
      "\n",
      ">>>>>>>>> CHunk Over >>>>>>>>>\n",
      "\n",
      "\n",
      ">>>>>>>>>WI_WB_3>>>>>>>>>\n",
      "\n"
     ]
    },
    {
     "name": "stderr",
     "output_type": "stream",
     "text": [
      "C:\\Users\\sreej\\Anaconda3\\lib\\site-packages\\IPython\\core\\interactiveshell.py:2802: DtypeWarning:\n",
      "\n",
      "Columns (23,25,26,42,45) have mixed types. Specify dtype option on import or set low_memory=False.\n",
      "\n",
      "C:\\Users\\sreej\\Anaconda3\\lib\\site-packages\\IPython\\core\\interactiveshell.py:2802: DtypeWarning:\n",
      "\n",
      "Columns (6,10,11,12,17,19,20,21,23,25,26,34,36,38,40,42,48,56,58,59,61) have mixed types. Specify dtype option on import or set low_memory=False.\n",
      "\n"
     ]
    },
    {
     "name": "stdout",
     "output_type": "stream",
     "text": [
      "\n",
      ">>>>>>>>> CHunk Over >>>>>>>>>\n",
      "\n",
      "\n",
      ">>>>>>>>>WI_WB_4>>>>>>>>>\n",
      "\n"
     ]
    },
    {
     "name": "stderr",
     "output_type": "stream",
     "text": [
      "C:\\Users\\sreej\\Anaconda3\\lib\\site-packages\\IPython\\core\\interactiveshell.py:2802: DtypeWarning:\n",
      "\n",
      "Columns (6,10,11,12,14,20,23,25,26,34,42,48,52,56,58,59,61,62,69) have mixed types. Specify dtype option on import or set low_memory=False.\n",
      "\n",
      "C:\\Users\\sreej\\Anaconda3\\lib\\site-packages\\IPython\\core\\interactiveshell.py:2802: DtypeWarning:\n",
      "\n",
      "Columns (10,11,12,20,34,48,69) have mixed types. Specify dtype option on import or set low_memory=False.\n",
      "\n"
     ]
    },
    {
     "name": "stdout",
     "output_type": "stream",
     "text": [
      "\n",
      ">>>>>>>>> CHunk Over >>>>>>>>>\n",
      "\n",
      "\n",
      ">>>>>>>>>WI_WB_5>>>>>>>>>\n",
      "\n"
     ]
    },
    {
     "name": "stderr",
     "output_type": "stream",
     "text": [
      "C:\\Users\\sreej\\Anaconda3\\lib\\site-packages\\IPython\\core\\interactiveshell.py:2802: DtypeWarning:\n",
      "\n",
      "Columns (6,23) have mixed types. Specify dtype option on import or set low_memory=False.\n",
      "\n"
     ]
    },
    {
     "name": "stdout",
     "output_type": "stream",
     "text": [
      "\n",
      ">>>>>>>>> CHunk Over >>>>>>>>>\n",
      "\n",
      "\n",
      ">>>>>>>>>WI_WB_6>>>>>>>>>\n",
      "\n"
     ]
    },
    {
     "name": "stderr",
     "output_type": "stream",
     "text": [
      "C:\\Users\\sreej\\Anaconda3\\lib\\site-packages\\IPython\\core\\interactiveshell.py:2802: DtypeWarning:\n",
      "\n",
      "Columns (21,25,26) have mixed types. Specify dtype option on import or set low_memory=False.\n",
      "\n",
      "C:\\Users\\sreej\\Anaconda3\\lib\\site-packages\\IPython\\core\\interactiveshell.py:2802: DtypeWarning:\n",
      "\n",
      "Columns (6,23,25,26,42,45,69) have mixed types. Specify dtype option on import or set low_memory=False.\n",
      "\n",
      "C:\\Users\\sreej\\Anaconda3\\lib\\site-packages\\IPython\\core\\interactiveshell.py:2802: DtypeWarning:\n",
      "\n",
      "Columns (6,25,26,42,48,69) have mixed types. Specify dtype option on import or set low_memory=False.\n",
      "\n",
      "C:\\Users\\sreej\\Anaconda3\\lib\\site-packages\\IPython\\core\\interactiveshell.py:2802: DtypeWarning:\n",
      "\n",
      "Columns (10,11,12,20,34,48,56,57,58,59,61,62,69) have mixed types. Specify dtype option on import or set low_memory=False.\n",
      "\n",
      "C:\\Users\\sreej\\Anaconda3\\lib\\site-packages\\IPython\\core\\interactiveshell.py:2802: DtypeWarning:\n",
      "\n",
      "Columns (9,12,14,34,45,52,53,54,55,57,69) have mixed types. Specify dtype option on import or set low_memory=False.\n",
      "\n",
      "C:\\Users\\sreej\\Anaconda3\\lib\\site-packages\\IPython\\core\\interactiveshell.py:2802: DtypeWarning:\n",
      "\n",
      "Columns (10,11,12,17,19,20,34,48,49,52,53,54,55,57,59,61,62,69) have mixed types. Specify dtype option on import or set low_memory=False.\n",
      "\n",
      "C:\\Users\\sreej\\Anaconda3\\lib\\site-packages\\IPython\\core\\interactiveshell.py:2802: DtypeWarning:\n",
      "\n",
      "Columns (10,11,12,15,21,34,36,40,45,50,55,69) have mixed types. Specify dtype option on import or set low_memory=False.\n",
      "\n"
     ]
    },
    {
     "name": "stdout",
     "output_type": "stream",
     "text": [
      "\n",
      ">>>>>>>>> CHunk Over >>>>>>>>>\n",
      "\n",
      "\n",
      ">>>>>>>>>WI_WB_7>>>>>>>>>\n",
      "\n"
     ]
    },
    {
     "name": "stderr",
     "output_type": "stream",
     "text": [
      "C:\\Users\\sreej\\Anaconda3\\lib\\site-packages\\IPython\\core\\interactiveshell.py:2802: DtypeWarning:\n",
      "\n",
      "Columns (21,40) have mixed types. Specify dtype option on import or set low_memory=False.\n",
      "\n",
      "C:\\Users\\sreej\\Anaconda3\\lib\\site-packages\\IPython\\core\\interactiveshell.py:2802: DtypeWarning:\n",
      "\n",
      "Columns (6,23,25,26,42,56,59,61) have mixed types. Specify dtype option on import or set low_memory=False.\n",
      "\n"
     ]
    },
    {
     "name": "stdout",
     "output_type": "stream",
     "text": [
      "\n",
      ">>>>>>>>> CHunk Over >>>>>>>>>\n",
      "\n",
      "\n",
      ">>>>>>>>>WI_WB_8>>>>>>>>>\n",
      "\n"
     ]
    },
    {
     "name": "stderr",
     "output_type": "stream",
     "text": [
      "C:\\Users\\sreej\\Anaconda3\\lib\\site-packages\\IPython\\core\\interactiveshell.py:2802: DtypeWarning:\n",
      "\n",
      "Columns (23,41,45) have mixed types. Specify dtype option on import or set low_memory=False.\n",
      "\n",
      "C:\\Users\\sreej\\Anaconda3\\lib\\site-packages\\IPython\\core\\interactiveshell.py:2802: DtypeWarning:\n",
      "\n",
      "Columns (10,11,12,20,23,34,45,48,56,57,59,61,62,69) have mixed types. Specify dtype option on import or set low_memory=False.\n",
      "\n",
      "C:\\Users\\sreej\\Anaconda3\\lib\\site-packages\\IPython\\core\\interactiveshell.py:2802: DtypeWarning:\n",
      "\n",
      "Columns (9,10,11,12,13,21,23,33,34,45,48,52,53,54,55,57) have mixed types. Specify dtype option on import or set low_memory=False.\n",
      "\n"
     ]
    },
    {
     "name": "stdout",
     "output_type": "stream",
     "text": [
      "\n",
      ">>>>>>>>> CHunk Over >>>>>>>>>\n",
      "\n",
      "\n",
      ">>>>>>>>>WI_WB_9>>>>>>>>>\n",
      "\n",
      "\n",
      ">>>>>>>>> CHunk Over >>>>>>>>>\n",
      "\n"
     ]
    }
   ],
   "source": [
    "for folder in folders:\n",
    "    if os.path.isdir(currentPath + folder):\n",
    "        print(folder)\n",
    "        wbchunksFolderPath = currentPath + folder + fileSeparator + \"WB_CHUNKS\" + fileSeparator\n",
    "        wbchunks = os.listdir(wbchunksFolderPath + \".\")\n",
    "        #wbchunks = [\"WI_WB_5\"]\n",
    "        for chunk in wbchunks:\n",
    "            print(\"\\n>>>>>>>>>\" + chunk + \">>>>>>>>>\\n\")\n",
    "            directory = wbchunksFolderPath + chunk + fileSeparator + \"SITES\" + fileSeparator\n",
    "            wbfiles = os.listdir(directory + \".\")\n",
    "            for file in wbfiles:\n",
    "                if file.endswith(\".csv\"):\n",
    "                    absPath = os.path.abspath(os.path.join(directory, file))\n",
    "                    calculateActivityDateFrequency(absPath)\n",
    "            print(\"\\n>>>>>>>>> CHunk Over >>>>>>>>>\\n\")"
   ]
  },
  {
   "cell_type": "code",
   "execution_count": 8,
   "metadata": {
    "scrolled": true
   },
   "outputs": [
    {
     "name": "stdout",
     "output_type": "stream",
     "text": [
      "{'1': {'1976': 6, '1998': 78, '1999': 54, '2000': 75, '2003': 97, '1975': 6, '1977': 6, '1980': 5, '1994': 80, '1996': 108, '2016': 70, '2017': 97, '1997': 104, '2001': 102, '2002': 71, '2006': 25, '2007': 121, '2008': 156, '2009': 159, '2010': 239, '2011': 513, '2012': 227, '2014': 380, '2015': 250, '1989': 63, '2013': 179, '2004': 10, '1991': 148, '1987': 75, '1990': 165, '1992': 210, '1993': 92, '1995': 78, '1900': 3, '1988': 142, '2005': 24, '1982': 20, '1983': 13, '1984': 87, '1985': 72, '1986': 54, '1901': 1, '1953': 2, '1954': 2, '1958': 1, '1969': 2, '1970': 2, '1971': 2, '1973': 2, '1974': 2, '1978': 2, '1979': 2, '1981': 13}, '2': {'1992': 856, '1993': 719, '2016': 244, '2014': 388, '2011': 617, '2012': 480, '2013': 1018, '1990': 413, '1991': 643, '1994': 543, '1996': 673, '1999': 668, '2000': 486, '2002': 258, '1976': 11, '1987': 213, '1988': 220, '1998': 462, '2003': 358, '1975': 9, '1977': 24, '1984': 142, '1985': 109, '1995': 651, '1997': 552, '1989': 332, '2001': 385, '1981': 14, '2004': 344, '2005': 293, '2017': 116, '2009': 415, '2008': 232, '2010': 519, '2006': 147, '2007': 217, '2015': 304, '1986': 58, '1982': 22, '1983': 7, '1980': 4, '1972': 4, '1955': 1, '1956': 1, '1959': 2, '1961': 2, '1963': 4, '1968': 2, '1970': 2, '1971': 4, '1973': 2, '1974': 2, '1978': 2, '1979': 3}, '3': {'1989': 183, '1990': 226, '1991': 214, '1994': 484, '2005': 99, '1971': 20, '1972': 12, '2012': 681, '1998': 518, '1992': 398, '1993': 427, '1995': 309, '1997': 435, '2000': 311, '2001': 345, '2016': 235, '2017': 16, '1975': 8, '2002': 227, '1999': 566, '1980': 5, '1996': 293, '2007': 50, '2008': 186, '2010': 614, '2014': 659, '2015': 261, '2003': 285, '2006': 84, '2011': 617, '2009': 216, '2013': 639, '1987': 66, '2004': 99, '1986': 169, '1976': 7, '1985': 59, '1988': 66, '1982': 17, '1983': 13, '1984': 62, '1978': 9, '1977': 19, '1953': 2, '1958': 2, '1959': 2, '1965': 2, '1969': 2, '1973': 2, '1974': 2, '1979': 2, '1981': 26}, '4': {'2005': 1471, '2006': 1099, '2007': 1717, '2008': 1139, '2010': 1930, '2011': 1185, '2012': 1623, '2014': 442, '2003': 1283, '1992': 792, '1993': 709, '1998': 1402, '2001': 901, '2015': 1061, '1988': 449, '1989': 714, '1990': 879, '2016': 1257, '2017': 784, '2002': 886, '2009': 1510, '1991': 1294, '1995': 1204, '2004': 1357, '1997': 902, '1994': 1118, '1996': 606, '1999': 1117, '2013': 645, '1986': 346, '1987': 480, '1977': 36, '1984': 210, '1985': 263, '2000': 911, '1982': 115, '1983': 13, '1976': 8, '1980': 4, '1953': 2, '1954': 2, '1955': 1, '1956': 1, '1957': 3, '1958': 1, '1961': 2, '1962': 2, '1968': 2, '1969': 2, '1970': 2, '1971': 2, '1972': 2, '1973': 2, '1974': 2, '1975': 2, '1978': 21, '1979': 3, '1981': 3}, '5': {'2005': 2287, '2006': 2525, '2007': 2323, '2008': 2575, '2009': 3297, '2010': 2723, '2011': 2589, '2012': 2686, '2013': 3247, '2014': 3866, '2004': 2218, '2015': 2862, '2003': 2035, '2001': 1830, '2002': 1489, '2016': 2245, '1996': 1793, '1987': 577, '1988': 692, '1989': 886, '1990': 1310, '1991': 2113, '1992': 1298, '1993': 1876, '1994': 2035, '1995': 1546, '1997': 1812, '1998': 1603, '1999': 1720, '2000': 1528, '2017': 1036, '1973': 8, '1984': 383, '1986': 280, '1977': 41, '1976': 50, '1978': 42, '1975': 15, '1974': 10, '1980': 102, '1985': 237, '1983': 97, '1982': 309, '1981': 94, '1979': 29, '1955': 1, '1958': 2, '1959': 2, '1960': 2, '1964': 2, '1965': 2, '1969': 2, '1971': 13, '1972': 9, '1948': 1}, '6': {'2005': 3719, '2006': 3613, '2007': 3830, '2008': 4174, '2009': 4622, '2010': 4724, '2011': 4572, '2012': 5101, '2013': 6035, '2014': 5143, '1992': 2564, '1993': 3179, '1998': 2833, '2015': 4106, '2016': 4287, '2017': 2146, '2003': 2938, '2004': 3443, '2001': 3191, '2002': 2691, '1980': 299, '1994': 3838, '1996': 3158, '1986': 660, '1987': 918, '1988': 1260, '1989': 1746, '1990': 1914, '1991': 3162, '1995': 3065, '1997': 3130, '2000': 2851, '1999': 2844, '1973': 16, '1983': 139, '1984': 494, '1975': 105, '1985': 375, '1961': 6, '1979': 223, '1974': 31, '1976': 87, '1981': 115, '1977': 53, '2209': 5, '1948': 3, '1982': 237, '1978': 129, '1953': 2, '1954': 9, '1955': 1, '1957': 2, '1958': 2, '1959': 2, '1963': 2, '1964': 2, '1965': 4, '1967': 2, '1968': 2, '1969': 2, '1970': 3, '1971': 37, '1972': 12, '1960': 8, '1947': 2}, '7': {'2005': 4132, '2006': 3936, '2007': 4532, '2008': 4993, '2009': 5083, '2010': 5098, '2011': 4820, '2012': 5598, '2013': 6581, '2014': 6235, '1992': 2999, '1993': 3244, '1991': 4008, '1998': 3268, '2015': 4087, '2001': 3524, '2002': 3175, '2003': 3294, '1996': 3533, '2016': 4131, '2004': 3710, '1994': 3970, '1997': 3539, '1986': 998, '1987': 1146, '1988': 1758, '1989': 2144, '1990': 2346, '1995': 3638, '1999': 3774, '2000': 3372, '2017': 2509, '1973': 37, '1974': 44, '1983': 145, '1984': 444, '1975': 98, '1985': 394, '1976': 60, '1981': 117, '1977': 82, '1979': 156, '1980': 411, '1978': 249, '1971': 4, '1982': 344, '1951': 12, '1969': 3, '1933': 1, '1953': 2, '1954': 2, '1956': 2, '1957': 4, '1958': 1, '1959': 2, '1960': 2, '1961': 2, '1962': 2, '1964': 2, '1968': 3, '1970': 3, '1972': 2, '1926': 1, '1952': 3, '1900': 1, '1950': 2}, '8': {'2005': 4278, '2006': 4003, '2007': 4769, '2008': 4850, '2009': 5069, '2010': 5129, '2011': 5095, '2012': 5488, '2013': 5533, '2014': 5282, '2004': 3917, '1992': 2677, '1993': 3449, '1991': 3647, '1998': 3054, '2001': 4456, '2015': 3849, '2017': 1711, '2003': 3729, '2002': 3354, '2016': 4633, '1994': 3966, '1996': 3502, '1997': 3296, '1986': 936, '1987': 963, '1988': 1938, '1989': 1911, '1990': 2389, '1995': 3225, '1999': 3308, '2000': 4293, '1973': 21, '1974': 39, '1983': 223, '1984': 555, '1975': 78, '1985': 423, '1976': 103, '1979': 274, '1981': 168, '1977': 87, '1980': 140, '1978': 169, '1982': 361, '1953': 2, '1955': 1, '1961': 9, '1962': 2, '1964': 2, '1965': 2, '1967': 2, '1968': 2, '1969': 14, '1970': 2, '1971': 2, '1972': 8, '1947': 2}, '9': {'2005': 2609, '2006': 2753, '2007': 2876, '2008': 2843, '2009': 4112, '2010': 3043, '2011': 2697, '2012': 3008, '2013': 3683, '2014': 3698, '1991': 2105, '1998': 2005, '2015': 2180, '2016': 2577, '2003': 2106, '2001': 2030, '2004': 2625, '2000': 2139, '1994': 2241, '1996': 1709, '1997': 1793, '2002': 1700, '1986': 519, '1987': 639, '1988': 717, '1989': 1083, '1990': 1340, '1992': 1548, '1993': 1745, '1995': 1760, '1999': 1599, '1984': 311, '1975': 55, '1985': 320, '1974': 34, '1979': 116, '1980': 172, '1981': 144, '1977': 41, '1983': 110, '2017': 287, '1976': 39, '1957': 9, '1982': 229, '1978': 113, '1973': 17, '1965': 1, '1954': 2, '1956': 1, '1958': 1, '1960': 2, '1962': 2, '1964': 2, '1968': 2, '1969': 3, '1970': 2, '1971': 2, '1972': 2, '1961': 5}, '10': {'2005': 1549, '2006': 1780, '2008': 1595, '2009': 1630, '2010': 1298, '2011': 1585, '2012': 1538, '2013': 1763, '2014': 1347, '1993': 841, '1991': 1538, '1992': 791, '1998': 997, '2015': 971, '2003': 1120, '2001': 1383, '2002': 1322, '2007': 1506, '1994': 1032, '1996': 919, '1997': 1154, '2016': 1191, '1986': 332, '1987': 409, '1988': 538, '1989': 606, '1990': 745, '1995': 1038, '2000': 1211, '2004': 1439, '1974': 14, '1981': 15, '1977': 28, '1979': 15, '1999': 1326, '1984': 170, '1976': 19, '1985': 159, '1975': 10, '1982': 114, '1983': 146, '1978': 5, '1946': 1, '1973': 9, '1955': 1, '1956': 1, '1957': 2, '1958': 2, '1959': 2, '1964': 2, '1965': 2, '1967': 2, '1968': 4, '1969': 4, '1970': 3, '1971': 9, '1972': 2, '1980': 3}, '11': {'1980': 66, '1988': 178, '1993': 379, '1994': 393, '2010': 409, '2011': 306, '2012': 244, '1996': 189, '1997': 353, '2006': 200, '2008': 197, '1992': 160, '1998': 271, '1975': 10, '1987': 95, '2002': 118, '2013': 347, '1979': 3, '1974': 9, '2007': 345, '1990': 321, '1991': 206, '1999': 393, '2016': 301, '2015': 230, '1995': 140, '2004': 241, '2005': 178, '2014': 235, '2000': 155, '2001': 180, '1986': 50, '2009': 416, '1989': 176, '2003': 76, '1978': 4, '1984': 59, '1985': 67, '1981': 32, '1982': 9, '1983': 114, '1976': 15, '1953': 2, '1954': 2, '1958': 2, '1960': 2, '1962': 2, '1963': 2, '1968': 2, '1970': 2, '1971': 2, '1972': 2, '1973': 2, '1977': 2}, '12': {'1996': 110, '1975': 6, '1979': 3, '1997': 45, '1995': 32, '2016': 19, '2006': 30, '2007': 43, '2008': 21, '2009': 35, '2010': 16, '2011': 20, '2012': 86, '2005': 3, '2002': 111, '2003': 118, '1998': 149, '1999': 81, '1988': 38, '1994': 52, '1987': 34, '2013': 9, '2000': 5, '2001': 25, '1993': 9, '2004': 5, '1981': 13, '1982': 7, '1983': 60, '1984': 54, '1985': 8, '1986': 61, '1989': 26, '1991': 61, '1992': 10, '1990': 95, '1976': 4, '1954': 2, '1956': 1, '1957': 2, '1967': 2, '1968': 2, '1969': 2, '1970': 2, '1972': 2, '1973': 2, '1974': 2, '1977': 3, '1978': 2, '2014': 5, '2015': 7}}\n",
      "Month:1\n",
      "[  1   1   2   2   2   2   2   2   2   2   2   3   5   6   6   6  10  13\n",
      "  13  20  24  25  54  54  63  70  71  72  75  75  78  78  80  87  92  97\n",
      "  97 102 104 108 121 142 148 156 159 165 179 210 227 239 250 380 513]\n",
      "Mean:84.8490566038\n",
      "Sum:4497\n",
      "Median:71.0\n",
      "25p:6.0\n",
      "75p:108.0\n",
      "Month:2\n",
      "[   1    1    2    2    2    2    2    2    2    3    4    4    4    4    7\n",
      "    9   11   14   22   24   58  109  116  142  147  213  217  220  232  244\n",
      "  258  293  304  332  344  358  385  388  413  415  462  480  486  519  543\n",
      "  552  617  643  651  668  673  719  856 1018]\n",
      "Mean:262.907407407\n",
      "Sum:14197\n",
      "Median:218.5\n",
      "25p:4.75\n",
      "75p:450.25\n",
      "Month:3\n",
      "[  2   2   2   2   2   2   2   2   5   7   8   9  12  13  16  17  19  20\n",
      "  26  50  59  62  66  66  84  99  99 169 183 186 214 216 226 227 235 261\n",
      " 285 293 309 311 345 398 427 435 484 518 566 614 617 639 659 681]\n",
      "Mean:197.134615385\n",
      "Sum:10251\n",
      "Median:99.0\n",
      "25p:12.75\n",
      "75p:309.5\n",
      "Month:4\n",
      "[   1    1    1    2    2    2    2    2    2    2    2    2    2    2    2\n",
      "    3    3    3    4    8   13   21   36  115  210  263  346  442  449  480\n",
      "  606  645  709  714  784  792  879  886  901  902  911 1061 1099 1117 1118\n",
      " 1139 1185 1204 1257 1283 1294 1357 1402 1471 1510 1623 1717 1930]\n",
      "Mean:584.810344828\n",
      "Sum:33919\n",
      "Median:464.5\n",
      "25p:2.25\n",
      "75p:1112.5\n",
      "Month:5\n",
      "[   1    1    2    2    2    2    2    2    8    9   10   13   15   29   41\n",
      "   42   50   94   97  102  237  280  309  383  577  692  886 1036 1298 1310\n",
      " 1489 1528 1546 1603 1720 1793 1812 1830 1876 2035 2035 2113 2218 2245 2287\n",
      " 2323 2525 2575 2589 2686 2723 2862 3247 3297 3866]\n",
      "Mean:1170.09090909\n",
      "Sum:64355\n",
      "Median:1036.0\n",
      "25p:35.0\n",
      "75p:2074.0\n",
      "Month:6\n",
      "[   1    2    2    2    2    2    2    2    2    2    2    3    3    4    5\n",
      "    6    8    9   12   16   31   37   53   87  105  115  129  139  223  237\n",
      "  299  375  494  660  918 1260 1746 1914 2146 2564 2691 2833 2844 2851 2938\n",
      " 3065 3130 3158 3162 3179 3191 3443 3613 3719 3830 3838 4106 4174 4287 4572\n",
      " 4622 4724 5101 5143 6035]\n",
      "Mean:1659.50769231\n",
      "Sum:107868\n",
      "Median:494.0\n",
      "25p:8.0\n",
      "75p:3162.0\n",
      "Month:7\n",
      "[   1    1    1    1    2    2    2    2    2    2    2    2    2    2    3\n",
      "    3    3    3    4    4   12   37   44   60   82   98  117  145  156  249\n",
      "  344  394  411  444  998 1146 1758 2144 2346 2509 2999 3175 3244 3268 3294\n",
      " 3372 3524 3533 3539 3638 3710 3774 3936 3970 4008 4087 4131 4132 4532 4820\n",
      " 4993 5083 5098 5598 6235 6581]\n",
      "Mean:1845.63636364\n",
      "Sum:121812\n",
      "Median:427.5\n",
      "25p:3.0\n",
      "75p:3613.25\n",
      "Month:8\n",
      "[   1    2    2    2    2    2    2    2    2    2    8    9   14   21   39\n",
      "   78   87  103  140  168  169  223  274  361  423  555  936  963 1711 1911\n",
      " 1938 2389 2677 3054 3225 3296 3308 3354 3449 3502 3647 3729 3849 3917 3966\n",
      " 4003 4278 4293 4456 4633 4769 4850 5069 5095 5129 5282 5488 5533]\n",
      "Mean:2075.68965517\n",
      "Sum:120390\n",
      "Median:1811.0\n",
      "25p:48.75\n",
      "75p:3900.0\n",
      "Month:9\n",
      "[   1    1    1    2    2    2    2    2    2    2    2    3    5    9   17\n",
      "   34   39   41   55  110  113  116  144  172  229  287  311  320  519  639\n",
      "  717 1083 1340 1548 1599 1700 1709 1745 1760 1793 2005 2030 2105 2106 2139\n",
      " 2180 2241 2577 2609 2625 2697 2753 2843 2876 3008 3043 3683 3698 4112]\n",
      "Mean:1178.06779661\n",
      "Sum:69506\n",
      "Median:639.0\n",
      "25p:25.5\n",
      "75p:2122.5\n",
      "Month:10\n",
      "[   1    1    1    2    2    2    2    2    2    2    3    3    4    4    5\n",
      "    9    9   10   14   15   15   19   28  114  146  159  170  332  409  538\n",
      "  606  745  791  841  919  971  997 1032 1038 1120 1154 1191 1211 1298 1322\n",
      " 1326 1347 1383 1439 1506 1538 1538 1549 1585 1595 1630 1763 1780]\n",
      "Mean:642.034482759\n",
      "Sum:37238\n",
      "Median:473.5\n",
      "25p:6.0\n",
      "75p:1276.25\n",
      "Month:11\n",
      "[  2   2   2   2   2   2   2   2   2   2   2   2   3   4   9   9  10  15\n",
      "  32  50  59  66  67  76  95 114 118 140 155 160 176 178 178 180 189 197\n",
      " 200 206 230 235 241 244 271 301 306 321 345 347 353 379 393 393 409 416]\n",
      "Mean:146.185185185\n",
      "Sum:7894\n",
      "Median:129.0\n",
      "25p:5.25\n",
      "75p:239.5\n",
      "Month:12\n",
      "[  1   2   2   2   2   2   2   2   2   2   2   3   3   3   4   5   5   5\n",
      "   6   7   7   8   9   9  10  13  16  19  20  21  25  26  30  32  34  35\n",
      "  38  43  45  52  54  60  61  61  81  86  95 110 111 118 149]\n",
      "Mean:30.1960784314\n",
      "Sum:1540\n",
      "Median:13.0\n",
      "25p:3.0\n",
      "75p:44.0\n",
      "[84.84905660377359, 262.90740740740739, 197.13461538461539, 584.81034482758616, 1170.090909090909, 1659.5076923076922, 1845.6363636363637, 2075.6896551724139, 1178.0677966101696, 642.0344827586207, 146.18518518518519, 30.196078431372548]\n",
      "[4497, 14197, 10251, 33919, 64355, 107868, 121812, 120390, 69506, 37238, 7894, 1540]\n",
      "[71.0, 218.5, 99.0, 464.5, 1036.0, 494.0, 427.5, 1811.0, 639.0, 473.5, 129.0, 13.0]\n",
      "[78.84905660377359, 258.15740740740739, 184.38461538461539, 582.56034482758616, 1135.090909090909, 1651.5076923076922, 1842.6363636363637, 2026.9396551724139, 1152.5677966101696, 636.0344827586207, 140.93518518518519, 27.196078431372548]\n",
      "[23.15094339622641, 187.34259259259261, 112.36538461538461, 527.68965517241384, 903.90909090909099, 1502.4923076923078, 1767.6136363636363, 1824.3103448275861, 944.43220338983042, 634.2155172413793, 93.31481481481481, 13.803921568627452]\n"
     ]
    }
   ],
   "source": [
    "totalSum = []\n",
    "means = []\n",
    "medians = []\n",
    "p25 = []\n",
    "p75 = []\n",
    "new_frequency = {}\n",
    "new_freq_with_year = {}\n",
    "#lessThan500Obs = []\n",
    "#activity_date_frequency = {\"10-2012\": [\"121\",\"2222\",\"324\"], \"11-2012\":[\"313\",\"009\"], \"9-2012\": [\"105\",\"7656\",\"323\", \"4445\",\"1\"]}\n",
    "for key, val in activity_date_frequency.items():\n",
    "    \n",
    "    freq = []\n",
    "    freq_with_year= {}\n",
    "    for k,v in val.items():\n",
    "        freq.append(len(v))\n",
    "        freq_with_year[k] = len(v)\n",
    "    new_frequency[key] = freq\n",
    "    new_freq_with_year[key] = freq_with_year\n",
    "    \n",
    "    \n",
    "print(new_freq_with_year)\n",
    "\n",
    "for key, val in new_frequency.items():\n",
    "    print(\"Month:\" + str(key))\n",
    "    \n",
    "    if len(val) > 0:\n",
    "        m = np.mean(val)\n",
    "        means.append(m)\n",
    "        a = np.array(val)\n",
    "        print(np.sort(a))\n",
    "        print(\"Mean:\" + str(m))\n",
    "        total = np.sum(a)\n",
    "        totalSum.append(total)\n",
    "        print(\"Sum:\" + str(total))\n",
    "        p3 =  np.percentile(a, 50)\n",
    "        print(\"Median:\" + str(p3))\n",
    "        medians.append(p3)\n",
    "        p1 = np.percentile(a, 25)\n",
    "        print(\"25p:\" + str(p1))\n",
    "        p25.append(m-p1)\n",
    "        p2 =  np.percentile(a, 75)\n",
    "        print(\"75p:\" + str(p2))\n",
    "        p75.append(p2-m)\n",
    "        \n",
    "    if key == \"nan\":\n",
    "        print(\"########################NAN############\")\n",
    "        \n",
    "print(means)\n",
    "print(totalSum)\n",
    "print(medians)\n",
    "print(p25)\n",
    "print(p75)"
   ]
  },
  {
   "cell_type": "code",
   "execution_count": 11,
   "metadata": {
    "scrolled": true
   },
   "outputs": [
    {
     "data": {
      "text/html": [
       "<iframe id=\"igraph\" scrolling=\"no\" style=\"border:none;\" seamless=\"seamless\" src=\"https://plot.ly/~sdutta7/14.embed\" height=\"525px\" width=\"100%\"></iframe>"
      ],
      "text/plain": [
       "<plotly.tools.PlotlyDisplay object>"
      ]
     },
     "execution_count": 11,
     "metadata": {},
     "output_type": "execute_result"
    }
   ],
   "source": [
    "data1 = [go.Bar(\n",
    "            x=['Jan', 'Feb', 'Mar', 'Apr', 'May', 'Jun', 'Jul', 'Aug', 'Sep', 'Oct', 'Nov', 'Dec'],\n",
    "            y=means,\n",
    "            error_y=dict(\n",
    "                    type='data',\n",
    "                    symmetric=False,\n",
    "                    array=p75,\n",
    "                    arrayminus=p25,\n",
    "                    visible=True\n",
    "                )\n",
    "    )]\n",
    "\n",
    "layout1 = go.Layout(\n",
    "    title='Observations spread across months',\n",
    "    xaxis=dict(\n",
    "        title='Month',\n",
    "        titlefont=dict(\n",
    "            family='Courier New, monospace',\n",
    "            size=18,\n",
    "            color='#7f7f7f'\n",
    "        )\n",
    "    ),\n",
    "    yaxis=dict(\n",
    "        title='Mean of observations',\n",
    "        titlefont=dict(\n",
    "            family='Courier New, monospace',\n",
    "            size=18,\n",
    "            color='#7f7f7f'\n",
    "        )\n",
    "    )\n",
    ")\n",
    "fig = go.Figure(data=data1, layout=layout1)\n",
    "py.iplot(fig, filename='bar1')\n"
   ]
  },
  {
   "cell_type": "code",
   "execution_count": 12,
   "metadata": {},
   "outputs": [
    {
     "data": {
      "text/html": [
       "<iframe id=\"igraph\" scrolling=\"no\" style=\"border:none;\" seamless=\"seamless\" src=\"https://plot.ly/~sdutta7/16.embed\" height=\"525px\" width=\"100%\"></iframe>"
      ],
      "text/plain": [
       "<plotly.tools.PlotlyDisplay object>"
      ]
     },
     "execution_count": 12,
     "metadata": {},
     "output_type": "execute_result"
    }
   ],
   "source": [
    "data2 = [go.Bar(\n",
    "            x=['Jan', 'Feb', 'Mar', 'Apr', 'May', 'Jun', 'Jul', 'Aug', 'Sep', 'Oct', 'Nov', 'Dec'],\n",
    "            y=totalSum\n",
    "    )]\n",
    "\n",
    "layout2 = go.Layout(\n",
    "    title='Observations spread across months',\n",
    "    xaxis=dict(\n",
    "        title='Month',\n",
    "        titlefont=dict(\n",
    "            family='Courier New, monospace',\n",
    "            size=18,\n",
    "            color='#7f7f7f'\n",
    "        )\n",
    "    ),\n",
    "    yaxis=dict(\n",
    "        title='No. of observations',\n",
    "        titlefont=dict(\n",
    "            family='Courier New, monospace',\n",
    "            size=18,\n",
    "            color='#7f7f7f'\n",
    "        )\n",
    "    )\n",
    ")\n",
    "fig = go.Figure(data=data2, layout=layout2)\n",
    "py.iplot(fig, filename='bar2')\n"
   ]
  },
  {
   "cell_type": "code",
   "execution_count": null,
   "metadata": {
    "collapsed": true
   },
   "outputs": [],
   "source": []
  }
 ],
 "metadata": {
  "kernelspec": {
   "display_name": "Python 3",
   "language": "python",
   "name": "python3"
  },
  "language_info": {
   "codemirror_mode": {
    "name": "ipython",
    "version": 3
   },
   "file_extension": ".py",
   "mimetype": "text/x-python",
   "name": "python",
   "nbconvert_exporter": "python",
   "pygments_lexer": "ipython3",
   "version": "3.6.3"
  }
 },
 "nbformat": 4,
 "nbformat_minor": 2
}

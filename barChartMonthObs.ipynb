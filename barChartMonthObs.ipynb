{
 "cells": [
  {
   "cell_type": "code",
   "execution_count": 1,
   "metadata": {
    "collapsed": true
   },
   "outputs": [],
   "source": [
    "import os\n",
    "import csv\n",
    "import pandas as pd\n",
    "import datetime\n",
    "import plotly.plotly as py\n",
    "import plotly.graph_objs as go\n",
    "import numpy as np"
   ]
  },
  {
   "cell_type": "code",
   "execution_count": 2,
   "metadata": {
    "collapsed": true
   },
   "outputs": [],
   "source": [
    "currentPath = \"C:\\\\Users\\\\sreej\\\\Documents\\\\wisconsin\\\\Fall 2017\\\\CS 799\\\\MODIFIED_SITES_DATA\\\\\"\n",
    "fileSeparator = \"\\\\\"\n",
    "#folders = os.listdir(currentPath + \".\")\n",
    "folders = ['WISCONSIN_SITES']"
   ]
  },
  {
   "cell_type": "code",
   "execution_count": 17,
   "metadata": {},
   "outputs": [],
   "source": [
    "activity_date_frequency = {}\n",
    "count = 1\n",
    "while count<=12:\n",
    "    activity_date_frequency[str(count)] = {}\n",
    "    count = count + 1\n",
    "    \n",
    "def calculateActivityDateFrequency(path):\n",
    "    try:\n",
    "        df=pd.read_csv(path, sep=',', parse_dates=[7])\n",
    "        for index, row in df.iterrows():\n",
    "            date = pd.to_datetime(row['ActivityStartDate'], errors='coerce', format=\"%Y/%m/%d\")\n",
    "            if str(date.month) == \"nan\" or str(date.year) == \"nan\":\n",
    "                continue\n",
    "           # month_year = str(date.month) + \"-\" + str(date.year)\n",
    "            month = str(date.month)\n",
    "            year = str(date.year)\n",
    "           # print(\"Month:\" + month)  \n",
    "            if month in activity_date_frequency:\n",
    "                if year in activity_date_frequency[month]:\n",
    "                    if row['ActivityIdentifier'] not in activity_date_frequency[month][year]:\n",
    "                        activity_date_frequency[month][year].append(row['ActivityIdentifier'])\n",
    "                else:\n",
    "                    activity_date_frequency[month][year]= [];\n",
    "                    activity_date_frequency[month][year].append(row['ActivityIdentifier'])\n",
    "                    \n",
    "                \n",
    "           # print(activity_date_frequency[month])\n",
    "        return 1\n",
    "    except pd.io.common.EmptyDataError:\n",
    "        return 0\n",
    "        #Do nothing"
   ]
  },
  {
   "cell_type": "code",
   "execution_count": 18,
   "metadata": {},
   "outputs": [
    {
     "name": "stdout",
     "output_type": "stream",
     "text": [
      "WISCONSIN_SITES\n",
      "\n",
      ">>>>>>>>>WI_WB_0>>>>>>>>>\n",
      "\n"
     ]
    },
    {
     "name": "stderr",
     "output_type": "stream",
     "text": [
      "C:\\Users\\sreej\\Anaconda3\\lib\\site-packages\\IPython\\core\\interactiveshell.py:2802: DtypeWarning:\n",
      "\n",
      "Columns (6,23,25,26,42,69) have mixed types. Specify dtype option on import or set low_memory=False.\n",
      "\n",
      "C:\\Users\\sreej\\Anaconda3\\lib\\site-packages\\IPython\\core\\interactiveshell.py:2802: DtypeWarning:\n",
      "\n",
      "Columns (6,9,10,11,12,13,21,23,33,34,45,52,53,54,55,57) have mixed types. Specify dtype option on import or set low_memory=False.\n",
      "\n"
     ]
    },
    {
     "name": "stdout",
     "output_type": "stream",
     "text": [
      "\n",
      ">>>>>>>>> CHunk Over >>>>>>>>>\n",
      "\n",
      "\n",
      ">>>>>>>>>WI_WB_1>>>>>>>>>\n",
      "\n"
     ]
    },
    {
     "name": "stderr",
     "output_type": "stream",
     "text": [
      "C:\\Users\\sreej\\Anaconda3\\lib\\site-packages\\IPython\\core\\interactiveshell.py:2802: DtypeWarning:\n",
      "\n",
      "Columns (21,36,38,42,48,58) have mixed types. Specify dtype option on import or set low_memory=False.\n",
      "\n",
      "C:\\Users\\sreej\\Anaconda3\\lib\\site-packages\\IPython\\core\\interactiveshell.py:2802: DtypeWarning:\n",
      "\n",
      "Columns (10,11,12,20,34,48,62,69) have mixed types. Specify dtype option on import or set low_memory=False.\n",
      "\n",
      "C:\\Users\\sreej\\Anaconda3\\lib\\site-packages\\IPython\\core\\interactiveshell.py:2802: DtypeWarning:\n",
      "\n",
      "Columns (10,11,12,20,23,34,45,48,56,57,58,59,61,62,69) have mixed types. Specify dtype option on import or set low_memory=False.\n",
      "\n",
      "C:\\Users\\sreej\\Anaconda3\\lib\\site-packages\\IPython\\core\\interactiveshell.py:2802: DtypeWarning:\n",
      "\n",
      "Columns (69) have mixed types. Specify dtype option on import or set low_memory=False.\n",
      "\n"
     ]
    },
    {
     "name": "stdout",
     "output_type": "stream",
     "text": [
      "\n",
      ">>>>>>>>> CHunk Over >>>>>>>>>\n",
      "\n",
      "\n",
      ">>>>>>>>>WI_WB_10>>>>>>>>>\n",
      "\n"
     ]
    },
    {
     "name": "stderr",
     "output_type": "stream",
     "text": [
      "C:\\Users\\sreej\\Anaconda3\\lib\\site-packages\\IPython\\core\\interactiveshell.py:2802: DtypeWarning:\n",
      "\n",
      "Columns (10,11,12,20,34,45,48,57,69) have mixed types. Specify dtype option on import or set low_memory=False.\n",
      "\n",
      "C:\\Users\\sreej\\Anaconda3\\lib\\site-packages\\IPython\\core\\interactiveshell.py:2802: DtypeWarning:\n",
      "\n",
      "Columns (6,23,25,26,42) have mixed types. Specify dtype option on import or set low_memory=False.\n",
      "\n"
     ]
    },
    {
     "name": "stdout",
     "output_type": "stream",
     "text": [
      "\n",
      ">>>>>>>>> CHunk Over >>>>>>>>>\n",
      "\n",
      "\n",
      ">>>>>>>>>WI_WB_11>>>>>>>>>\n",
      "\n"
     ]
    },
    {
     "name": "stderr",
     "output_type": "stream",
     "text": [
      "C:\\Users\\sreej\\Anaconda3\\lib\\site-packages\\IPython\\core\\interactiveshell.py:2802: DtypeWarning:\n",
      "\n",
      "Columns (21,23,40,42,45) have mixed types. Specify dtype option on import or set low_memory=False.\n",
      "\n",
      "C:\\Users\\sreej\\Anaconda3\\lib\\site-packages\\IPython\\core\\interactiveshell.py:2802: DtypeWarning:\n",
      "\n",
      "Columns (10,11,12,17,19,20,23,34,48,49,56,57,58,59,61,62,69) have mixed types. Specify dtype option on import or set low_memory=False.\n",
      "\n"
     ]
    },
    {
     "name": "stdout",
     "output_type": "stream",
     "text": [
      "\n",
      ">>>>>>>>> CHunk Over >>>>>>>>>\n",
      "\n",
      "\n",
      ">>>>>>>>>WI_WB_2>>>>>>>>>\n",
      "\n"
     ]
    },
    {
     "name": "stderr",
     "output_type": "stream",
     "text": [
      "C:\\Users\\sreej\\Anaconda3\\lib\\site-packages\\IPython\\core\\interactiveshell.py:2802: DtypeWarning:\n",
      "\n",
      "Columns (6,10,11,12,23,25,26,34,42,48,52,57) have mixed types. Specify dtype option on import or set low_memory=False.\n",
      "\n",
      "C:\\Users\\sreej\\Anaconda3\\lib\\site-packages\\IPython\\core\\interactiveshell.py:2802: DtypeWarning:\n",
      "\n",
      "Columns (21,23,25,26,38) have mixed types. Specify dtype option on import or set low_memory=False.\n",
      "\n"
     ]
    },
    {
     "name": "stdout",
     "output_type": "stream",
     "text": [
      "\n",
      ">>>>>>>>> CHunk Over >>>>>>>>>\n",
      "\n",
      "\n",
      ">>>>>>>>>WI_WB_3>>>>>>>>>\n",
      "\n"
     ]
    },
    {
     "name": "stderr",
     "output_type": "stream",
     "text": [
      "C:\\Users\\sreej\\Anaconda3\\lib\\site-packages\\IPython\\core\\interactiveshell.py:2802: DtypeWarning:\n",
      "\n",
      "Columns (23,25,26,42,45) have mixed types. Specify dtype option on import or set low_memory=False.\n",
      "\n",
      "C:\\Users\\sreej\\Anaconda3\\lib\\site-packages\\IPython\\core\\interactiveshell.py:2802: DtypeWarning:\n",
      "\n",
      "Columns (6,10,11,12,17,19,20,21,23,25,26,34,36,38,40,42,48,56,58,59,61) have mixed types. Specify dtype option on import or set low_memory=False.\n",
      "\n"
     ]
    },
    {
     "name": "stdout",
     "output_type": "stream",
     "text": [
      "\n",
      ">>>>>>>>> CHunk Over >>>>>>>>>\n",
      "\n",
      "\n",
      ">>>>>>>>>WI_WB_4>>>>>>>>>\n",
      "\n"
     ]
    },
    {
     "name": "stderr",
     "output_type": "stream",
     "text": [
      "C:\\Users\\sreej\\Anaconda3\\lib\\site-packages\\IPython\\core\\interactiveshell.py:2802: DtypeWarning:\n",
      "\n",
      "Columns (6,10,11,12,14,20,23,25,26,34,42,48,52,56,58,59,61,62,69) have mixed types. Specify dtype option on import or set low_memory=False.\n",
      "\n",
      "C:\\Users\\sreej\\Anaconda3\\lib\\site-packages\\IPython\\core\\interactiveshell.py:2802: DtypeWarning:\n",
      "\n",
      "Columns (10,11,12,20,34,48,69) have mixed types. Specify dtype option on import or set low_memory=False.\n",
      "\n"
     ]
    },
    {
     "name": "stdout",
     "output_type": "stream",
     "text": [
      "\n",
      ">>>>>>>>> CHunk Over >>>>>>>>>\n",
      "\n",
      "\n",
      ">>>>>>>>>WI_WB_5>>>>>>>>>\n",
      "\n"
     ]
    },
    {
     "name": "stderr",
     "output_type": "stream",
     "text": [
      "C:\\Users\\sreej\\Anaconda3\\lib\\site-packages\\IPython\\core\\interactiveshell.py:2802: DtypeWarning:\n",
      "\n",
      "Columns (6,23) have mixed types. Specify dtype option on import or set low_memory=False.\n",
      "\n"
     ]
    },
    {
     "name": "stdout",
     "output_type": "stream",
     "text": [
      "\n",
      ">>>>>>>>> CHunk Over >>>>>>>>>\n",
      "\n",
      "\n",
      ">>>>>>>>>WI_WB_6>>>>>>>>>\n",
      "\n"
     ]
    },
    {
     "name": "stderr",
     "output_type": "stream",
     "text": [
      "C:\\Users\\sreej\\Anaconda3\\lib\\site-packages\\IPython\\core\\interactiveshell.py:2802: DtypeWarning:\n",
      "\n",
      "Columns (21,25,26) have mixed types. Specify dtype option on import or set low_memory=False.\n",
      "\n",
      "C:\\Users\\sreej\\Anaconda3\\lib\\site-packages\\IPython\\core\\interactiveshell.py:2802: DtypeWarning:\n",
      "\n",
      "Columns (6,23,25,26,42,45,69) have mixed types. Specify dtype option on import or set low_memory=False.\n",
      "\n",
      "C:\\Users\\sreej\\Anaconda3\\lib\\site-packages\\IPython\\core\\interactiveshell.py:2802: DtypeWarning:\n",
      "\n",
      "Columns (6,25,26,42,48,69) have mixed types. Specify dtype option on import or set low_memory=False.\n",
      "\n",
      "C:\\Users\\sreej\\Anaconda3\\lib\\site-packages\\IPython\\core\\interactiveshell.py:2802: DtypeWarning:\n",
      "\n",
      "Columns (10,11,12,20,34,48,56,57,58,59,61,62,69) have mixed types. Specify dtype option on import or set low_memory=False.\n",
      "\n",
      "C:\\Users\\sreej\\Anaconda3\\lib\\site-packages\\IPython\\core\\interactiveshell.py:2802: DtypeWarning:\n",
      "\n",
      "Columns (9,12,14,34,45,52,53,54,55,57,69) have mixed types. Specify dtype option on import or set low_memory=False.\n",
      "\n",
      "C:\\Users\\sreej\\Anaconda3\\lib\\site-packages\\IPython\\core\\interactiveshell.py:2802: DtypeWarning:\n",
      "\n",
      "Columns (10,11,12,17,19,20,34,48,49,52,53,54,55,57,59,61,62,69) have mixed types. Specify dtype option on import or set low_memory=False.\n",
      "\n",
      "C:\\Users\\sreej\\Anaconda3\\lib\\site-packages\\IPython\\core\\interactiveshell.py:2802: DtypeWarning:\n",
      "\n",
      "Columns (10,11,12,15,21,34,36,40,45,50,55,69) have mixed types. Specify dtype option on import or set low_memory=False.\n",
      "\n"
     ]
    },
    {
     "name": "stdout",
     "output_type": "stream",
     "text": [
      "\n",
      ">>>>>>>>> CHunk Over >>>>>>>>>\n",
      "\n",
      "\n",
      ">>>>>>>>>WI_WB_7>>>>>>>>>\n",
      "\n"
     ]
    },
    {
     "name": "stderr",
     "output_type": "stream",
     "text": [
      "C:\\Users\\sreej\\Anaconda3\\lib\\site-packages\\IPython\\core\\interactiveshell.py:2802: DtypeWarning:\n",
      "\n",
      "Columns (21,40) have mixed types. Specify dtype option on import or set low_memory=False.\n",
      "\n",
      "C:\\Users\\sreej\\Anaconda3\\lib\\site-packages\\IPython\\core\\interactiveshell.py:2802: DtypeWarning:\n",
      "\n",
      "Columns (6,23,25,26,42,56,59,61) have mixed types. Specify dtype option on import or set low_memory=False.\n",
      "\n"
     ]
    },
    {
     "name": "stdout",
     "output_type": "stream",
     "text": [
      "\n",
      ">>>>>>>>> CHunk Over >>>>>>>>>\n",
      "\n",
      "\n",
      ">>>>>>>>>WI_WB_8>>>>>>>>>\n",
      "\n"
     ]
    },
    {
     "name": "stderr",
     "output_type": "stream",
     "text": [
      "C:\\Users\\sreej\\Anaconda3\\lib\\site-packages\\IPython\\core\\interactiveshell.py:2802: DtypeWarning:\n",
      "\n",
      "Columns (23,41,45) have mixed types. Specify dtype option on import or set low_memory=False.\n",
      "\n",
      "C:\\Users\\sreej\\Anaconda3\\lib\\site-packages\\IPython\\core\\interactiveshell.py:2802: DtypeWarning:\n",
      "\n",
      "Columns (10,11,12,20,23,34,45,48,56,57,59,61,62,69) have mixed types. Specify dtype option on import or set low_memory=False.\n",
      "\n",
      "C:\\Users\\sreej\\Anaconda3\\lib\\site-packages\\IPython\\core\\interactiveshell.py:2802: DtypeWarning:\n",
      "\n",
      "Columns (9,10,11,12,13,21,23,33,34,45,48,52,53,54,55,57) have mixed types. Specify dtype option on import or set low_memory=False.\n",
      "\n"
     ]
    },
    {
     "name": "stdout",
     "output_type": "stream",
     "text": [
      "\n",
      ">>>>>>>>> CHunk Over >>>>>>>>>\n",
      "\n",
      "\n",
      ">>>>>>>>>WI_WB_9>>>>>>>>>\n",
      "\n",
      "\n",
      ">>>>>>>>> CHunk Over >>>>>>>>>\n",
      "\n"
     ]
    }
   ],
   "source": [
    "for folder in folders:\n",
    "    if os.path.isdir(currentPath + folder):\n",
    "        print(folder)\n",
    "        wbchunksFolderPath = currentPath + folder + fileSeparator + \"WB_CHUNKS\" + fileSeparator\n",
    "        wbchunks = os.listdir(wbchunksFolderPath + \".\")\n",
    "        #wbchunks = [\"WI_WB_5\"]\n",
    "        for chunk in wbchunks:\n",
    "            print(\"\\n>>>>>>>>>\" + chunk + \">>>>>>>>>\\n\")\n",
    "            directory = wbchunksFolderPath + chunk + fileSeparator + \"SITES\" + fileSeparator\n",
    "            wbfiles = os.listdir(directory + \".\")\n",
    "            for file in wbfiles:\n",
    "                if file.endswith(\".csv\"):\n",
    "                    absPath = os.path.abspath(os.path.join(directory, file))\n",
    "                    calculateActivityDateFrequency(absPath)\n",
    "            print(\"\\n>>>>>>>>> CHunk Over >>>>>>>>>\\n\")"
   ]
  },
  {
   "cell_type": "code",
   "execution_count": 34,
   "metadata": {
    "scrolled": true
   },
   "outputs": [
    {
     "name": "stdout",
     "output_type": "stream",
     "text": [
      "Month:1\n",
      "[  1   1   2   2   2   2   2   2   2   2   2   3   5   6   6   6  10  13\n",
      "  13  20  24  25  54  54  63  70  71  72  75  75  78  78  80  87  92  97\n",
      "  97 102 104 108 121 142 148 156 159 165 179 210 227 239 250 380 513]\n",
      "Mean:84.8490566038\n",
      "Median:71.0\n",
      "25p:6.0\n",
      "75p:108.0\n",
      "Month:2\n",
      "[   1    1    2    2    2    2    2    2    2    3    4    4    4    4    7\n",
      "    9   11   14   22   24   58  109  116  142  147  213  217  220  232  244\n",
      "  258  293  304  332  344  358  385  388  413  415  462  480  486  519  543\n",
      "  552  617  643  651  668  673  719  856 1018]\n",
      "Mean:262.907407407\n",
      "Median:218.5\n",
      "25p:4.75\n",
      "75p:450.25\n",
      "Month:3\n",
      "[  2   2   2   2   2   2   2   2   5   7   8   9  12  13  16  17  19  20\n",
      "  26  50  59  62  66  66  84  99  99 169 183 186 214 216 226 227 235 261\n",
      " 285 293 309 311 345 398 427 435 484 518 566 614 617 639 659 681]\n",
      "Mean:197.134615385\n",
      "Median:99.0\n",
      "25p:12.75\n",
      "75p:309.5\n",
      "Month:4\n",
      "[   1    1    1    2    2    2    2    2    2    2    2    2    2    2    2\n",
      "    3    3    3    4    8   13   21   36  115  210  263  346  442  449  480\n",
      "  606  645  709  714  784  792  879  886  901  902  911 1061 1099 1117 1118\n",
      " 1139 1185 1204 1257 1283 1294 1357 1402 1471 1510 1623 1717 1930]\n",
      "Mean:584.810344828\n",
      "Median:464.5\n",
      "25p:2.25\n",
      "75p:1112.5\n",
      "Month:5\n",
      "[   1    1    2    2    2    2    2    2    8    9   10   13   15   29   41\n",
      "   42   50   94   97  102  237  280  309  383  577  692  886 1036 1298 1310\n",
      " 1489 1528 1546 1603 1720 1793 1812 1830 1876 2035 2035 2113 2218 2245 2287\n",
      " 2323 2525 2575 2589 2686 2723 2862 3247 3297 3866]\n",
      "Mean:1170.09090909\n",
      "Median:1036.0\n",
      "25p:35.0\n",
      "75p:2074.0\n",
      "Month:6\n",
      "[   1    2    2    2    2    2    2    2    2    2    2    3    3    4    5\n",
      "    6    8    9   12   16   31   37   53   87  105  115  129  139  223  237\n",
      "  299  375  494  660  918 1260 1746 1914 2146 2564 2691 2833 2844 2851 2938\n",
      " 3065 3130 3158 3162 3179 3191 3443 3613 3719 3830 3838 4106 4174 4287 4572\n",
      " 4622 4724 5101 5143 6035]\n",
      "Mean:1659.50769231\n",
      "Median:494.0\n",
      "25p:8.0\n",
      "75p:3162.0\n",
      "Month:7\n",
      "[   1    1    1    1    2    2    2    2    2    2    2    2    2    2    3\n",
      "    3    3    3    4    4   12   37   44   60   82   98  117  145  156  249\n",
      "  344  394  411  444  998 1146 1758 2144 2346 2509 2999 3175 3244 3268 3294\n",
      " 3372 3524 3533 3539 3638 3710 3774 3936 3970 4008 4087 4131 4132 4532 4820\n",
      " 4993 5083 5098 5598 6235 6581]\n",
      "Mean:1845.63636364\n",
      "Median:427.5\n",
      "25p:3.0\n",
      "75p:3613.25\n",
      "Month:8\n",
      "[   1    2    2    2    2    2    2    2    2    2    8    9   14   21   39\n",
      "   78   87  103  140  168  169  223  274  361  423  555  936  963 1711 1911\n",
      " 1938 2389 2677 3054 3225 3296 3308 3354 3449 3502 3647 3729 3849 3917 3966\n",
      " 4003 4278 4293 4456 4633 4769 4850 5069 5095 5129 5282 5488 5533]\n",
      "Mean:2075.68965517\n",
      "Median:1811.0\n",
      "25p:48.75\n",
      "75p:3900.0\n",
      "Month:9\n",
      "[   1    1    1    2    2    2    2    2    2    2    2    3    5    9   17\n",
      "   34   39   41   55  110  113  116  144  172  229  287  311  320  519  639\n",
      "  717 1083 1340 1548 1599 1700 1709 1745 1760 1793 2005 2030 2105 2106 2139\n",
      " 2180 2241 2577 2609 2625 2697 2753 2843 2876 3008 3043 3683 3698 4112]\n",
      "Mean:1178.06779661\n",
      "Median:639.0\n",
      "25p:25.5\n",
      "75p:2122.5\n",
      "Month:10\n",
      "[   1    1    1    2    2    2    2    2    2    2    3    3    4    4    5\n",
      "    9    9   10   14   15   15   19   28  114  146  159  170  332  409  538\n",
      "  606  745  791  841  919  971  997 1032 1038 1120 1154 1191 1211 1298 1322\n",
      " 1326 1347 1383 1439 1506 1538 1538 1549 1585 1595 1630 1763 1780]\n",
      "Mean:642.034482759\n",
      "Median:473.5\n",
      "25p:6.0\n",
      "75p:1276.25\n",
      "Month:11\n",
      "[  2   2   2   2   2   2   2   2   2   2   2   2   3   4   9   9  10  15\n",
      "  32  50  59  66  67  76  95 114 118 140 155 160 176 178 178 180 189 197\n",
      " 200 206 230 235 241 244 271 301 306 321 345 347 353 379 393 393 409 416]\n",
      "Mean:146.185185185\n",
      "Median:129.0\n",
      "25p:5.25\n",
      "75p:239.5\n",
      "Month:12\n",
      "[  1   2   2   2   2   2   2   2   2   2   2   3   3   3   4   5   5   5\n",
      "   6   7   7   8   9   9  10  13  16  19  20  21  25  26  30  32  34  35\n",
      "  38  43  45  52  54  60  61  61  81  86  95 110 111 118 149]\n",
      "Mean:30.1960784314\n",
      "Median:13.0\n",
      "25p:3.0\n",
      "75p:44.0\n",
      "[84.84905660377359, 262.90740740740739, 197.13461538461539, 584.81034482758616, 1170.090909090909, 1659.5076923076922, 1845.6363636363637, 2075.6896551724139, 1178.0677966101696, 642.0344827586207, 146.18518518518519, 30.196078431372548]\n",
      "[71.0, 218.5, 99.0, 464.5, 1036.0, 494.0, 427.5, 1811.0, 639.0, 473.5, 129.0, 13.0]\n",
      "[78.84905660377359, 258.15740740740739, 184.38461538461539, 582.56034482758616, 1135.090909090909, 1651.5076923076922, 1842.6363636363637, 2026.9396551724139, 1152.5677966101696, 636.0344827586207, 140.93518518518519, 27.196078431372548]\n",
      "[23.15094339622641, 187.34259259259261, 112.36538461538461, 527.68965517241384, 903.90909090909099, 1502.4923076923078, 1767.6136363636363, 1824.3103448275861, 944.43220338983042, 634.2155172413793, 93.31481481481481, 13.803921568627452]\n"
     ]
    }
   ],
   "source": [
    "means = []\n",
    "medians = []\n",
    "p25 = []\n",
    "p75 = []\n",
    "new_frequency = {}\n",
    "#lessThan500Obs = []\n",
    "#activity_date_frequency = {\"10-2012\": [\"121\",\"2222\",\"324\"], \"11-2012\":[\"313\",\"009\"], \"9-2012\": [\"105\",\"7656\",\"323\", \"4445\",\"1\"]}\n",
    "for key, val in activity_date_frequency.items():\n",
    "   \n",
    "    freq = [];\n",
    "    for k,v in val.items():\n",
    "        freq.append(len(v))\n",
    "    new_frequency[key] = freq\n",
    "    \n",
    "#print(new_frequency)\n",
    "\n",
    "for key, val in new_frequency.items():\n",
    "    print(\"Month:\" + str(key))\n",
    "    \n",
    "    if len(val) > 0:\n",
    "        m = np.mean(val)\n",
    "        means.append(m)\n",
    "        a = np.array(val)\n",
    "        print(np.sort(a))\n",
    "        print(\"Mean:\" + str(m))\n",
    "        p3 =  np.percentile(a, 50)\n",
    "        print(\"Median:\" + str(p3))\n",
    "        medians.append(p3)\n",
    "        p1 = np.percentile(a, 25)\n",
    "        print(\"25p:\" + str(p1))\n",
    "        p25.append(m-p1)\n",
    "        p2 =  np.percentile(a, 75)\n",
    "        print(\"75p:\" + str(p2))\n",
    "        p75.append(p2-m)\n",
    "        \n",
    "    if key == \"nan\":\n",
    "        print(\"########################NAN############\")\n",
    "        \n",
    "print(means)\n",
    "print(medians)\n",
    "print(p25)\n",
    "print(p75)"
   ]
  },
  {
   "cell_type": "code",
   "execution_count": 29,
   "metadata": {},
   "outputs": [
    {
     "data": {
      "text/html": [
       "<iframe id=\"igraph\" scrolling=\"no\" style=\"border:none;\" seamless=\"seamless\" src=\"https://plot.ly/~sdutta7/10.embed\" height=\"525px\" width=\"100%\"></iframe>"
      ],
      "text/plain": [
       "<plotly.tools.PlotlyDisplay object>"
      ]
     },
     "execution_count": 29,
     "metadata": {},
     "output_type": "execute_result"
    }
   ],
   "source": [
    "data = [go.Bar(\n",
    "            x=['Jan', 'Feb', 'Mar', 'Apr', 'May', 'Jun', 'Jul', 'Aug', 'Sep', 'Oct', 'Nov', 'Dec'],\n",
    "            y=means,\n",
    "            error_y=dict(\n",
    "                    type='data',\n",
    "                    symmetric=False,\n",
    "                    array=p75,\n",
    "                    arrayminus=p25,\n",
    "                    visible=True\n",
    "                )\n",
    "    )]\n",
    "\n",
    "py.iplot(data, filename='bar')\n"
   ]
  },
  {
   "cell_type": "code",
   "execution_count": null,
   "metadata": {
    "collapsed": true
   },
   "outputs": [],
   "source": []
  }
 ],
 "metadata": {
  "kernelspec": {
   "display_name": "Python 3",
   "language": "python",
   "name": "python3"
  },
  "language_info": {
   "codemirror_mode": {
    "name": "ipython",
    "version": 3
   },
   "file_extension": ".py",
   "mimetype": "text/x-python",
   "name": "python",
   "nbconvert_exporter": "python",
   "pygments_lexer": "ipython3",
   "version": "3.6.3"
  }
 },
 "nbformat": 4,
 "nbformat_minor": 2
}

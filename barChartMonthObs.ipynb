{
 "cells": [
  {
   "cell_type": "code",
   "execution_count": 1,
   "metadata": {
    "collapsed": true
   },
   "outputs": [],
   "source": [
    "import os\n",
    "import csv\n",
    "import pandas as pd\n",
    "import datetime\n",
    "import plotly.plotly as py\n",
    "import plotly.graph_objs as go\n",
    "import numpy as np"
   ]
  },
  {
   "cell_type": "code",
   "execution_count": 2,
   "metadata": {
    "collapsed": true
   },
   "outputs": [],
   "source": [
    "currentPath = \"C:\\\\Users\\\\sreej\\\\Documents\\\\wisconsin\\\\Fall 2017\\\\CS 799\\\\MODIFIED_SITES_DATA\\\\\"\n",
    "fileSeparator = \"\\\\\"\n",
    "#folders = os.listdir(currentPath + \".\")\n",
    "folders = ['WISCONSIN_SITES']"
   ]
  },
  {
   "cell_type": "code",
   "execution_count": 17,
   "metadata": {},
   "outputs": [],
   "source": [
    "activity_date_frequency = {}\n",
    "count = 1\n",
    "while count<=12:\n",
    "    activity_date_frequency[str(count)] = {}\n",
    "    count = count + 1\n",
    "    \n",
    "def calculateActivityDateFrequency(path):\n",
    "    try:\n",
    "        df=pd.read_csv(path, sep=',', parse_dates=[7])\n",
    "        for index, row in df.iterrows():\n",
    "            date = pd.to_datetime(row['ActivityStartDate'], errors='coerce', format=\"%Y/%m/%d\")\n",
    "            if str(date.month) == \"nan\" or str(date.year) == \"nan\":\n",
    "                continue\n",
    "           # month_year = str(date.month) + \"-\" + str(date.year)\n",
    "            month = str(date.month)\n",
    "            year = str(date.year)\n",
    "           # print(\"Month:\" + month)  \n",
    "            if month in activity_date_frequency:\n",
    "                if year in activity_date_frequency[month]:\n",
    "                    if row['ActivityIdentifier'] not in activity_date_frequency[month][year]:\n",
    "                        activity_date_frequency[month][year].append(row['ActivityIdentifier'])\n",
    "                else:\n",
    "                    activity_date_frequency[month][year]= [];\n",
    "                    activity_date_frequency[month][year].append(row['ActivityIdentifier'])\n",
    "                    \n",
    "                \n",
    "           # print(activity_date_frequency[month])\n",
    "        return 1\n",
    "    except pd.io.common.EmptyDataError:\n",
    "        return 0\n",
    "        #Do nothing"
   ]
  },
  {
   "cell_type": "code",
   "execution_count": 18,
   "metadata": {},
   "outputs": [
    {
     "name": "stdout",
     "output_type": "stream",
     "text": [
      "WISCONSIN_SITES\n",
      "\n",
      ">>>>>>>>>WI_WB_0>>>>>>>>>\n",
      "\n"
     ]
    },
    {
     "name": "stderr",
     "output_type": "stream",
     "text": [
      "C:\\Users\\sreej\\Anaconda3\\lib\\site-packages\\IPython\\core\\interactiveshell.py:2802: DtypeWarning:\n",
      "\n",
      "Columns (6,23,25,26,42,69) have mixed types. Specify dtype option on import or set low_memory=False.\n",
      "\n",
      "C:\\Users\\sreej\\Anaconda3\\lib\\site-packages\\IPython\\core\\interactiveshell.py:2802: DtypeWarning:\n",
      "\n",
      "Columns (6,9,10,11,12,13,21,23,33,34,45,52,53,54,55,57) have mixed types. Specify dtype option on import or set low_memory=False.\n",
      "\n"
     ]
    },
    {
     "name": "stdout",
     "output_type": "stream",
     "text": [
      "\n",
      ">>>>>>>>> CHunk Over >>>>>>>>>\n",
      "\n",
      "\n",
      ">>>>>>>>>WI_WB_1>>>>>>>>>\n",
      "\n"
     ]
    },
    {
     "name": "stderr",
     "output_type": "stream",
     "text": [
      "C:\\Users\\sreej\\Anaconda3\\lib\\site-packages\\IPython\\core\\interactiveshell.py:2802: DtypeWarning:\n",
      "\n",
      "Columns (21,36,38,42,48,58) have mixed types. Specify dtype option on import or set low_memory=False.\n",
      "\n",
      "C:\\Users\\sreej\\Anaconda3\\lib\\site-packages\\IPython\\core\\interactiveshell.py:2802: DtypeWarning:\n",
      "\n",
      "Columns (10,11,12,20,34,48,62,69) have mixed types. Specify dtype option on import or set low_memory=False.\n",
      "\n",
      "C:\\Users\\sreej\\Anaconda3\\lib\\site-packages\\IPython\\core\\interactiveshell.py:2802: DtypeWarning:\n",
      "\n",
      "Columns (10,11,12,20,23,34,45,48,56,57,58,59,61,62,69) have mixed types. Specify dtype option on import or set low_memory=False.\n",
      "\n",
      "C:\\Users\\sreej\\Anaconda3\\lib\\site-packages\\IPython\\core\\interactiveshell.py:2802: DtypeWarning:\n",
      "\n",
      "Columns (69) have mixed types. Specify dtype option on import or set low_memory=False.\n",
      "\n"
     ]
    },
    {
     "name": "stdout",
     "output_type": "stream",
     "text": [
      "\n",
      ">>>>>>>>> CHunk Over >>>>>>>>>\n",
      "\n",
      "\n",
      ">>>>>>>>>WI_WB_10>>>>>>>>>\n",
      "\n"
     ]
    },
    {
     "name": "stderr",
     "output_type": "stream",
     "text": [
      "C:\\Users\\sreej\\Anaconda3\\lib\\site-packages\\IPython\\core\\interactiveshell.py:2802: DtypeWarning:\n",
      "\n",
      "Columns (10,11,12,20,34,45,48,57,69) have mixed types. Specify dtype option on import or set low_memory=False.\n",
      "\n",
      "C:\\Users\\sreej\\Anaconda3\\lib\\site-packages\\IPython\\core\\interactiveshell.py:2802: DtypeWarning:\n",
      "\n",
      "Columns (6,23,25,26,42) have mixed types. Specify dtype option on import or set low_memory=False.\n",
      "\n"
     ]
    },
    {
     "name": "stdout",
     "output_type": "stream",
     "text": [
      "\n",
      ">>>>>>>>> CHunk Over >>>>>>>>>\n",
      "\n",
      "\n",
      ">>>>>>>>>WI_WB_11>>>>>>>>>\n",
      "\n"
     ]
    },
    {
     "name": "stderr",
     "output_type": "stream",
     "text": [
      "C:\\Users\\sreej\\Anaconda3\\lib\\site-packages\\IPython\\core\\interactiveshell.py:2802: DtypeWarning:\n",
      "\n",
      "Columns (21,23,40,42,45) have mixed types. Specify dtype option on import or set low_memory=False.\n",
      "\n",
      "C:\\Users\\sreej\\Anaconda3\\lib\\site-packages\\IPython\\core\\interactiveshell.py:2802: DtypeWarning:\n",
      "\n",
      "Columns (10,11,12,17,19,20,23,34,48,49,56,57,58,59,61,62,69) have mixed types. Specify dtype option on import or set low_memory=False.\n",
      "\n"
     ]
    },
    {
     "name": "stdout",
     "output_type": "stream",
     "text": [
      "\n",
      ">>>>>>>>> CHunk Over >>>>>>>>>\n",
      "\n",
      "\n",
      ">>>>>>>>>WI_WB_2>>>>>>>>>\n",
      "\n"
     ]
    },
    {
     "name": "stderr",
     "output_type": "stream",
     "text": [
      "C:\\Users\\sreej\\Anaconda3\\lib\\site-packages\\IPython\\core\\interactiveshell.py:2802: DtypeWarning:\n",
      "\n",
      "Columns (6,10,11,12,23,25,26,34,42,48,52,57) have mixed types. Specify dtype option on import or set low_memory=False.\n",
      "\n",
      "C:\\Users\\sreej\\Anaconda3\\lib\\site-packages\\IPython\\core\\interactiveshell.py:2802: DtypeWarning:\n",
      "\n",
      "Columns (21,23,25,26,38) have mixed types. Specify dtype option on import or set low_memory=False.\n",
      "\n"
     ]
    },
    {
     "name": "stdout",
     "output_type": "stream",
     "text": [
      "\n",
      ">>>>>>>>> CHunk Over >>>>>>>>>\n",
      "\n",
      "\n",
      ">>>>>>>>>WI_WB_3>>>>>>>>>\n",
      "\n"
     ]
    },
    {
     "name": "stderr",
     "output_type": "stream",
     "text": [
      "C:\\Users\\sreej\\Anaconda3\\lib\\site-packages\\IPython\\core\\interactiveshell.py:2802: DtypeWarning:\n",
      "\n",
      "Columns (23,25,26,42,45) have mixed types. Specify dtype option on import or set low_memory=False.\n",
      "\n",
      "C:\\Users\\sreej\\Anaconda3\\lib\\site-packages\\IPython\\core\\interactiveshell.py:2802: DtypeWarning:\n",
      "\n",
      "Columns (6,10,11,12,17,19,20,21,23,25,26,34,36,38,40,42,48,56,58,59,61) have mixed types. Specify dtype option on import or set low_memory=False.\n",
      "\n"
     ]
    },
    {
     "name": "stdout",
     "output_type": "stream",
     "text": [
      "\n",
      ">>>>>>>>> CHunk Over >>>>>>>>>\n",
      "\n",
      "\n",
      ">>>>>>>>>WI_WB_4>>>>>>>>>\n",
      "\n"
     ]
    },
    {
     "name": "stderr",
     "output_type": "stream",
     "text": [
      "C:\\Users\\sreej\\Anaconda3\\lib\\site-packages\\IPython\\core\\interactiveshell.py:2802: DtypeWarning:\n",
      "\n",
      "Columns (6,10,11,12,14,20,23,25,26,34,42,48,52,56,58,59,61,62,69) have mixed types. Specify dtype option on import or set low_memory=False.\n",
      "\n",
      "C:\\Users\\sreej\\Anaconda3\\lib\\site-packages\\IPython\\core\\interactiveshell.py:2802: DtypeWarning:\n",
      "\n",
      "Columns (10,11,12,20,34,48,69) have mixed types. Specify dtype option on import or set low_memory=False.\n",
      "\n"
     ]
    },
    {
     "name": "stdout",
     "output_type": "stream",
     "text": [
      "\n",
      ">>>>>>>>> CHunk Over >>>>>>>>>\n",
      "\n",
      "\n",
      ">>>>>>>>>WI_WB_5>>>>>>>>>\n",
      "\n"
     ]
    },
    {
     "name": "stderr",
     "output_type": "stream",
     "text": [
      "C:\\Users\\sreej\\Anaconda3\\lib\\site-packages\\IPython\\core\\interactiveshell.py:2802: DtypeWarning:\n",
      "\n",
      "Columns (6,23) have mixed types. Specify dtype option on import or set low_memory=False.\n",
      "\n"
     ]
    },
    {
     "name": "stdout",
     "output_type": "stream",
     "text": [
      "\n",
      ">>>>>>>>> CHunk Over >>>>>>>>>\n",
      "\n",
      "\n",
      ">>>>>>>>>WI_WB_6>>>>>>>>>\n",
      "\n"
     ]
    },
    {
     "name": "stderr",
     "output_type": "stream",
     "text": [
      "C:\\Users\\sreej\\Anaconda3\\lib\\site-packages\\IPython\\core\\interactiveshell.py:2802: DtypeWarning:\n",
      "\n",
      "Columns (21,25,26) have mixed types. Specify dtype option on import or set low_memory=False.\n",
      "\n",
      "C:\\Users\\sreej\\Anaconda3\\lib\\site-packages\\IPython\\core\\interactiveshell.py:2802: DtypeWarning:\n",
      "\n",
      "Columns (6,23,25,26,42,45,69) have mixed types. Specify dtype option on import or set low_memory=False.\n",
      "\n",
      "C:\\Users\\sreej\\Anaconda3\\lib\\site-packages\\IPython\\core\\interactiveshell.py:2802: DtypeWarning:\n",
      "\n",
      "Columns (6,25,26,42,48,69) have mixed types. Specify dtype option on import or set low_memory=False.\n",
      "\n",
      "C:\\Users\\sreej\\Anaconda3\\lib\\site-packages\\IPython\\core\\interactiveshell.py:2802: DtypeWarning:\n",
      "\n",
      "Columns (10,11,12,20,34,48,56,57,58,59,61,62,69) have mixed types. Specify dtype option on import or set low_memory=False.\n",
      "\n",
      "C:\\Users\\sreej\\Anaconda3\\lib\\site-packages\\IPython\\core\\interactiveshell.py:2802: DtypeWarning:\n",
      "\n",
      "Columns (9,12,14,34,45,52,53,54,55,57,69) have mixed types. Specify dtype option on import or set low_memory=False.\n",
      "\n",
      "C:\\Users\\sreej\\Anaconda3\\lib\\site-packages\\IPython\\core\\interactiveshell.py:2802: DtypeWarning:\n",
      "\n",
      "Columns (10,11,12,17,19,20,34,48,49,52,53,54,55,57,59,61,62,69) have mixed types. Specify dtype option on import or set low_memory=False.\n",
      "\n",
      "C:\\Users\\sreej\\Anaconda3\\lib\\site-packages\\IPython\\core\\interactiveshell.py:2802: DtypeWarning:\n",
      "\n",
      "Columns (10,11,12,15,21,34,36,40,45,50,55,69) have mixed types. Specify dtype option on import or set low_memory=False.\n",
      "\n"
     ]
    },
    {
     "name": "stdout",
     "output_type": "stream",
     "text": [
      "\n",
      ">>>>>>>>> CHunk Over >>>>>>>>>\n",
      "\n",
      "\n",
      ">>>>>>>>>WI_WB_7>>>>>>>>>\n",
      "\n"
     ]
    },
    {
     "name": "stderr",
     "output_type": "stream",
     "text": [
      "C:\\Users\\sreej\\Anaconda3\\lib\\site-packages\\IPython\\core\\interactiveshell.py:2802: DtypeWarning:\n",
      "\n",
      "Columns (21,40) have mixed types. Specify dtype option on import or set low_memory=False.\n",
      "\n",
      "C:\\Users\\sreej\\Anaconda3\\lib\\site-packages\\IPython\\core\\interactiveshell.py:2802: DtypeWarning:\n",
      "\n",
      "Columns (6,23,25,26,42,56,59,61) have mixed types. Specify dtype option on import or set low_memory=False.\n",
      "\n"
     ]
    },
    {
     "name": "stdout",
     "output_type": "stream",
     "text": [
      "\n",
      ">>>>>>>>> CHunk Over >>>>>>>>>\n",
      "\n",
      "\n",
      ">>>>>>>>>WI_WB_8>>>>>>>>>\n",
      "\n"
     ]
    },
    {
     "name": "stderr",
     "output_type": "stream",
     "text": [
      "C:\\Users\\sreej\\Anaconda3\\lib\\site-packages\\IPython\\core\\interactiveshell.py:2802: DtypeWarning:\n",
      "\n",
      "Columns (23,41,45) have mixed types. Specify dtype option on import or set low_memory=False.\n",
      "\n",
      "C:\\Users\\sreej\\Anaconda3\\lib\\site-packages\\IPython\\core\\interactiveshell.py:2802: DtypeWarning:\n",
      "\n",
      "Columns (10,11,12,20,23,34,45,48,56,57,59,61,62,69) have mixed types. Specify dtype option on import or set low_memory=False.\n",
      "\n",
      "C:\\Users\\sreej\\Anaconda3\\lib\\site-packages\\IPython\\core\\interactiveshell.py:2802: DtypeWarning:\n",
      "\n",
      "Columns (9,10,11,12,13,21,23,33,34,45,48,52,53,54,55,57) have mixed types. Specify dtype option on import or set low_memory=False.\n",
      "\n"
     ]
    },
    {
     "name": "stdout",
     "output_type": "stream",
     "text": [
      "\n",
      ">>>>>>>>> CHunk Over >>>>>>>>>\n",
      "\n",
      "\n",
      ">>>>>>>>>WI_WB_9>>>>>>>>>\n",
      "\n",
      "\n",
      ">>>>>>>>> CHunk Over >>>>>>>>>\n",
      "\n"
     ]
    }
   ],
   "source": [
    "for folder in folders:\n",
    "    if os.path.isdir(currentPath + folder):\n",
    "        print(folder)\n",
    "        wbchunksFolderPath = currentPath + folder + fileSeparator + \"WB_CHUNKS\" + fileSeparator\n",
    "        wbchunks = os.listdir(wbchunksFolderPath + \".\")\n",
    "        #wbchunks = [\"WI_WB_5\"]\n",
    "        for chunk in wbchunks:\n",
    "            print(\"\\n>>>>>>>>>\" + chunk + \">>>>>>>>>\\n\")\n",
    "            directory = wbchunksFolderPath + chunk + fileSeparator + \"SITES\" + fileSeparator\n",
    "            wbfiles = os.listdir(directory + \".\")\n",
    "            for file in wbfiles:\n",
    "                if file.endswith(\".csv\"):\n",
    "                    absPath = os.path.abspath(os.path.join(directory, file))\n",
    "                    calculateActivityDateFrequency(absPath)\n",
    "            print(\"\\n>>>>>>>>> CHunk Over >>>>>>>>>\\n\")"
   ]
  },
  {
   "cell_type": "code",
   "execution_count": 28,
   "metadata": {
    "scrolled": true
   },
   "outputs": [
    {
     "name": "stdout",
     "output_type": "stream",
     "text": [
      "{'1': [6, 78, 54, 75, 97, 6, 6, 5, 80, 108, 70, 97, 104, 102, 71, 25, 121, 156, 159, 239, 513, 227, 380, 250, 63, 179, 10, 148, 75, 165, 210, 92, 78, 3, 142, 24, 20, 13, 87, 72, 54, 1, 2, 2, 1, 2, 2, 2, 2, 2, 2, 2, 13], '2': [856, 719, 244, 388, 617, 480, 1018, 413, 643, 543, 673, 668, 486, 258, 11, 213, 220, 462, 358, 9, 24, 142, 109, 651, 552, 332, 385, 14, 344, 293, 116, 415, 232, 519, 147, 217, 304, 58, 22, 7, 4, 4, 1, 1, 2, 2, 4, 2, 2, 4, 2, 2, 2, 3], '3': [183, 226, 214, 484, 99, 20, 12, 681, 518, 398, 427, 309, 435, 311, 345, 235, 16, 8, 227, 566, 5, 293, 50, 186, 614, 659, 261, 285, 84, 617, 216, 639, 66, 99, 169, 7, 59, 66, 17, 13, 62, 9, 19, 2, 2, 2, 2, 2, 2, 2, 2, 26], '4': [1471, 1099, 1717, 1139, 1930, 1185, 1623, 442, 1283, 792, 709, 1402, 901, 1061, 449, 714, 879, 1257, 784, 886, 1510, 1294, 1204, 1357, 902, 1118, 606, 1117, 645, 346, 480, 36, 210, 263, 911, 115, 13, 8, 4, 2, 2, 1, 1, 3, 1, 2, 2, 2, 2, 2, 2, 2, 2, 2, 2, 21, 3, 3], '5': [2287, 2525, 2323, 2575, 3297, 2723, 2589, 2686, 3247, 3866, 2218, 2862, 2035, 1830, 1489, 2245, 1793, 577, 692, 886, 1310, 2113, 1298, 1876, 2035, 1546, 1812, 1603, 1720, 1528, 1036, 8, 383, 280, 41, 50, 42, 15, 10, 102, 237, 97, 309, 94, 29, 1, 2, 2, 2, 2, 2, 2, 13, 9, 1], '6': [3719, 3613, 3830, 4174, 4622, 4724, 4572, 5101, 6035, 5143, 2564, 3179, 2833, 4106, 4287, 2146, 2938, 3443, 3191, 2691, 299, 3838, 3158, 660, 918, 1260, 1746, 1914, 3162, 3065, 3130, 2851, 2844, 16, 139, 494, 105, 375, 6, 223, 31, 87, 115, 53, 5, 3, 237, 129, 2, 9, 1, 2, 2, 2, 2, 2, 4, 2, 2, 2, 3, 37, 12, 8, 2], '7': [4132, 3936, 4532, 4993, 5083, 5098, 4820, 5598, 6581, 6235, 2999, 3244, 4008, 3268, 4087, 3524, 3175, 3294, 3533, 4131, 3710, 3970, 3539, 998, 1146, 1758, 2144, 2346, 3638, 3774, 3372, 2509, 37, 44, 145, 444, 98, 394, 60, 117, 82, 156, 411, 249, 4, 344, 12, 3, 1, 2, 2, 2, 4, 1, 2, 2, 2, 2, 2, 3, 3, 2, 1, 3, 1, 2], '8': [4278, 4003, 4769, 4850, 5069, 5129, 5095, 5488, 5533, 5282, 3917, 2677, 3449, 3647, 3054, 4456, 3849, 1711, 3729, 3354, 4633, 3966, 3502, 3296, 936, 963, 1938, 1911, 2389, 3225, 3308, 4293, 21, 39, 223, 555, 78, 423, 103, 274, 168, 87, 140, 169, 361, 2, 1, 9, 2, 2, 2, 2, 2, 14, 2, 2, 8, 2], '9': [2609, 2753, 2876, 2843, 4112, 3043, 2697, 3008, 3683, 3698, 2105, 2005, 2180, 2577, 2106, 2030, 2625, 2139, 2241, 1709, 1793, 1700, 519, 639, 717, 1083, 1340, 1548, 1745, 1760, 1599, 311, 55, 320, 34, 116, 172, 144, 41, 110, 287, 39, 9, 229, 113, 17, 1, 2, 1, 1, 2, 2, 2, 2, 3, 2, 2, 2, 5], '10': [1549, 1780, 1595, 1630, 1298, 1585, 1538, 1763, 1347, 841, 1538, 791, 997, 971, 1120, 1383, 1322, 1506, 1032, 919, 1154, 1191, 332, 409, 538, 606, 745, 1038, 1211, 1439, 14, 15, 28, 15, 1326, 170, 19, 159, 10, 114, 146, 5, 1, 9, 1, 1, 2, 2, 2, 2, 2, 2, 4, 4, 3, 9, 2, 3], '11': [66, 178, 379, 393, 409, 306, 244, 189, 353, 200, 197, 160, 271, 10, 95, 118, 347, 3, 9, 345, 321, 206, 393, 301, 230, 140, 241, 178, 235, 155, 180, 50, 416, 176, 76, 4, 59, 67, 32, 9, 114, 15, 2, 2, 2, 2, 2, 2, 2, 2, 2, 2, 2, 2], '12': [110, 6, 3, 45, 32, 19, 30, 43, 21, 35, 16, 20, 86, 3, 111, 118, 149, 81, 38, 52, 34, 9, 5, 25, 9, 5, 13, 7, 60, 54, 8, 61, 26, 61, 10, 95, 4, 2, 1, 2, 2, 2, 2, 2, 2, 2, 2, 3, 2, 5, 7]}\n",
      "Key:1\n",
      "[6, 78, 54, 75, 97, 6, 6, 5, 80, 108, 70, 97, 104, 102, 71, 25, 121, 156, 159, 239, 513, 227, 380, 250, 63, 179, 10, 148, 75, 165, 210, 92, 78, 3, 142, 24, 20, 13, 87, 72, 54, 1, 2, 2, 1, 2, 2, 2, 2, 2, 2, 2, 13]\n",
      "Key:2\n",
      "[856, 719, 244, 388, 617, 480, 1018, 413, 643, 543, 673, 668, 486, 258, 11, 213, 220, 462, 358, 9, 24, 142, 109, 651, 552, 332, 385, 14, 344, 293, 116, 415, 232, 519, 147, 217, 304, 58, 22, 7, 4, 4, 1, 1, 2, 2, 4, 2, 2, 4, 2, 2, 2, 3]\n",
      "Key:3\n",
      "[183, 226, 214, 484, 99, 20, 12, 681, 518, 398, 427, 309, 435, 311, 345, 235, 16, 8, 227, 566, 5, 293, 50, 186, 614, 659, 261, 285, 84, 617, 216, 639, 66, 99, 169, 7, 59, 66, 17, 13, 62, 9, 19, 2, 2, 2, 2, 2, 2, 2, 2, 26]\n",
      "Key:4\n",
      "[1471, 1099, 1717, 1139, 1930, 1185, 1623, 442, 1283, 792, 709, 1402, 901, 1061, 449, 714, 879, 1257, 784, 886, 1510, 1294, 1204, 1357, 902, 1118, 606, 1117, 645, 346, 480, 36, 210, 263, 911, 115, 13, 8, 4, 2, 2, 1, 1, 3, 1, 2, 2, 2, 2, 2, 2, 2, 2, 2, 2, 21, 3, 3]\n",
      "Key:5\n",
      "[2287, 2525, 2323, 2575, 3297, 2723, 2589, 2686, 3247, 3866, 2218, 2862, 2035, 1830, 1489, 2245, 1793, 577, 692, 886, 1310, 2113, 1298, 1876, 2035, 1546, 1812, 1603, 1720, 1528, 1036, 8, 383, 280, 41, 50, 42, 15, 10, 102, 237, 97, 309, 94, 29, 1, 2, 2, 2, 2, 2, 2, 13, 9, 1]\n",
      "Key:6\n",
      "[3719, 3613, 3830, 4174, 4622, 4724, 4572, 5101, 6035, 5143, 2564, 3179, 2833, 4106, 4287, 2146, 2938, 3443, 3191, 2691, 299, 3838, 3158, 660, 918, 1260, 1746, 1914, 3162, 3065, 3130, 2851, 2844, 16, 139, 494, 105, 375, 6, 223, 31, 87, 115, 53, 5, 3, 237, 129, 2, 9, 1, 2, 2, 2, 2, 2, 4, 2, 2, 2, 3, 37, 12, 8, 2]\n",
      "Key:7\n",
      "[4132, 3936, 4532, 4993, 5083, 5098, 4820, 5598, 6581, 6235, 2999, 3244, 4008, 3268, 4087, 3524, 3175, 3294, 3533, 4131, 3710, 3970, 3539, 998, 1146, 1758, 2144, 2346, 3638, 3774, 3372, 2509, 37, 44, 145, 444, 98, 394, 60, 117, 82, 156, 411, 249, 4, 344, 12, 3, 1, 2, 2, 2, 4, 1, 2, 2, 2, 2, 2, 3, 3, 2, 1, 3, 1, 2]\n",
      "Key:8\n",
      "[4278, 4003, 4769, 4850, 5069, 5129, 5095, 5488, 5533, 5282, 3917, 2677, 3449, 3647, 3054, 4456, 3849, 1711, 3729, 3354, 4633, 3966, 3502, 3296, 936, 963, 1938, 1911, 2389, 3225, 3308, 4293, 21, 39, 223, 555, 78, 423, 103, 274, 168, 87, 140, 169, 361, 2, 1, 9, 2, 2, 2, 2, 2, 14, 2, 2, 8, 2]\n",
      "Key:9\n",
      "[2609, 2753, 2876, 2843, 4112, 3043, 2697, 3008, 3683, 3698, 2105, 2005, 2180, 2577, 2106, 2030, 2625, 2139, 2241, 1709, 1793, 1700, 519, 639, 717, 1083, 1340, 1548, 1745, 1760, 1599, 311, 55, 320, 34, 116, 172, 144, 41, 110, 287, 39, 9, 229, 113, 17, 1, 2, 1, 1, 2, 2, 2, 2, 3, 2, 2, 2, 5]\n",
      "Key:10\n",
      "[1549, 1780, 1595, 1630, 1298, 1585, 1538, 1763, 1347, 841, 1538, 791, 997, 971, 1120, 1383, 1322, 1506, 1032, 919, 1154, 1191, 332, 409, 538, 606, 745, 1038, 1211, 1439, 14, 15, 28, 15, 1326, 170, 19, 159, 10, 114, 146, 5, 1, 9, 1, 1, 2, 2, 2, 2, 2, 2, 4, 4, 3, 9, 2, 3]\n",
      "Key:11\n",
      "[66, 178, 379, 393, 409, 306, 244, 189, 353, 200, 197, 160, 271, 10, 95, 118, 347, 3, 9, 345, 321, 206, 393, 301, 230, 140, 241, 178, 235, 155, 180, 50, 416, 176, 76, 4, 59, 67, 32, 9, 114, 15, 2, 2, 2, 2, 2, 2, 2, 2, 2, 2, 2, 2]\n",
      "Key:12\n",
      "[110, 6, 3, 45, 32, 19, 30, 43, 21, 35, 16, 20, 86, 3, 111, 118, 149, 81, 38, 52, 34, 9, 5, 25, 9, 5, 13, 7, 60, 54, 8, 61, 26, 61, 10, 95, 4, 2, 1, 2, 2, 2, 2, 2, 2, 2, 2, 3, 2, 5, 7]\n",
      "[84.84905660377359, 262.90740740740739, 197.13461538461539, 584.81034482758616, 1170.090909090909, 1659.5076923076922, 1845.6363636363637, 2075.6896551724139, 1178.0677966101696, 642.0344827586207, 146.18518518518519, 30.196078431372548]\n",
      "[71.0, 218.5, 99.0, 464.5, 1036.0, 494.0, 427.5, 1811.0, 639.0, 473.5, 129.0, 13.0]\n",
      "[78.84905660377359, 258.15740740740739, 184.38461538461539, 582.56034482758616, 1135.090909090909, 1651.5076923076922, 1842.6363636363637, 2026.9396551724139, 1152.5677966101696, 636.0344827586207, 140.93518518518519, 27.196078431372548]\n",
      "[23.15094339622641, 187.34259259259261, 112.36538461538461, 527.68965517241384, 903.90909090909099, 1502.4923076923078, 1767.6136363636363, 1824.3103448275861, 944.43220338983042, 634.2155172413793, 93.31481481481481, 13.803921568627452]\n"
     ]
    }
   ],
   "source": [
    "means = []\n",
    "medians = []\n",
    "p25 = []\n",
    "p75 = []\n",
    "new_frequency = {}\n",
    "#lessThan500Obs = []\n",
    "#activity_date_frequency = {\"10-2012\": [\"121\",\"2222\",\"324\"], \"11-2012\":[\"313\",\"009\"], \"9-2012\": [\"105\",\"7656\",\"323\", \"4445\",\"1\"]}\n",
    "for key, val in activity_date_frequency.items():\n",
    "   \n",
    "    freq = [];\n",
    "    for k,v in val.items():\n",
    "        freq.append(len(v))\n",
    "    new_frequency[key] = freq\n",
    "    \n",
    "print(new_frequency)\n",
    "\n",
    "for key, val in new_frequency.items():\n",
    "    print(\"Key:\" + str(key))\n",
    "    print(val)\n",
    "    if len(val) > 0:\n",
    "        m = np.mean(val)\n",
    "        means.append(m)\n",
    "        a = np.array(val)\n",
    "        p3 =  np.percentile(a, 50)\n",
    "        medians.append(p3)\n",
    "        p1 = np.percentile(a, 25)\n",
    "        p25.append(m-p1)\n",
    "        p2 =  np.percentile(a, 75)\n",
    "        p75.append(p2-m)\n",
    "        \n",
    "    if key == \"nan\":\n",
    "        print(\"########################NAN############\")\n",
    "        \n",
    "print(means)\n",
    "print(medians)\n",
    "print(p25)\n",
    "print(p75)"
   ]
  },
  {
   "cell_type": "code",
   "execution_count": 29,
   "metadata": {},
   "outputs": [
    {
     "data": {
      "text/html": [
       "<iframe id=\"igraph\" scrolling=\"no\" style=\"border:none;\" seamless=\"seamless\" src=\"https://plot.ly/~sdutta7/10.embed\" height=\"525px\" width=\"100%\"></iframe>"
      ],
      "text/plain": [
       "<plotly.tools.PlotlyDisplay object>"
      ]
     },
     "execution_count": 29,
     "metadata": {},
     "output_type": "execute_result"
    }
   ],
   "source": [
    "data = [go.Bar(\n",
    "            x=['Jan', 'Feb', 'Mar', 'Apr', 'May', 'Jun', 'Jul', 'Aug', 'Sep', 'Oct', 'Nov', 'Dec'],\n",
    "            y=means,\n",
    "            error_y=dict(\n",
    "                    type='data',\n",
    "                    symmetric=False,\n",
    "                    array=p75,\n",
    "                    arrayminus=p25,\n",
    "                    visible=True\n",
    "                )\n",
    "    )]\n",
    "\n",
    "py.iplot(data, filename='bar')\n"
   ]
  },
  {
   "cell_type": "code",
   "execution_count": null,
   "metadata": {
    "collapsed": true
   },
   "outputs": [],
   "source": []
  }
 ],
 "metadata": {
  "kernelspec": {
   "display_name": "Python 3",
   "language": "python",
   "name": "python3"
  },
  "language_info": {
   "codemirror_mode": {
    "name": "ipython",
    "version": 3
   },
   "file_extension": ".py",
   "mimetype": "text/x-python",
   "name": "python",
   "nbconvert_exporter": "python",
   "pygments_lexer": "ipython3",
   "version": "3.6.3"
  }
 },
 "nbformat": 4,
 "nbformat_minor": 2
}
